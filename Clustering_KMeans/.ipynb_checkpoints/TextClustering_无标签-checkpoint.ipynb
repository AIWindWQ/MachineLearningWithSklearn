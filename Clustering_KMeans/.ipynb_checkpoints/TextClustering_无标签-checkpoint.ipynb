{
 "cells": [
  {
   "cell_type": "code",
   "execution_count": 1,
   "metadata": {},
   "outputs": [],
   "source": [
    "import jieba\n",
    "from sklearn.feature_extraction.text import TfidfVectorizer\n",
    "from sklearn.cluster import KMeans"
   ]
  },
  {
   "cell_type": "code",
   "execution_count": 2,
   "metadata": {},
   "outputs": [],
   "source": [
    "def jieba_tokenize(text):\n",
    "    return jieba.lcut(text)"
   ]
  },
  {
   "cell_type": "code",
   "execution_count": 3,
   "metadata": {
    "scrolled": true
   },
   "outputs": [
    {
     "name": "stderr",
     "output_type": "stream",
     "text": [
      "Building prefix dict from the default dictionary ...\n",
      "Dumping model to file cache C:\\Users\\MSWQPC\\AppData\\Local\\Temp\\jieba.cache\n",
      "Loading model cost 1.872 seconds.\n",
      "Prefix dict has been built successfully.\n"
     ]
    }
   ],
   "source": [
    "tfidf_vectorizer = TfidfVectorizer(tokenizer=jieba_tokenize, lowercase=False)\n",
    "\"\"\"\n",
    "tokenizer:指定分词函数\n",
    "lowercase:在分词之前将所有的文本转换成小写，由于是中文处理，所以不需要这一步，\n",
    "设置该参数为False\n",
    "\"\"\"\n",
    "text_list = [\"我喜欢自然语言处理\", \"明天去跑步\", \"从事机器学习与自然语言处理工作\",\n",
    "            \"我得到了工作\", \"跑步与打篮球\"]\n",
    "# 需要进行聚类的语料库\n",
    "tfidf_matrix = tfidf_vectorizer.fit_transform(text_list)"
   ]
  },
  {
   "cell_type": "code",
   "execution_count": 5,
   "metadata": {},
   "outputs": [
    {
     "data": {
      "text/plain": [
       "array([[0.        , 0.        , 0.        , 0.        , 0.5819515 ,\n",
       "        0.4695148 , 0.        , 0.        , 0.        , 0.4695148 ,\n",
       "        0.        , 0.        , 0.        , 0.4695148 , 0.        ],\n",
       "       [0.        , 0.        , 0.        , 0.61418897, 0.        ,\n",
       "        0.        , 0.        , 0.        , 0.        , 0.        ,\n",
       "        0.        , 0.61418897, 0.        , 0.        , 0.49552379],\n",
       "       [0.34082108, 0.        , 0.42243894, 0.        , 0.        ,\n",
       "        0.34082108, 0.42243894, 0.34082108, 0.        , 0.        ,\n",
       "        0.        , 0.        , 0.42243894, 0.34082108, 0.        ],\n",
       "       [0.        , 0.55032913, 0.        , 0.        , 0.        ,\n",
       "        0.        , 0.        , 0.44400208, 0.55032913, 0.44400208,\n",
       "        0.        , 0.        , 0.        , 0.        , 0.        ],\n",
       "       [0.53177225, 0.        , 0.        , 0.        , 0.        ,\n",
       "        0.        , 0.        , 0.        , 0.        , 0.        ,\n",
       "        0.659118  , 0.        , 0.        , 0.        , 0.53177225]])"
      ]
     },
     "execution_count": 5,
     "metadata": {},
     "output_type": "execute_result"
    }
   ],
   "source": [
    "tfidf_matrix.toarray()"
   ]
  },
  {
   "cell_type": "code",
   "execution_count": 7,
   "metadata": {},
   "outputs": [
    {
     "name": "stdout",
     "output_type": "stream",
     "text": [
      "[0 1 0 0 1]\n"
     ]
    }
   ],
   "source": [
    "num_clusters = 2\n",
    "km_cluster = KMeans(n_clusters=num_clusters, max_iter=300,\n",
    "                   init=\"k-means++\", n_jobs=-1)\n",
    "###参数说明###\n",
    "\"\"\"\n",
    "n_clusters：指定需要的簇数\n",
    "max_iter：对于单次初始值计算的最大迭代次数\n",
    "init：指定初始值选择的算法，默认为“k-means++”\n",
    "n_jobs：进程个数，-1表示使用所有的cpu资源\n",
    "\"\"\"\n",
    "# 返回每个文本所被分配到的簇的索引\n",
    "result = km_cluster.fit_predict(tfidf_matrix)\n",
    "print(result)"
   ]
  },
  {
   "cell_type": "markdown",
   "metadata": {},
   "source": [
    "### 保存模型"
   ]
  },
  {
   "cell_type": "code",
   "execution_count": 10,
   "metadata": {},
   "outputs": [
    {
     "data": {
      "text/plain": [
       "['km_cluster_fit_result.pkl']"
      ]
     },
     "execution_count": 10,
     "metadata": {},
     "output_type": "execute_result"
    }
   ],
   "source": [
    "from sklearn.externals import joblib\n",
    "joblib.dump(tfidf_vectorizer, \"tfidf_fit_result.pkl\")\n",
    "joblib.dump(km_cluster, \"km_cluster_fit_result.pkl\")"
   ]
  },
  {
   "cell_type": "code",
   "execution_count": 11,
   "metadata": {},
   "outputs": [],
   "source": [
    "# 载入模型\n",
    "tfidf_vectorizer = joblib.load(\"tfidf_fit_result.pkl\")\n",
    "km_cluster = joblib.load(\"km_cluster_fit_result.pkl\")"
   ]
  },
  {
   "cell_type": "code",
   "execution_count": 12,
   "metadata": {},
   "outputs": [
    {
     "data": {
      "text/plain": [
       "KMeans(algorithm='auto', copy_x=True, init='k-means++', max_iter=300,\n",
       "       n_clusters=2, n_init=10, n_jobs=-1, precompute_distances='auto',\n",
       "       random_state=None, tol=0.0001, verbose=0)"
      ]
     },
     "execution_count": 12,
     "metadata": {},
     "output_type": "execute_result"
    }
   ],
   "source": [
    "km_cluster"
   ]
  }
 ],
 "metadata": {
  "kernelspec": {
   "display_name": "Python 3",
   "language": "python",
   "name": "python3"
  },
  "language_info": {
   "codemirror_mode": {
    "name": "ipython",
    "version": 3
   },
   "file_extension": ".py",
   "mimetype": "text/x-python",
   "name": "python",
   "nbconvert_exporter": "python",
   "pygments_lexer": "ipython3",
   "version": "3.7.7"
  }
 },
 "nbformat": 4,
 "nbformat_minor": 4
}
