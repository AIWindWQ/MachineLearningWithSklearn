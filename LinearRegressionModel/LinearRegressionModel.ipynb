{
 "cells": [
  {
   "cell_type": "code",
   "execution_count": 1,
   "metadata": {},
   "outputs": [],
   "source": [
    "from sklearn.linear_model import LinearRegression as LR\n",
    "from sklearn.model_selection import train_test_split\n",
    "from sklearn.model_selection import cross_val_score\n",
    "from sklearn.datasets import fetch_california_housing as fch    # 导入加利福尼亚房屋价值数据集\n",
    "import pandas as pd"
   ]
  },
  {
   "cell_type": "code",
   "execution_count": 2,
   "metadata": {},
   "outputs": [
    {
     "name": "stderr",
     "output_type": "stream",
     "text": [
      "Downloading Cal. housing from https://ndownloader.figshare.com/files/5976036 to C:\\Users\\MSWQPC\\scikit_learn_data\n"
     ]
    }
   ],
   "source": [
    "housevalue = fch()    # 获取数据集"
   ]
  },
  {
   "cell_type": "code",
   "execution_count": 3,
   "metadata": {},
   "outputs": [
    {
     "data": {
      "text/plain": [
       "array([[   8.3252    ,   41.        ,    6.98412698, ...,    2.55555556,\n",
       "          37.88      , -122.23      ],\n",
       "       [   8.3014    ,   21.        ,    6.23813708, ...,    2.10984183,\n",
       "          37.86      , -122.22      ],\n",
       "       [   7.2574    ,   52.        ,    8.28813559, ...,    2.80225989,\n",
       "          37.85      , -122.24      ],\n",
       "       ...,\n",
       "       [   1.7       ,   17.        ,    5.20554273, ...,    2.3256351 ,\n",
       "          39.43      , -121.22      ],\n",
       "       [   1.8672    ,   18.        ,    5.32951289, ...,    2.12320917,\n",
       "          39.43      , -121.32      ],\n",
       "       [   2.3886    ,   16.        ,    5.25471698, ...,    2.61698113,\n",
       "          39.37      , -121.24      ]])"
      ]
     },
     "execution_count": 3,
     "metadata": {},
     "output_type": "execute_result"
    }
   ],
   "source": [
    "housevalue.data"
   ]
  },
  {
   "cell_type": "code",
   "execution_count": 4,
   "metadata": {},
   "outputs": [],
   "source": [
    "X = pd.DataFrame(housevalue.data)    # 放入DataFrame中便于查看"
   ]
  },
  {
   "cell_type": "code",
   "execution_count": 5,
   "metadata": {},
   "outputs": [
    {
     "data": {
      "text/plain": [
       "(20640, 8)"
      ]
     },
     "execution_count": 5,
     "metadata": {},
     "output_type": "execute_result"
    }
   ],
   "source": [
    "X.shape     # 共20640个房屋数据，每条数据8个特征"
   ]
  },
  {
   "cell_type": "code",
   "execution_count": 6,
   "metadata": {},
   "outputs": [
    {
     "data": {
      "text/html": [
       "<div>\n",
       "<style scoped>\n",
       "    .dataframe tbody tr th:only-of-type {\n",
       "        vertical-align: middle;\n",
       "    }\n",
       "\n",
       "    .dataframe tbody tr th {\n",
       "        vertical-align: top;\n",
       "    }\n",
       "\n",
       "    .dataframe thead th {\n",
       "        text-align: right;\n",
       "    }\n",
       "</style>\n",
       "<table border=\"1\" class=\"dataframe\">\n",
       "  <thead>\n",
       "    <tr style=\"text-align: right;\">\n",
       "      <th></th>\n",
       "      <th>0</th>\n",
       "      <th>1</th>\n",
       "      <th>2</th>\n",
       "      <th>3</th>\n",
       "      <th>4</th>\n",
       "      <th>5</th>\n",
       "      <th>6</th>\n",
       "      <th>7</th>\n",
       "    </tr>\n",
       "  </thead>\n",
       "  <tbody>\n",
       "    <tr>\n",
       "      <th>0</th>\n",
       "      <td>8.3252</td>\n",
       "      <td>41.0</td>\n",
       "      <td>6.984127</td>\n",
       "      <td>1.023810</td>\n",
       "      <td>322.0</td>\n",
       "      <td>2.555556</td>\n",
       "      <td>37.88</td>\n",
       "      <td>-122.23</td>\n",
       "    </tr>\n",
       "    <tr>\n",
       "      <th>1</th>\n",
       "      <td>8.3014</td>\n",
       "      <td>21.0</td>\n",
       "      <td>6.238137</td>\n",
       "      <td>0.971880</td>\n",
       "      <td>2401.0</td>\n",
       "      <td>2.109842</td>\n",
       "      <td>37.86</td>\n",
       "      <td>-122.22</td>\n",
       "    </tr>\n",
       "    <tr>\n",
       "      <th>2</th>\n",
       "      <td>7.2574</td>\n",
       "      <td>52.0</td>\n",
       "      <td>8.288136</td>\n",
       "      <td>1.073446</td>\n",
       "      <td>496.0</td>\n",
       "      <td>2.802260</td>\n",
       "      <td>37.85</td>\n",
       "      <td>-122.24</td>\n",
       "    </tr>\n",
       "    <tr>\n",
       "      <th>3</th>\n",
       "      <td>5.6431</td>\n",
       "      <td>52.0</td>\n",
       "      <td>5.817352</td>\n",
       "      <td>1.073059</td>\n",
       "      <td>558.0</td>\n",
       "      <td>2.547945</td>\n",
       "      <td>37.85</td>\n",
       "      <td>-122.25</td>\n",
       "    </tr>\n",
       "    <tr>\n",
       "      <th>4</th>\n",
       "      <td>3.8462</td>\n",
       "      <td>52.0</td>\n",
       "      <td>6.281853</td>\n",
       "      <td>1.081081</td>\n",
       "      <td>565.0</td>\n",
       "      <td>2.181467</td>\n",
       "      <td>37.85</td>\n",
       "      <td>-122.25</td>\n",
       "    </tr>\n",
       "    <tr>\n",
       "      <th>...</th>\n",
       "      <td>...</td>\n",
       "      <td>...</td>\n",
       "      <td>...</td>\n",
       "      <td>...</td>\n",
       "      <td>...</td>\n",
       "      <td>...</td>\n",
       "      <td>...</td>\n",
       "      <td>...</td>\n",
       "    </tr>\n",
       "    <tr>\n",
       "      <th>20635</th>\n",
       "      <td>1.5603</td>\n",
       "      <td>25.0</td>\n",
       "      <td>5.045455</td>\n",
       "      <td>1.133333</td>\n",
       "      <td>845.0</td>\n",
       "      <td>2.560606</td>\n",
       "      <td>39.48</td>\n",
       "      <td>-121.09</td>\n",
       "    </tr>\n",
       "    <tr>\n",
       "      <th>20636</th>\n",
       "      <td>2.5568</td>\n",
       "      <td>18.0</td>\n",
       "      <td>6.114035</td>\n",
       "      <td>1.315789</td>\n",
       "      <td>356.0</td>\n",
       "      <td>3.122807</td>\n",
       "      <td>39.49</td>\n",
       "      <td>-121.21</td>\n",
       "    </tr>\n",
       "    <tr>\n",
       "      <th>20637</th>\n",
       "      <td>1.7000</td>\n",
       "      <td>17.0</td>\n",
       "      <td>5.205543</td>\n",
       "      <td>1.120092</td>\n",
       "      <td>1007.0</td>\n",
       "      <td>2.325635</td>\n",
       "      <td>39.43</td>\n",
       "      <td>-121.22</td>\n",
       "    </tr>\n",
       "    <tr>\n",
       "      <th>20638</th>\n",
       "      <td>1.8672</td>\n",
       "      <td>18.0</td>\n",
       "      <td>5.329513</td>\n",
       "      <td>1.171920</td>\n",
       "      <td>741.0</td>\n",
       "      <td>2.123209</td>\n",
       "      <td>39.43</td>\n",
       "      <td>-121.32</td>\n",
       "    </tr>\n",
       "    <tr>\n",
       "      <th>20639</th>\n",
       "      <td>2.3886</td>\n",
       "      <td>16.0</td>\n",
       "      <td>5.254717</td>\n",
       "      <td>1.162264</td>\n",
       "      <td>1387.0</td>\n",
       "      <td>2.616981</td>\n",
       "      <td>39.37</td>\n",
       "      <td>-121.24</td>\n",
       "    </tr>\n",
       "  </tbody>\n",
       "</table>\n",
       "<p>20640 rows × 8 columns</p>\n",
       "</div>"
      ],
      "text/plain": [
       "            0     1         2         3       4         5      6       7\n",
       "0      8.3252  41.0  6.984127  1.023810   322.0  2.555556  37.88 -122.23\n",
       "1      8.3014  21.0  6.238137  0.971880  2401.0  2.109842  37.86 -122.22\n",
       "2      7.2574  52.0  8.288136  1.073446   496.0  2.802260  37.85 -122.24\n",
       "3      5.6431  52.0  5.817352  1.073059   558.0  2.547945  37.85 -122.25\n",
       "4      3.8462  52.0  6.281853  1.081081   565.0  2.181467  37.85 -122.25\n",
       "...       ...   ...       ...       ...     ...       ...    ...     ...\n",
       "20635  1.5603  25.0  5.045455  1.133333   845.0  2.560606  39.48 -121.09\n",
       "20636  2.5568  18.0  6.114035  1.315789   356.0  3.122807  39.49 -121.21\n",
       "20637  1.7000  17.0  5.205543  1.120092  1007.0  2.325635  39.43 -121.22\n",
       "20638  1.8672  18.0  5.329513  1.171920   741.0  2.123209  39.43 -121.32\n",
       "20639  2.3886  16.0  5.254717  1.162264  1387.0  2.616981  39.37 -121.24\n",
       "\n",
       "[20640 rows x 8 columns]"
      ]
     },
     "execution_count": 6,
     "metadata": {},
     "output_type": "execute_result"
    }
   ],
   "source": [
    "X"
   ]
  },
  {
   "cell_type": "code",
   "execution_count": 7,
   "metadata": {},
   "outputs": [],
   "source": [
    "y = housevalue.target"
   ]
  },
  {
   "cell_type": "code",
   "execution_count": 8,
   "metadata": {},
   "outputs": [
    {
     "data": {
      "text/plain": [
       "0.14999"
      ]
     },
     "execution_count": 8,
     "metadata": {},
     "output_type": "execute_result"
    }
   ],
   "source": [
    "y.min()"
   ]
  },
  {
   "cell_type": "code",
   "execution_count": 9,
   "metadata": {},
   "outputs": [
    {
     "data": {
      "text/plain": [
       "5.00001"
      ]
     },
     "execution_count": 9,
     "metadata": {},
     "output_type": "execute_result"
    }
   ],
   "source": [
    "y.max()"
   ]
  },
  {
   "cell_type": "code",
   "execution_count": 10,
   "metadata": {},
   "outputs": [
    {
     "data": {
      "text/plain": [
       "array([4.526, 3.585, 3.521, ..., 0.923, 0.847, 0.894])"
      ]
     },
     "execution_count": 10,
     "metadata": {},
     "output_type": "execute_result"
    }
   ],
   "source": [
    "y"
   ]
  },
  {
   "cell_type": "code",
   "execution_count": 11,
   "metadata": {},
   "outputs": [
    {
     "data": {
      "text/plain": [
       "(20640,)"
      ]
     },
     "execution_count": 11,
     "metadata": {},
     "output_type": "execute_result"
    }
   ],
   "source": [
    "y.shape"
   ]
  },
  {
   "cell_type": "code",
   "execution_count": 12,
   "metadata": {},
   "outputs": [
    {
     "data": {
      "text/html": [
       "<div>\n",
       "<style scoped>\n",
       "    .dataframe tbody tr th:only-of-type {\n",
       "        vertical-align: middle;\n",
       "    }\n",
       "\n",
       "    .dataframe tbody tr th {\n",
       "        vertical-align: top;\n",
       "    }\n",
       "\n",
       "    .dataframe thead th {\n",
       "        text-align: right;\n",
       "    }\n",
       "</style>\n",
       "<table border=\"1\" class=\"dataframe\">\n",
       "  <thead>\n",
       "    <tr style=\"text-align: right;\">\n",
       "      <th></th>\n",
       "      <th>0</th>\n",
       "      <th>1</th>\n",
       "      <th>2</th>\n",
       "      <th>3</th>\n",
       "      <th>4</th>\n",
       "      <th>5</th>\n",
       "      <th>6</th>\n",
       "      <th>7</th>\n",
       "    </tr>\n",
       "  </thead>\n",
       "  <tbody>\n",
       "    <tr>\n",
       "      <th>0</th>\n",
       "      <td>8.3252</td>\n",
       "      <td>41.0</td>\n",
       "      <td>6.984127</td>\n",
       "      <td>1.023810</td>\n",
       "      <td>322.0</td>\n",
       "      <td>2.555556</td>\n",
       "      <td>37.88</td>\n",
       "      <td>-122.23</td>\n",
       "    </tr>\n",
       "    <tr>\n",
       "      <th>1</th>\n",
       "      <td>8.3014</td>\n",
       "      <td>21.0</td>\n",
       "      <td>6.238137</td>\n",
       "      <td>0.971880</td>\n",
       "      <td>2401.0</td>\n",
       "      <td>2.109842</td>\n",
       "      <td>37.86</td>\n",
       "      <td>-122.22</td>\n",
       "    </tr>\n",
       "    <tr>\n",
       "      <th>2</th>\n",
       "      <td>7.2574</td>\n",
       "      <td>52.0</td>\n",
       "      <td>8.288136</td>\n",
       "      <td>1.073446</td>\n",
       "      <td>496.0</td>\n",
       "      <td>2.802260</td>\n",
       "      <td>37.85</td>\n",
       "      <td>-122.24</td>\n",
       "    </tr>\n",
       "    <tr>\n",
       "      <th>3</th>\n",
       "      <td>5.6431</td>\n",
       "      <td>52.0</td>\n",
       "      <td>5.817352</td>\n",
       "      <td>1.073059</td>\n",
       "      <td>558.0</td>\n",
       "      <td>2.547945</td>\n",
       "      <td>37.85</td>\n",
       "      <td>-122.25</td>\n",
       "    </tr>\n",
       "    <tr>\n",
       "      <th>4</th>\n",
       "      <td>3.8462</td>\n",
       "      <td>52.0</td>\n",
       "      <td>6.281853</td>\n",
       "      <td>1.081081</td>\n",
       "      <td>565.0</td>\n",
       "      <td>2.181467</td>\n",
       "      <td>37.85</td>\n",
       "      <td>-122.25</td>\n",
       "    </tr>\n",
       "  </tbody>\n",
       "</table>\n",
       "</div>"
      ],
      "text/plain": [
       "        0     1         2         3       4         5      6       7\n",
       "0  8.3252  41.0  6.984127  1.023810   322.0  2.555556  37.88 -122.23\n",
       "1  8.3014  21.0  6.238137  0.971880  2401.0  2.109842  37.86 -122.22\n",
       "2  7.2574  52.0  8.288136  1.073446   496.0  2.802260  37.85 -122.24\n",
       "3  5.6431  52.0  5.817352  1.073059   558.0  2.547945  37.85 -122.25\n",
       "4  3.8462  52.0  6.281853  1.081081   565.0  2.181467  37.85 -122.25"
      ]
     },
     "execution_count": 12,
     "metadata": {},
     "output_type": "execute_result"
    }
   ],
   "source": [
    "X.head()"
   ]
  },
  {
   "cell_type": "code",
   "execution_count": 13,
   "metadata": {},
   "outputs": [
    {
     "data": {
      "text/plain": [
       "['MedInc',\n",
       " 'HouseAge',\n",
       " 'AveRooms',\n",
       " 'AveBedrms',\n",
       " 'Population',\n",
       " 'AveOccup',\n",
       " 'Latitude',\n",
       " 'Longitude']"
      ]
     },
     "execution_count": 13,
     "metadata": {},
     "output_type": "execute_result"
    }
   ],
   "source": [
    "housevalue.feature_names #特征名字"
   ]
  },
  {
   "cell_type": "code",
   "execution_count": 14,
   "metadata": {},
   "outputs": [],
   "source": [
    "X.columns = housevalue.feature_names"
   ]
  },
  {
   "cell_type": "code",
   "execution_count": 15,
   "metadata": {},
   "outputs": [
    {
     "data": {
      "text/plain": [
       "'\\nMedInc：该街区住户的收入中位数\\nHouseAge：该街区房屋使用年代的中位数\\nAveRooms：该街区平均的房间数目\\nAveBedrms：该街区平均的卧室数目\\nPopulation：街区人口\\nAveOccup：平均入住率\\nLatitude：街区的纬度\\nLongitude：街区的经度\\n'"
      ]
     },
     "execution_count": 15,
     "metadata": {},
     "output_type": "execute_result"
    }
   ],
   "source": [
    "#每个特征的物理意义：\n",
    "\"\"\"\n",
    "MedInc：该街区住户的收入中位数\n",
    "HouseAge：该街区房屋使用年代的中位数\n",
    "AveRooms：该街区平均的房间数目\n",
    "AveBedrms：该街区平均的卧室数目\n",
    "Population：街区人口\n",
    "AveOccup：平均入住率\n",
    "Latitude：街区的纬度\n",
    "Longitude：街区的经度\n",
    "\"\"\""
   ]
  },
  {
   "cell_type": "code",
   "execution_count": 16,
   "metadata": {},
   "outputs": [],
   "source": [
    "Xtrain, Xtest, Ytrain, Ytest = train_test_split(X,y,test_size=0.3,random_state=420)"
   ]
  },
  {
   "cell_type": "code",
   "execution_count": 17,
   "metadata": {},
   "outputs": [
    {
     "data": {
      "text/html": [
       "<div>\n",
       "<style scoped>\n",
       "    .dataframe tbody tr th:only-of-type {\n",
       "        vertical-align: middle;\n",
       "    }\n",
       "\n",
       "    .dataframe tbody tr th {\n",
       "        vertical-align: top;\n",
       "    }\n",
       "\n",
       "    .dataframe thead th {\n",
       "        text-align: right;\n",
       "    }\n",
       "</style>\n",
       "<table border=\"1\" class=\"dataframe\">\n",
       "  <thead>\n",
       "    <tr style=\"text-align: right;\">\n",
       "      <th></th>\n",
       "      <th>MedInc</th>\n",
       "      <th>HouseAge</th>\n",
       "      <th>AveRooms</th>\n",
       "      <th>AveBedrms</th>\n",
       "      <th>Population</th>\n",
       "      <th>AveOccup</th>\n",
       "      <th>Latitude</th>\n",
       "      <th>Longitude</th>\n",
       "    </tr>\n",
       "  </thead>\n",
       "  <tbody>\n",
       "    <tr>\n",
       "      <th>5156</th>\n",
       "      <td>1.7656</td>\n",
       "      <td>42.0</td>\n",
       "      <td>4.144703</td>\n",
       "      <td>1.031008</td>\n",
       "      <td>1581.0</td>\n",
       "      <td>4.085271</td>\n",
       "      <td>33.96</td>\n",
       "      <td>-118.28</td>\n",
       "    </tr>\n",
       "    <tr>\n",
       "      <th>19714</th>\n",
       "      <td>1.5281</td>\n",
       "      <td>29.0</td>\n",
       "      <td>5.095890</td>\n",
       "      <td>1.095890</td>\n",
       "      <td>1137.0</td>\n",
       "      <td>3.115068</td>\n",
       "      <td>39.29</td>\n",
       "      <td>-121.68</td>\n",
       "    </tr>\n",
       "    <tr>\n",
       "      <th>18471</th>\n",
       "      <td>4.1750</td>\n",
       "      <td>14.0</td>\n",
       "      <td>5.604699</td>\n",
       "      <td>1.045965</td>\n",
       "      <td>2823.0</td>\n",
       "      <td>2.883555</td>\n",
       "      <td>37.14</td>\n",
       "      <td>-121.64</td>\n",
       "    </tr>\n",
       "    <tr>\n",
       "      <th>16156</th>\n",
       "      <td>3.0278</td>\n",
       "      <td>52.0</td>\n",
       "      <td>5.172932</td>\n",
       "      <td>1.085714</td>\n",
       "      <td>1663.0</td>\n",
       "      <td>2.500752</td>\n",
       "      <td>37.78</td>\n",
       "      <td>-122.49</td>\n",
       "    </tr>\n",
       "    <tr>\n",
       "      <th>7028</th>\n",
       "      <td>4.5000</td>\n",
       "      <td>36.0</td>\n",
       "      <td>4.940447</td>\n",
       "      <td>0.982630</td>\n",
       "      <td>1306.0</td>\n",
       "      <td>3.240695</td>\n",
       "      <td>33.95</td>\n",
       "      <td>-118.09</td>\n",
       "    </tr>\n",
       "  </tbody>\n",
       "</table>\n",
       "</div>"
      ],
      "text/plain": [
       "       MedInc  HouseAge  AveRooms  AveBedrms  Population  AveOccup  Latitude  \\\n",
       "5156   1.7656      42.0  4.144703   1.031008      1581.0  4.085271     33.96   \n",
       "19714  1.5281      29.0  5.095890   1.095890      1137.0  3.115068     39.29   \n",
       "18471  4.1750      14.0  5.604699   1.045965      2823.0  2.883555     37.14   \n",
       "16156  3.0278      52.0  5.172932   1.085714      1663.0  2.500752     37.78   \n",
       "7028   4.5000      36.0  4.940447   0.982630      1306.0  3.240695     33.95   \n",
       "\n",
       "       Longitude  \n",
       "5156     -118.28  \n",
       "19714    -121.68  \n",
       "18471    -121.64  \n",
       "16156    -122.49  \n",
       "7028     -118.09  "
      ]
     },
     "execution_count": 17,
     "metadata": {},
     "output_type": "execute_result"
    }
   ],
   "source": [
    "Xtest.head()"
   ]
  },
  {
   "cell_type": "code",
   "execution_count": 26,
   "metadata": {},
   "outputs": [
    {
     "data": {
      "text/html": [
       "<div>\n",
       "<style scoped>\n",
       "    .dataframe tbody tr th:only-of-type {\n",
       "        vertical-align: middle;\n",
       "    }\n",
       "\n",
       "    .dataframe tbody tr th {\n",
       "        vertical-align: top;\n",
       "    }\n",
       "\n",
       "    .dataframe thead th {\n",
       "        text-align: right;\n",
       "    }\n",
       "</style>\n",
       "<table border=\"1\" class=\"dataframe\">\n",
       "  <thead>\n",
       "    <tr style=\"text-align: right;\">\n",
       "      <th></th>\n",
       "      <th>MedInc</th>\n",
       "      <th>HouseAge</th>\n",
       "      <th>AveRooms</th>\n",
       "      <th>AveBedrms</th>\n",
       "      <th>Population</th>\n",
       "      <th>AveOccup</th>\n",
       "      <th>Latitude</th>\n",
       "      <th>Longitude</th>\n",
       "    </tr>\n",
       "  </thead>\n",
       "  <tbody>\n",
       "    <tr>\n",
       "      <th>0</th>\n",
       "      <td>4.1776</td>\n",
       "      <td>35.0</td>\n",
       "      <td>4.425172</td>\n",
       "      <td>1.030683</td>\n",
       "      <td>5380.0</td>\n",
       "      <td>3.368817</td>\n",
       "      <td>37.48</td>\n",
       "      <td>-122.19</td>\n",
       "    </tr>\n",
       "    <tr>\n",
       "      <th>1</th>\n",
       "      <td>5.3261</td>\n",
       "      <td>38.0</td>\n",
       "      <td>6.267516</td>\n",
       "      <td>1.089172</td>\n",
       "      <td>429.0</td>\n",
       "      <td>2.732484</td>\n",
       "      <td>37.53</td>\n",
       "      <td>-122.30</td>\n",
       "    </tr>\n",
       "    <tr>\n",
       "      <th>2</th>\n",
       "      <td>1.9439</td>\n",
       "      <td>26.0</td>\n",
       "      <td>5.768977</td>\n",
       "      <td>1.141914</td>\n",
       "      <td>891.0</td>\n",
       "      <td>2.940594</td>\n",
       "      <td>36.02</td>\n",
       "      <td>-119.08</td>\n",
       "    </tr>\n",
       "    <tr>\n",
       "      <th>3</th>\n",
       "      <td>2.5000</td>\n",
       "      <td>22.0</td>\n",
       "      <td>4.916000</td>\n",
       "      <td>1.012000</td>\n",
       "      <td>733.0</td>\n",
       "      <td>2.932000</td>\n",
       "      <td>38.57</td>\n",
       "      <td>-121.31</td>\n",
       "    </tr>\n",
       "    <tr>\n",
       "      <th>4</th>\n",
       "      <td>3.8250</td>\n",
       "      <td>34.0</td>\n",
       "      <td>5.036765</td>\n",
       "      <td>1.098039</td>\n",
       "      <td>1134.0</td>\n",
       "      <td>2.779412</td>\n",
       "      <td>33.91</td>\n",
       "      <td>-118.35</td>\n",
       "    </tr>\n",
       "  </tbody>\n",
       "</table>\n",
       "</div>"
      ],
      "text/plain": [
       "   MedInc  HouseAge  AveRooms  AveBedrms  Population  AveOccup  Latitude  \\\n",
       "0  4.1776      35.0  4.425172   1.030683      5380.0  3.368817     37.48   \n",
       "1  5.3261      38.0  6.267516   1.089172       429.0  2.732484     37.53   \n",
       "2  1.9439      26.0  5.768977   1.141914       891.0  2.940594     36.02   \n",
       "3  2.5000      22.0  4.916000   1.012000       733.0  2.932000     38.57   \n",
       "4  3.8250      34.0  5.036765   1.098039      1134.0  2.779412     33.91   \n",
       "\n",
       "   Longitude  \n",
       "0    -122.19  \n",
       "1    -122.30  \n",
       "2    -119.08  \n",
       "3    -121.31  \n",
       "4    -118.35  "
      ]
     },
     "execution_count": 26,
     "metadata": {},
     "output_type": "execute_result"
    }
   ],
   "source": [
    "Xtrain.head()"
   ]
  },
  {
   "cell_type": "code",
   "execution_count": 18,
   "metadata": {},
   "outputs": [],
   "source": [
    "#恢复索引\n",
    "for i in [Xtrain, Xtest]:\n",
    "    i.index = range(i.shape[0])"
   ]
  },
  {
   "cell_type": "code",
   "execution_count": 19,
   "metadata": {},
   "outputs": [
    {
     "data": {
      "text/plain": [
       "(14448, 8)"
      ]
     },
     "execution_count": 19,
     "metadata": {},
     "output_type": "execute_result"
    }
   ],
   "source": [
    "Xtrain.shape"
   ]
  },
  {
   "cell_type": "code",
   "execution_count": 20,
   "metadata": {},
   "outputs": [],
   "source": [
    "reg = LR().fit(Xtrain, Ytrain)"
   ]
  },
  {
   "cell_type": "code",
   "execution_count": 21,
   "metadata": {},
   "outputs": [],
   "source": [
    "yhat = reg.predict(Xtest) #预测yhat"
   ]
  },
  {
   "cell_type": "code",
   "execution_count": 22,
   "metadata": {},
   "outputs": [
    {
     "data": {
      "text/plain": [
       "-0.6528439725035966"
      ]
     },
     "execution_count": 22,
     "metadata": {},
     "output_type": "execute_result"
    }
   ],
   "source": [
    "yhat.min()"
   ]
  },
  {
   "cell_type": "code",
   "execution_count": 23,
   "metadata": {},
   "outputs": [
    {
     "data": {
      "text/plain": [
       "7.1461982142708536"
      ]
     },
     "execution_count": 23,
     "metadata": {},
     "output_type": "execute_result"
    }
   ],
   "source": [
    "yhat.max()"
   ]
  },
  {
   "cell_type": "code",
   "execution_count": 24,
   "metadata": {},
   "outputs": [
    {
     "data": {
      "text/plain": [
       "array([ 4.37358931e-01,  1.02112683e-02, -1.07807216e-01,  6.26433828e-01,\n",
       "        5.21612535e-07, -3.34850965e-03, -4.13095938e-01, -4.26210954e-01])"
      ]
     },
     "execution_count": 24,
     "metadata": {},
     "output_type": "execute_result"
    }
   ],
   "source": [
    "reg.coef_ #w,系数向量"
   ]
  },
  {
   "cell_type": "code",
   "execution_count": 25,
   "metadata": {},
   "outputs": [
    {
     "data": {
      "text/plain": [
       "Index(['MedInc', 'HouseAge', 'AveRooms', 'AveBedrms', 'Population', 'AveOccup',\n",
       "       'Latitude', 'Longitude'],\n",
       "      dtype='object')"
      ]
     },
     "execution_count": 25,
     "metadata": {},
     "output_type": "execute_result"
    }
   ],
   "source": [
    "Xtrain.columns"
   ]
  },
  {
   "cell_type": "code",
   "execution_count": 26,
   "metadata": {},
   "outputs": [
    {
     "data": {
      "text/plain": [
       "[('MedInc', 0.43735893059683956),\n",
       " ('HouseAge', 0.010211268294493776),\n",
       " ('AveRooms', -0.10780721617317633),\n",
       " ('AveBedrms', 0.6264338275363744),\n",
       " ('Population', 5.216125353261353e-07),\n",
       " ('AveOccup', -0.0033485096463335556),\n",
       " ('Latitude', -0.41309593789477134),\n",
       " ('Longitude', -0.4262109536208465)]"
      ]
     },
     "execution_count": 26,
     "metadata": {},
     "output_type": "execute_result"
    }
   ],
   "source": [
    "[*zip(Xtrain.columns,reg.coef_)]       # 查看每一个特征的权重系数，权重系数反映了该特征的重要性"
   ]
  },
  {
   "cell_type": "code",
   "execution_count": 27,
   "metadata": {},
   "outputs": [
    {
     "data": {
      "text/plain": [
       "'\\nMedInc：该街区住户的收入中位数\\nHouseAge：该街区房屋使用年代的中位数\\nAveRooms：该街区平均的房间数目\\nAveBedrms：该街区平均的卧室数目\\nPopulation：街区人口\\nAveOccup：平均入住率\\nLatitude：街区的纬度\\nLongitude：街区的经度\\n'"
      ]
     },
     "execution_count": 27,
     "metadata": {},
     "output_type": "execute_result"
    }
   ],
   "source": [
    "\"\"\"\n",
    "MedInc：该街区住户的收入中位数\n",
    "HouseAge：该街区房屋使用年代的中位数\n",
    "AveRooms：该街区平均的房间数目\n",
    "AveBedrms：该街区平均的卧室数目\n",
    "Population：街区人口\n",
    "AveOccup：平均入住率\n",
    "Latitude：街区的纬度\n",
    "Longitude：街区的经度\n",
    "\"\"\""
   ]
  },
  {
   "cell_type": "code",
   "execution_count": 28,
   "metadata": {},
   "outputs": [
    {
     "data": {
      "text/plain": [
       "-36.256893229203826"
      ]
     },
     "execution_count": 28,
     "metadata": {},
     "output_type": "execute_result"
    }
   ],
   "source": [
    "reg.intercept_           # 查看偏差参数"
   ]
  },
  {
   "cell_type": "code",
   "execution_count": 29,
   "metadata": {},
   "outputs": [
    {
     "data": {
      "text/plain": [
       "0.5309012639324571"
      ]
     },
     "execution_count": 29,
     "metadata": {},
     "output_type": "execute_result"
    }
   ],
   "source": [
    "from sklearn.metrics import mean_squared_error as MSE           # 均方误差\n",
    "MSE(yhat,Ytest)"
   ]
  },
  {
   "cell_type": "code",
   "execution_count": 30,
   "metadata": {},
   "outputs": [
    {
     "data": {
      "text/plain": [
       "2.0819292877906976"
      ]
     },
     "execution_count": 30,
     "metadata": {},
     "output_type": "execute_result"
    }
   ],
   "source": [
    "Ytest.mean()"
   ]
  },
  {
   "cell_type": "code",
   "execution_count": 31,
   "metadata": {},
   "outputs": [
    {
     "data": {
      "text/plain": [
       "5.00001"
      ]
     },
     "execution_count": 31,
     "metadata": {},
     "output_type": "execute_result"
    }
   ],
   "source": [
    "y.max()"
   ]
  },
  {
   "cell_type": "code",
   "execution_count": 32,
   "metadata": {},
   "outputs": [
    {
     "data": {
      "text/plain": [
       "0.14999"
      ]
     },
     "execution_count": 32,
     "metadata": {},
     "output_type": "execute_result"
    }
   ],
   "source": [
    "y.min()"
   ]
  },
  {
   "cell_type": "code",
   "execution_count": 33,
   "metadata": {},
   "outputs": [
    {
     "data": {
      "text/plain": [
       "['accuracy',\n",
       " 'adjusted_mutual_info_score',\n",
       " 'adjusted_rand_score',\n",
       " 'average_precision',\n",
       " 'balanced_accuracy',\n",
       " 'completeness_score',\n",
       " 'explained_variance',\n",
       " 'f1',\n",
       " 'f1_macro',\n",
       " 'f1_micro',\n",
       " 'f1_samples',\n",
       " 'f1_weighted',\n",
       " 'fowlkes_mallows_score',\n",
       " 'homogeneity_score',\n",
       " 'jaccard',\n",
       " 'jaccard_macro',\n",
       " 'jaccard_micro',\n",
       " 'jaccard_samples',\n",
       " 'jaccard_weighted',\n",
       " 'max_error',\n",
       " 'mutual_info_score',\n",
       " 'neg_brier_score',\n",
       " 'neg_log_loss',\n",
       " 'neg_mean_absolute_error',\n",
       " 'neg_mean_gamma_deviance',\n",
       " 'neg_mean_poisson_deviance',\n",
       " 'neg_mean_squared_error',\n",
       " 'neg_mean_squared_log_error',\n",
       " 'neg_median_absolute_error',\n",
       " 'neg_root_mean_squared_error',\n",
       " 'normalized_mutual_info_score',\n",
       " 'precision',\n",
       " 'precision_macro',\n",
       " 'precision_micro',\n",
       " 'precision_samples',\n",
       " 'precision_weighted',\n",
       " 'r2',\n",
       " 'recall',\n",
       " 'recall_macro',\n",
       " 'recall_micro',\n",
       " 'recall_samples',\n",
       " 'recall_weighted',\n",
       " 'roc_auc',\n",
       " 'roc_auc_ovo',\n",
       " 'roc_auc_ovo_weighted',\n",
       " 'roc_auc_ovr',\n",
       " 'roc_auc_ovr_weighted',\n",
       " 'v_measure_score']"
      ]
     },
     "execution_count": 33,
     "metadata": {},
     "output_type": "execute_result"
    }
   ],
   "source": [
    "import sklearn\n",
    "sorted(sklearn.metrics.SCORERS.keys())      # 查看metrics下的所有指标"
   ]
  },
  {
   "cell_type": "code",
   "execution_count": 34,
   "metadata": {},
   "outputs": [
    {
     "data": {
      "text/plain": [
       "-0.5509524296956585"
      ]
     },
     "execution_count": 34,
     "metadata": {},
     "output_type": "execute_result"
    }
   ],
   "source": [
    "cross_val_score(reg,X,y,cv=10,scoring=\"neg_mean_squared_error\").mean()"
   ]
  },
  {
   "cell_type": "code",
   "execution_count": 35,
   "metadata": {},
   "outputs": [
    {
     "data": {
      "text/plain": [
       "0.33806537615559806"
      ]
     },
     "execution_count": 35,
     "metadata": {},
     "output_type": "execute_result"
    }
   ],
   "source": [
    "#调用R2\n",
    "from sklearn.metrics import r2_score\n",
    "r2_score(yhat,Ytest)"
   ]
  },
  {
   "cell_type": "code",
   "execution_count": 36,
   "metadata": {},
   "outputs": [
    {
     "data": {
      "text/plain": [
       "0.6043668160178817"
      ]
     },
     "execution_count": 36,
     "metadata": {},
     "output_type": "execute_result"
    }
   ],
   "source": [
    "r2 = reg.score(Xtest,Ytest)\n",
    "r2"
   ]
  },
  {
   "cell_type": "code",
   "execution_count": 37,
   "metadata": {},
   "outputs": [
    {
     "data": {
      "text/plain": [
       "0.6043668160178817"
      ]
     },
     "execution_count": 37,
     "metadata": {},
     "output_type": "execute_result"
    }
   ],
   "source": [
    "r2_score(Ytest,yhat)"
   ]
  },
  {
   "cell_type": "code",
   "execution_count": 38,
   "metadata": {},
   "outputs": [
    {
     "data": {
      "text/plain": [
       "0.5110068610524561"
      ]
     },
     "execution_count": 38,
     "metadata": {},
     "output_type": "execute_result"
    }
   ],
   "source": [
    "cross_val_score(reg,X,y,cv=10,scoring=\"r2\").mean()"
   ]
  },
  {
   "cell_type": "code",
   "execution_count": 39,
   "metadata": {},
   "outputs": [
    {
     "data": {
      "text/plain": [
       "[0.14999,\n",
       " 0.14999,\n",
       " 0.225,\n",
       " 0.325,\n",
       " 0.35,\n",
       " 0.375,\n",
       " 0.388,\n",
       " 0.392,\n",
       " 0.394,\n",
       " 0.396,\n",
       " 0.4,\n",
       " 0.404,\n",
       " 0.409,\n",
       " 0.41,\n",
       " 0.43,\n",
       " 0.435,\n",
       " 0.437,\n",
       " 0.439,\n",
       " 0.44,\n",
       " 0.44,\n",
       " 0.444,\n",
       " 0.446,\n",
       " 0.45,\n",
       " 0.45,\n",
       " 0.45,\n",
       " 0.45,\n",
       " 0.455,\n",
       " 0.455,\n",
       " 0.455,\n",
       " 0.456,\n",
       " 0.462,\n",
       " 0.463,\n",
       " 0.471,\n",
       " 0.475,\n",
       " 0.478,\n",
       " 0.478,\n",
       " 0.481,\n",
       " 0.481,\n",
       " 0.483,\n",
       " 0.483,\n",
       " 0.485,\n",
       " 0.485,\n",
       " 0.488,\n",
       " 0.489,\n",
       " 0.49,\n",
       " 0.492,\n",
       " 0.494,\n",
       " 0.494,\n",
       " 0.494,\n",
       " 0.495,\n",
       " 0.496,\n",
       " 0.5,\n",
       " 0.5,\n",
       " 0.504,\n",
       " 0.505,\n",
       " 0.506,\n",
       " 0.506,\n",
       " 0.508,\n",
       " 0.508,\n",
       " 0.51,\n",
       " 0.516,\n",
       " 0.519,\n",
       " 0.52,\n",
       " 0.521,\n",
       " 0.523,\n",
       " 0.523,\n",
       " 0.525,\n",
       " 0.525,\n",
       " 0.525,\n",
       " 0.525,\n",
       " 0.525,\n",
       " 0.527,\n",
       " 0.527,\n",
       " 0.528,\n",
       " 0.529,\n",
       " 0.53,\n",
       " 0.531,\n",
       " 0.532,\n",
       " 0.534,\n",
       " 0.535,\n",
       " 0.535,\n",
       " 0.535,\n",
       " 0.538,\n",
       " 0.538,\n",
       " 0.539,\n",
       " 0.539,\n",
       " 0.539,\n",
       " 0.541,\n",
       " 0.541,\n",
       " 0.542,\n",
       " 0.542,\n",
       " 0.542,\n",
       " 0.543,\n",
       " 0.543,\n",
       " 0.544,\n",
       " 0.544,\n",
       " 0.546,\n",
       " 0.547,\n",
       " 0.55,\n",
       " 0.55,\n",
       " 0.55,\n",
       " 0.55,\n",
       " 0.55,\n",
       " 0.55,\n",
       " 0.55,\n",
       " 0.55,\n",
       " 0.551,\n",
       " 0.553,\n",
       " 0.553,\n",
       " 0.553,\n",
       " 0.554,\n",
       " 0.554,\n",
       " 0.554,\n",
       " 0.555,\n",
       " 0.556,\n",
       " 0.556,\n",
       " 0.557,\n",
       " 0.558,\n",
       " 0.558,\n",
       " 0.559,\n",
       " 0.559,\n",
       " 0.559,\n",
       " 0.559,\n",
       " 0.56,\n",
       " 0.56,\n",
       " 0.562,\n",
       " 0.566,\n",
       " 0.567,\n",
       " 0.567,\n",
       " 0.567,\n",
       " 0.567,\n",
       " 0.567,\n",
       " 0.568,\n",
       " 0.57,\n",
       " 0.571,\n",
       " 0.572,\n",
       " 0.574,\n",
       " 0.574,\n",
       " 0.575,\n",
       " 0.575,\n",
       " 0.575,\n",
       " 0.575,\n",
       " 0.576,\n",
       " 0.577,\n",
       " 0.577,\n",
       " 0.577,\n",
       " 0.578,\n",
       " 0.579,\n",
       " 0.579,\n",
       " 0.579,\n",
       " 0.58,\n",
       " 0.58,\n",
       " 0.58,\n",
       " 0.58,\n",
       " 0.58,\n",
       " 0.58,\n",
       " 0.581,\n",
       " 0.581,\n",
       " 0.581,\n",
       " 0.581,\n",
       " 0.582,\n",
       " 0.583,\n",
       " 0.583,\n",
       " 0.583,\n",
       " 0.583,\n",
       " 0.584,\n",
       " 0.586,\n",
       " 0.586,\n",
       " 0.587,\n",
       " 0.588,\n",
       " 0.588,\n",
       " 0.59,\n",
       " 0.59,\n",
       " 0.59,\n",
       " 0.59,\n",
       " 0.591,\n",
       " 0.591,\n",
       " 0.593,\n",
       " 0.593,\n",
       " 0.594,\n",
       " 0.594,\n",
       " 0.594,\n",
       " 0.594,\n",
       " 0.595,\n",
       " 0.596,\n",
       " 0.596,\n",
       " 0.597,\n",
       " 0.598,\n",
       " 0.598,\n",
       " 0.6,\n",
       " 0.6,\n",
       " 0.6,\n",
       " 0.602,\n",
       " 0.602,\n",
       " 0.603,\n",
       " 0.604,\n",
       " 0.604,\n",
       " 0.604,\n",
       " 0.605,\n",
       " 0.606,\n",
       " 0.606,\n",
       " 0.608,\n",
       " 0.608,\n",
       " 0.608,\n",
       " 0.609,\n",
       " 0.609,\n",
       " 0.611,\n",
       " 0.612,\n",
       " 0.612,\n",
       " 0.613,\n",
       " 0.613,\n",
       " 0.613,\n",
       " 0.614,\n",
       " 0.615,\n",
       " 0.616,\n",
       " 0.616,\n",
       " 0.616,\n",
       " 0.616,\n",
       " 0.618,\n",
       " 0.618,\n",
       " 0.618,\n",
       " 0.619,\n",
       " 0.619,\n",
       " 0.62,\n",
       " 0.62,\n",
       " 0.62,\n",
       " 0.62,\n",
       " 0.62,\n",
       " 0.62,\n",
       " 0.62,\n",
       " 0.62,\n",
       " 0.621,\n",
       " 0.621,\n",
       " 0.621,\n",
       " 0.622,\n",
       " 0.623,\n",
       " 0.625,\n",
       " 0.625,\n",
       " 0.625,\n",
       " 0.627,\n",
       " 0.627,\n",
       " 0.628,\n",
       " 0.628,\n",
       " 0.629,\n",
       " 0.63,\n",
       " 0.63,\n",
       " 0.63,\n",
       " 0.63,\n",
       " 0.631,\n",
       " 0.631,\n",
       " 0.632,\n",
       " 0.632,\n",
       " 0.633,\n",
       " 0.633,\n",
       " 0.633,\n",
       " 0.634,\n",
       " 0.634,\n",
       " 0.635,\n",
       " 0.635,\n",
       " 0.635,\n",
       " 0.635,\n",
       " 0.635,\n",
       " 0.637,\n",
       " 0.637,\n",
       " 0.637,\n",
       " 0.637,\n",
       " 0.638,\n",
       " 0.639,\n",
       " 0.643,\n",
       " 0.644,\n",
       " 0.644,\n",
       " 0.646,\n",
       " 0.646,\n",
       " 0.646,\n",
       " 0.646,\n",
       " 0.647,\n",
       " 0.647,\n",
       " 0.647,\n",
       " 0.648,\n",
       " 0.65,\n",
       " 0.65,\n",
       " 0.65,\n",
       " 0.652,\n",
       " 0.652,\n",
       " 0.654,\n",
       " 0.654,\n",
       " 0.654,\n",
       " 0.655,\n",
       " 0.656,\n",
       " 0.656,\n",
       " 0.656,\n",
       " 0.656,\n",
       " 0.657,\n",
       " 0.658,\n",
       " 0.658,\n",
       " 0.659,\n",
       " 0.659,\n",
       " 0.659,\n",
       " 0.659,\n",
       " 0.659,\n",
       " 0.66,\n",
       " 0.661,\n",
       " 0.661,\n",
       " 0.662,\n",
       " 0.662,\n",
       " 0.663,\n",
       " 0.664,\n",
       " 0.664,\n",
       " 0.664,\n",
       " 0.668,\n",
       " 0.669,\n",
       " 0.669,\n",
       " 0.67,\n",
       " 0.67,\n",
       " 0.67,\n",
       " 0.67,\n",
       " 0.67,\n",
       " 0.67,\n",
       " 0.672,\n",
       " 0.672,\n",
       " 0.672,\n",
       " 0.673,\n",
       " 0.673,\n",
       " 0.674,\n",
       " 0.675,\n",
       " 0.675,\n",
       " 0.675,\n",
       " 0.675,\n",
       " 0.675,\n",
       " 0.675,\n",
       " 0.675,\n",
       " 0.675,\n",
       " 0.675,\n",
       " 0.675,\n",
       " 0.675,\n",
       " 0.675,\n",
       " 0.675,\n",
       " 0.676,\n",
       " 0.676,\n",
       " 0.677,\n",
       " 0.678,\n",
       " 0.68,\n",
       " 0.68,\n",
       " 0.681,\n",
       " 0.682,\n",
       " 0.682,\n",
       " 0.682,\n",
       " 0.682,\n",
       " 0.683,\n",
       " 0.683,\n",
       " 0.683,\n",
       " 0.684,\n",
       " 0.684,\n",
       " 0.685,\n",
       " 0.685,\n",
       " 0.685,\n",
       " 0.685,\n",
       " 0.686,\n",
       " 0.686,\n",
       " 0.687,\n",
       " 0.688,\n",
       " 0.689,\n",
       " 0.689,\n",
       " 0.689,\n",
       " 0.69,\n",
       " 0.69,\n",
       " 0.691,\n",
       " 0.691,\n",
       " 0.692,\n",
       " 0.693,\n",
       " 0.694,\n",
       " 0.694,\n",
       " 0.694,\n",
       " 0.694,\n",
       " 0.694,\n",
       " 0.695,\n",
       " 0.695,\n",
       " 0.695,\n",
       " 0.696,\n",
       " 0.696,\n",
       " 0.697,\n",
       " 0.698,\n",
       " 0.699,\n",
       " 0.699,\n",
       " 0.7,\n",
       " 0.7,\n",
       " 0.7,\n",
       " 0.7,\n",
       " 0.7,\n",
       " 0.7,\n",
       " 0.701,\n",
       " 0.701,\n",
       " 0.701,\n",
       " 0.702,\n",
       " 0.702,\n",
       " 0.703,\n",
       " 0.704,\n",
       " 0.704,\n",
       " 0.705,\n",
       " 0.705,\n",
       " 0.706,\n",
       " 0.707,\n",
       " 0.707,\n",
       " 0.707,\n",
       " 0.708,\n",
       " 0.709,\n",
       " 0.71,\n",
       " 0.71,\n",
       " 0.71,\n",
       " 0.711,\n",
       " 0.712,\n",
       " 0.712,\n",
       " 0.713,\n",
       " 0.713,\n",
       " 0.713,\n",
       " 0.714,\n",
       " 0.715,\n",
       " 0.716,\n",
       " 0.718,\n",
       " 0.719,\n",
       " 0.72,\n",
       " 0.72,\n",
       " 0.72,\n",
       " 0.721,\n",
       " 0.722,\n",
       " 0.723,\n",
       " 0.723,\n",
       " 0.723,\n",
       " 0.723,\n",
       " 0.723,\n",
       " 0.725,\n",
       " 0.725,\n",
       " 0.727,\n",
       " 0.727,\n",
       " 0.728,\n",
       " 0.729,\n",
       " 0.729,\n",
       " 0.73,\n",
       " 0.73,\n",
       " 0.73,\n",
       " 0.73,\n",
       " 0.73,\n",
       " 0.731,\n",
       " 0.731,\n",
       " 0.731,\n",
       " 0.731,\n",
       " 0.732,\n",
       " 0.733,\n",
       " 0.733,\n",
       " 0.734,\n",
       " 0.735,\n",
       " 0.735,\n",
       " 0.737,\n",
       " 0.738,\n",
       " 0.738,\n",
       " 0.738,\n",
       " 0.74,\n",
       " 0.74,\n",
       " 0.74,\n",
       " 0.741,\n",
       " 0.741,\n",
       " 0.741,\n",
       " 0.743,\n",
       " 0.746,\n",
       " 0.746,\n",
       " 0.747,\n",
       " 0.748,\n",
       " 0.749,\n",
       " 0.75,\n",
       " 0.75,\n",
       " 0.75,\n",
       " 0.75,\n",
       " 0.75,\n",
       " 0.75,\n",
       " 0.75,\n",
       " 0.752,\n",
       " 0.752,\n",
       " 0.754,\n",
       " 0.756,\n",
       " 0.756,\n",
       " 0.757,\n",
       " 0.759,\n",
       " 0.759,\n",
       " 0.759,\n",
       " 0.76,\n",
       " 0.76,\n",
       " 0.761,\n",
       " 0.762,\n",
       " 0.762,\n",
       " 0.762,\n",
       " 0.762,\n",
       " 0.763,\n",
       " 0.764,\n",
       " 0.764,\n",
       " 0.765,\n",
       " 0.766,\n",
       " 0.768,\n",
       " 0.769,\n",
       " 0.77,\n",
       " 0.771,\n",
       " 0.771,\n",
       " 0.771,\n",
       " 0.772,\n",
       " 0.772,\n",
       " 0.773,\n",
       " 0.774,\n",
       " 0.774,\n",
       " 0.775,\n",
       " 0.777,\n",
       " 0.777,\n",
       " 0.779,\n",
       " 0.78,\n",
       " 0.78,\n",
       " 0.78,\n",
       " 0.781,\n",
       " 0.783,\n",
       " 0.783,\n",
       " 0.785,\n",
       " 0.786,\n",
       " 0.786,\n",
       " 0.786,\n",
       " 0.786,\n",
       " 0.788,\n",
       " 0.788,\n",
       " 0.788,\n",
       " 0.788,\n",
       " 0.788,\n",
       " 0.79,\n",
       " 0.79,\n",
       " 0.79,\n",
       " 0.792,\n",
       " 0.792,\n",
       " 0.792,\n",
       " 0.795,\n",
       " 0.795,\n",
       " 0.795,\n",
       " 0.797,\n",
       " 0.797,\n",
       " 0.798,\n",
       " 0.799,\n",
       " 0.8,\n",
       " 0.801,\n",
       " 0.802,\n",
       " 0.803,\n",
       " 0.804,\n",
       " 0.804,\n",
       " 0.804,\n",
       " 0.806,\n",
       " 0.806,\n",
       " 0.808,\n",
       " 0.808,\n",
       " 0.808,\n",
       " 0.809,\n",
       " 0.81,\n",
       " 0.81,\n",
       " 0.811,\n",
       " 0.813,\n",
       " 0.813,\n",
       " 0.813,\n",
       " 0.813,\n",
       " 0.813,\n",
       " 0.813,\n",
       " 0.813,\n",
       " 0.813,\n",
       " 0.813,\n",
       " 0.813,\n",
       " 0.813,\n",
       " 0.813,\n",
       " 0.813,\n",
       " 0.813,\n",
       " 0.814,\n",
       " 0.814,\n",
       " 0.816,\n",
       " 0.817,\n",
       " 0.817,\n",
       " 0.817,\n",
       " 0.821,\n",
       " 0.821,\n",
       " 0.821,\n",
       " 0.823,\n",
       " 0.823,\n",
       " 0.824,\n",
       " 0.825,\n",
       " 0.825,\n",
       " 0.825,\n",
       " 0.826,\n",
       " 0.827,\n",
       " 0.827,\n",
       " 0.828,\n",
       " 0.828,\n",
       " 0.828,\n",
       " 0.83,\n",
       " 0.83,\n",
       " 0.83,\n",
       " 0.831,\n",
       " 0.831,\n",
       " 0.831,\n",
       " 0.832,\n",
       " 0.832,\n",
       " 0.832,\n",
       " 0.833,\n",
       " 0.833,\n",
       " 0.834,\n",
       " 0.835,\n",
       " 0.835,\n",
       " 0.836,\n",
       " 0.836,\n",
       " 0.837,\n",
       " 0.838,\n",
       " 0.839,\n",
       " 0.839,\n",
       " 0.839,\n",
       " 0.839,\n",
       " 0.84,\n",
       " 0.841,\n",
       " 0.842,\n",
       " 0.842,\n",
       " 0.842,\n",
       " 0.843,\n",
       " 0.843,\n",
       " 0.844,\n",
       " 0.844,\n",
       " 0.844,\n",
       " 0.845,\n",
       " 0.845,\n",
       " 0.845,\n",
       " 0.845,\n",
       " 0.846,\n",
       " 0.846,\n",
       " 0.846,\n",
       " 0.846,\n",
       " 0.847,\n",
       " 0.847,\n",
       " 0.847,\n",
       " 0.847,\n",
       " 0.847,\n",
       " 0.847,\n",
       " 0.848,\n",
       " 0.849,\n",
       " 0.849,\n",
       " 0.85,\n",
       " 0.85,\n",
       " 0.85,\n",
       " 0.851,\n",
       " 0.851,\n",
       " 0.851,\n",
       " 0.851,\n",
       " 0.852,\n",
       " 0.853,\n",
       " 0.853,\n",
       " 0.854,\n",
       " 0.854,\n",
       " 0.854,\n",
       " 0.855,\n",
       " 0.855,\n",
       " 0.855,\n",
       " 0.855,\n",
       " 0.856,\n",
       " 0.857,\n",
       " 0.857,\n",
       " 0.857,\n",
       " 0.857,\n",
       " 0.857,\n",
       " 0.858,\n",
       " 0.859,\n",
       " 0.859,\n",
       " 0.859,\n",
       " 0.859,\n",
       " 0.859,\n",
       " 0.861,\n",
       " 0.862,\n",
       " 0.863,\n",
       " 0.863,\n",
       " 0.863,\n",
       " 0.864,\n",
       " 0.864,\n",
       " 0.864,\n",
       " 0.864,\n",
       " 0.865,\n",
       " 0.865,\n",
       " 0.865,\n",
       " 0.866,\n",
       " 0.867,\n",
       " 0.867,\n",
       " 0.868,\n",
       " 0.869,\n",
       " 0.869,\n",
       " 0.869,\n",
       " 0.869,\n",
       " 0.87,\n",
       " 0.87,\n",
       " 0.871,\n",
       " 0.871,\n",
       " 0.872,\n",
       " 0.872,\n",
       " 0.872,\n",
       " 0.873,\n",
       " 0.874,\n",
       " 0.875,\n",
       " 0.875,\n",
       " 0.875,\n",
       " 0.875,\n",
       " 0.875,\n",
       " 0.875,\n",
       " 0.875,\n",
       " 0.875,\n",
       " 0.875,\n",
       " 0.875,\n",
       " 0.875,\n",
       " 0.875,\n",
       " 0.875,\n",
       " 0.875,\n",
       " 0.875,\n",
       " 0.875,\n",
       " 0.875,\n",
       " 0.875,\n",
       " 0.875,\n",
       " 0.875,\n",
       " 0.875,\n",
       " 0.875,\n",
       " 0.875,\n",
       " 0.875,\n",
       " 0.876,\n",
       " 0.876,\n",
       " 0.877,\n",
       " 0.877,\n",
       " 0.878,\n",
       " 0.878,\n",
       " 0.878,\n",
       " 0.879,\n",
       " 0.879,\n",
       " 0.879,\n",
       " 0.88,\n",
       " 0.88,\n",
       " 0.881,\n",
       " 0.881,\n",
       " 0.882,\n",
       " 0.882,\n",
       " 0.882,\n",
       " 0.882,\n",
       " 0.883,\n",
       " 0.883,\n",
       " 0.883,\n",
       " 0.883,\n",
       " 0.883,\n",
       " 0.883,\n",
       " 0.884,\n",
       " 0.885,\n",
       " 0.885,\n",
       " 0.886,\n",
       " 0.887,\n",
       " 0.887,\n",
       " 0.887,\n",
       " 0.888,\n",
       " 0.888,\n",
       " 0.888,\n",
       " 0.889,\n",
       " 0.889,\n",
       " 0.889,\n",
       " 0.889,\n",
       " 0.889,\n",
       " 0.89,\n",
       " 0.891,\n",
       " 0.892,\n",
       " 0.892,\n",
       " 0.892,\n",
       " 0.893,\n",
       " 0.893,\n",
       " 0.894,\n",
       " 0.895,\n",
       " 0.896,\n",
       " 0.896,\n",
       " 0.897,\n",
       " 0.897,\n",
       " 0.898,\n",
       " 0.898,\n",
       " 0.899,\n",
       " 0.9,\n",
       " 0.9,\n",
       " 0.9,\n",
       " 0.901,\n",
       " 0.901,\n",
       " 0.901,\n",
       " 0.902,\n",
       " 0.903,\n",
       " 0.903,\n",
       " 0.904,\n",
       " 0.904,\n",
       " 0.904,\n",
       " 0.905,\n",
       " 0.905,\n",
       " 0.905,\n",
       " 0.905,\n",
       " 0.906,\n",
       " 0.906,\n",
       " 0.906,\n",
       " 0.906,\n",
       " 0.907,\n",
       " 0.907,\n",
       " 0.908,\n",
       " 0.911,\n",
       " 0.911,\n",
       " 0.912,\n",
       " 0.914,\n",
       " 0.915,\n",
       " 0.915,\n",
       " 0.916,\n",
       " 0.916,\n",
       " 0.917,\n",
       " 0.917,\n",
       " 0.917,\n",
       " 0.917,\n",
       " 0.918,\n",
       " 0.918,\n",
       " 0.918,\n",
       " 0.919,\n",
       " 0.919,\n",
       " 0.919,\n",
       " 0.92,\n",
       " 0.92,\n",
       " 0.922,\n",
       " 0.922,\n",
       " 0.922,\n",
       " 0.922,\n",
       " 0.922,\n",
       " 0.924,\n",
       " 0.925,\n",
       " 0.925,\n",
       " 0.925,\n",
       " 0.925,\n",
       " 0.926,\n",
       " 0.926,\n",
       " 0.926,\n",
       " 0.926,\n",
       " 0.926,\n",
       " 0.926,\n",
       " 0.926,\n",
       " 0.926,\n",
       " 0.926,\n",
       " 0.926,\n",
       " 0.927,\n",
       " 0.927,\n",
       " 0.927,\n",
       " 0.927,\n",
       " 0.928,\n",
       " 0.928,\n",
       " 0.928,\n",
       " 0.928,\n",
       " 0.928,\n",
       " 0.929,\n",
       " 0.93,\n",
       " 0.93,\n",
       " 0.931,\n",
       " 0.931,\n",
       " 0.931,\n",
       " 0.931,\n",
       " 0.931,\n",
       " 0.931,\n",
       " 0.932,\n",
       " 0.932,\n",
       " 0.932,\n",
       " 0.932,\n",
       " 0.933,\n",
       " 0.933,\n",
       " 0.933,\n",
       " 0.934,\n",
       " 0.934,\n",
       " 0.934,\n",
       " 0.934,\n",
       " 0.934,\n",
       " 0.935,\n",
       " 0.935,\n",
       " 0.935,\n",
       " 0.936,\n",
       " 0.936,\n",
       " 0.936,\n",
       " 0.936,\n",
       " 0.938,\n",
       " 0.938,\n",
       " 0.938,\n",
       " 0.938,\n",
       " 0.938,\n",
       " 0.938,\n",
       " 0.938,\n",
       " 0.938,\n",
       " 0.938,\n",
       " 0.938,\n",
       " 0.938,\n",
       " 0.939,\n",
       " 0.939,\n",
       " 0.94,\n",
       " 0.94,\n",
       " 0.942,\n",
       " 0.942,\n",
       " 0.943,\n",
       " 0.943,\n",
       " 0.944,\n",
       " 0.944,\n",
       " 0.944,\n",
       " 0.945,\n",
       " 0.945,\n",
       " 0.946,\n",
       " 0.946,\n",
       " 0.946,\n",
       " 0.946,\n",
       " 0.946,\n",
       " 0.946,\n",
       " 0.946,\n",
       " 0.947,\n",
       " 0.947,\n",
       " 0.948,\n",
       " 0.948,\n",
       " 0.948,\n",
       " 0.949,\n",
       " 0.949,\n",
       " 0.95,\n",
       " 0.95,\n",
       " 0.95,\n",
       " 0.95,\n",
       " 0.95,\n",
       " 0.951,\n",
       " 0.952,\n",
       " 0.952,\n",
       " 0.953,\n",
       " 0.953,\n",
       " 0.953,\n",
       " 0.953,\n",
       " 0.954,\n",
       " 0.955,\n",
       " 0.955,\n",
       " 0.955,\n",
       " 0.955,\n",
       " 0.955,\n",
       " 0.956,\n",
       " 0.957,\n",
       " 0.957,\n",
       " 0.957,\n",
       " 0.958,\n",
       " 0.958,\n",
       " 0.958,\n",
       " 0.958,\n",
       " 0.958,\n",
       " 0.958,\n",
       " 0.96,\n",
       " 0.96,\n",
       " 0.96,\n",
       " 0.96,\n",
       " 0.96,\n",
       " 0.96,\n",
       " 0.961,\n",
       " 0.961,\n",
       " 0.962,\n",
       " 0.962,\n",
       " 0.962,\n",
       " 0.962,\n",
       " 0.962,\n",
       " 0.962,\n",
       " 0.962,\n",
       " 0.963,\n",
       " 0.964,\n",
       " 0.964,\n",
       " 0.964,\n",
       " 0.964,\n",
       " 0.965,\n",
       " 0.965,\n",
       " 0.965,\n",
       " 0.966,\n",
       " 0.966,\n",
       " 0.966,\n",
       " 0.967,\n",
       " 0.967,\n",
       " 0.967,\n",
       " 0.968,\n",
       " 0.968,\n",
       " 0.969,\n",
       " 0.969,\n",
       " 0.969,\n",
       " 0.969,\n",
       " 0.97,\n",
       " 0.971,\n",
       " 0.972,\n",
       " 0.972,\n",
       " 0.973,\n",
       " 0.973,\n",
       " 0.973,\n",
       " 0.974,\n",
       " 0.974,\n",
       " 0.974,\n",
       " 0.974,\n",
       " 0.976,\n",
       " 0.976,\n",
       " 0.976,\n",
       " 0.976,\n",
       " 0.977,\n",
       " 0.977,\n",
       " 0.978,\n",
       " 0.978,\n",
       " 0.978,\n",
       " 0.979,\n",
       " 0.979,\n",
       " ...]"
      ]
     },
     "execution_count": 39,
     "metadata": {},
     "output_type": "execute_result"
    }
   ],
   "source": [
    "import matplotlib.pyplot as plt\n",
    "sorted(Ytest)"
   ]
  },
  {
   "cell_type": "code",
   "execution_count": 40,
   "metadata": {},
   "outputs": [
    {
     "data": {
      "image/png": "[encoded data removed]",
      "text/plain": [
       "<Figure size 432x288 with 1 Axes>"
      ]
     },
     "metadata": {
      "needs_background": "light"
     },
     "output_type": "display_data"
    }
   ],
   "source": [
    "plt.plot(range(len(Ytest)),sorted(Ytest),c=\"black\",label= \"Data\")\n",
    "plt.plot(range(len(yhat)),sorted(yhat),c=\"red\",label = \"Predict\")\n",
    "plt.legend()\n",
    "plt.show()"
   ]
  },
  {
   "cell_type": "code",
   "execution_count": 79,
   "metadata": {},
   "outputs": [
    {
     "data": {
      "text/plain": [
       "array([-179.12952605,   -5.692624  ,  -15.61747513,  -78.68042858,\n",
       "        -59.5311006 ])"
      ]
     },
     "execution_count": 79,
     "metadata": {},
     "output_type": "execute_result"
    }
   ],
   "source": [
    "import numpy as np\n",
    "rng = np.random.RandomState(42)\n",
    "X = rng.randn(100, 80)\n",
    "y = rng.randn(100)\n",
    "cross_val_score(LR(), X, y, cv=5, scoring='r2')"
   ]
  },
  {
   "cell_type": "code",
   "execution_count": 41,
   "metadata": {},
   "outputs": [],
   "source": [
    "import numpy as np\n",
    "import pandas as pd\n",
    "from sklearn.linear_model import Ridge, LinearRegression, Lasso\n",
    "from sklearn.model_selection import train_test_split as TTS\n",
    "from sklearn.datasets import fetch_california_housing as fch\n",
    "import matplotlib.pyplot as plt\n",
    "\n",
    "housevalue = fch()\n",
    "\n",
    "X = pd.DataFrame(housevalue.data)\n",
    "y = housevalue.target\n",
    "X.columns = [\"住户收入中位数\",\"房屋使用年代中位数\",\"平均房间数目\"\n",
    "            ,\"平均卧室数目\",\"街区人口\",\"平均入住率\",\"街区的纬度\",\"街区的经度\"]"
   ]
  },
  {
   "cell_type": "code",
   "execution_count": 42,
   "metadata": {},
   "outputs": [
    {
     "data": {
      "text/html": [
       "<div>\n",
       "<style scoped>\n",
       "    .dataframe tbody tr th:only-of-type {\n",
       "        vertical-align: middle;\n",
       "    }\n",
       "\n",
       "    .dataframe tbody tr th {\n",
       "        vertical-align: top;\n",
       "    }\n",
       "\n",
       "    .dataframe thead th {\n",
       "        text-align: right;\n",
       "    }\n",
       "</style>\n",
       "<table border=\"1\" class=\"dataframe\">\n",
       "  <thead>\n",
       "    <tr style=\"text-align: right;\">\n",
       "      <th></th>\n",
       "      <th>住户收入中位数</th>\n",
       "      <th>房屋使用年代中位数</th>\n",
       "      <th>平均房间数目</th>\n",
       "      <th>平均卧室数目</th>\n",
       "      <th>街区人口</th>\n",
       "      <th>平均入住率</th>\n",
       "      <th>街区的纬度</th>\n",
       "      <th>街区的经度</th>\n",
       "    </tr>\n",
       "  </thead>\n",
       "  <tbody>\n",
       "    <tr>\n",
       "      <th>0</th>\n",
       "      <td>8.3252</td>\n",
       "      <td>41.0</td>\n",
       "      <td>6.984127</td>\n",
       "      <td>1.023810</td>\n",
       "      <td>322.0</td>\n",
       "      <td>2.555556</td>\n",
       "      <td>37.88</td>\n",
       "      <td>-122.23</td>\n",
       "    </tr>\n",
       "    <tr>\n",
       "      <th>1</th>\n",
       "      <td>8.3014</td>\n",
       "      <td>21.0</td>\n",
       "      <td>6.238137</td>\n",
       "      <td>0.971880</td>\n",
       "      <td>2401.0</td>\n",
       "      <td>2.109842</td>\n",
       "      <td>37.86</td>\n",
       "      <td>-122.22</td>\n",
       "    </tr>\n",
       "    <tr>\n",
       "      <th>2</th>\n",
       "      <td>7.2574</td>\n",
       "      <td>52.0</td>\n",
       "      <td>8.288136</td>\n",
       "      <td>1.073446</td>\n",
       "      <td>496.0</td>\n",
       "      <td>2.802260</td>\n",
       "      <td>37.85</td>\n",
       "      <td>-122.24</td>\n",
       "    </tr>\n",
       "    <tr>\n",
       "      <th>3</th>\n",
       "      <td>5.6431</td>\n",
       "      <td>52.0</td>\n",
       "      <td>5.817352</td>\n",
       "      <td>1.073059</td>\n",
       "      <td>558.0</td>\n",
       "      <td>2.547945</td>\n",
       "      <td>37.85</td>\n",
       "      <td>-122.25</td>\n",
       "    </tr>\n",
       "    <tr>\n",
       "      <th>4</th>\n",
       "      <td>3.8462</td>\n",
       "      <td>52.0</td>\n",
       "      <td>6.281853</td>\n",
       "      <td>1.081081</td>\n",
       "      <td>565.0</td>\n",
       "      <td>2.181467</td>\n",
       "      <td>37.85</td>\n",
       "      <td>-122.25</td>\n",
       "    </tr>\n",
       "  </tbody>\n",
       "</table>\n",
       "</div>"
      ],
      "text/plain": [
       "   住户收入中位数  房屋使用年代中位数    平均房间数目    平均卧室数目    街区人口     平均入住率  街区的纬度   街区的经度\n",
       "0   8.3252       41.0  6.984127  1.023810   322.0  2.555556  37.88 -122.23\n",
       "1   8.3014       21.0  6.238137  0.971880  2401.0  2.109842  37.86 -122.22\n",
       "2   7.2574       52.0  8.288136  1.073446   496.0  2.802260  37.85 -122.24\n",
       "3   5.6431       52.0  5.817352  1.073059   558.0  2.547945  37.85 -122.25\n",
       "4   3.8462       52.0  6.281853  1.081081   565.0  2.181467  37.85 -122.25"
      ]
     },
     "execution_count": 42,
     "metadata": {},
     "output_type": "execute_result"
    }
   ],
   "source": [
    "X.head()"
   ]
  },
  {
   "cell_type": "code",
   "execution_count": 43,
   "metadata": {},
   "outputs": [],
   "source": [
    "Xtrain,Xtest,Ytrain,Ytest = TTS(X,y,test_size=0.3,random_state=420)"
   ]
  },
  {
   "cell_type": "code",
   "execution_count": 44,
   "metadata": {},
   "outputs": [],
   "source": [
    "for i in [Xtrain,Xtest]:\n",
    "    i.index = range(i.shape[0])"
   ]
  },
  {
   "cell_type": "code",
   "execution_count": 45,
   "metadata": {},
   "outputs": [
    {
     "data": {
      "text/html": [
       "<div>\n",
       "<style scoped>\n",
       "    .dataframe tbody tr th:only-of-type {\n",
       "        vertical-align: middle;\n",
       "    }\n",
       "\n",
       "    .dataframe tbody tr th {\n",
       "        vertical-align: top;\n",
       "    }\n",
       "\n",
       "    .dataframe thead th {\n",
       "        text-align: right;\n",
       "    }\n",
       "</style>\n",
       "<table border=\"1\" class=\"dataframe\">\n",
       "  <thead>\n",
       "    <tr style=\"text-align: right;\">\n",
       "      <th></th>\n",
       "      <th>住户收入中位数</th>\n",
       "      <th>房屋使用年代中位数</th>\n",
       "      <th>平均房间数目</th>\n",
       "      <th>平均卧室数目</th>\n",
       "      <th>街区人口</th>\n",
       "      <th>平均入住率</th>\n",
       "      <th>街区的纬度</th>\n",
       "      <th>街区的经度</th>\n",
       "    </tr>\n",
       "  </thead>\n",
       "  <tbody>\n",
       "    <tr>\n",
       "      <th>0</th>\n",
       "      <td>4.1776</td>\n",
       "      <td>35.0</td>\n",
       "      <td>4.425172</td>\n",
       "      <td>1.030683</td>\n",
       "      <td>5380.0</td>\n",
       "      <td>3.368817</td>\n",
       "      <td>37.48</td>\n",
       "      <td>-122.19</td>\n",
       "    </tr>\n",
       "    <tr>\n",
       "      <th>1</th>\n",
       "      <td>5.3261</td>\n",
       "      <td>38.0</td>\n",
       "      <td>6.267516</td>\n",
       "      <td>1.089172</td>\n",
       "      <td>429.0</td>\n",
       "      <td>2.732484</td>\n",
       "      <td>37.53</td>\n",
       "      <td>-122.30</td>\n",
       "    </tr>\n",
       "    <tr>\n",
       "      <th>2</th>\n",
       "      <td>1.9439</td>\n",
       "      <td>26.0</td>\n",
       "      <td>5.768977</td>\n",
       "      <td>1.141914</td>\n",
       "      <td>891.0</td>\n",
       "      <td>2.940594</td>\n",
       "      <td>36.02</td>\n",
       "      <td>-119.08</td>\n",
       "    </tr>\n",
       "    <tr>\n",
       "      <th>3</th>\n",
       "      <td>2.5000</td>\n",
       "      <td>22.0</td>\n",
       "      <td>4.916000</td>\n",
       "      <td>1.012000</td>\n",
       "      <td>733.0</td>\n",
       "      <td>2.932000</td>\n",
       "      <td>38.57</td>\n",
       "      <td>-121.31</td>\n",
       "    </tr>\n",
       "    <tr>\n",
       "      <th>4</th>\n",
       "      <td>3.8250</td>\n",
       "      <td>34.0</td>\n",
       "      <td>5.036765</td>\n",
       "      <td>1.098039</td>\n",
       "      <td>1134.0</td>\n",
       "      <td>2.779412</td>\n",
       "      <td>33.91</td>\n",
       "      <td>-118.35</td>\n",
       "    </tr>\n",
       "  </tbody>\n",
       "</table>\n",
       "</div>"
      ],
      "text/plain": [
       "   住户收入中位数  房屋使用年代中位数    平均房间数目    平均卧室数目    街区人口     平均入住率  街区的纬度   街区的经度\n",
       "0   4.1776       35.0  4.425172  1.030683  5380.0  3.368817  37.48 -122.19\n",
       "1   5.3261       38.0  6.267516  1.089172   429.0  2.732484  37.53 -122.30\n",
       "2   1.9439       26.0  5.768977  1.141914   891.0  2.940594  36.02 -119.08\n",
       "3   2.5000       22.0  4.916000  1.012000   733.0  2.932000  38.57 -121.31\n",
       "4   3.8250       34.0  5.036765  1.098039  1134.0  2.779412  33.91 -118.35"
      ]
     },
     "execution_count": 45,
     "metadata": {},
     "output_type": "execute_result"
    }
   ],
   "source": [
    "Xtrain.head()"
   ]
  },
  {
   "cell_type": "code",
   "execution_count": 46,
   "metadata": {},
   "outputs": [
    {
     "data": {
      "text/plain": [
       "0.6043610352312281"
      ]
     },
     "execution_count": 46,
     "metadata": {},
     "output_type": "execute_result"
    }
   ],
   "source": [
    "#使用岭回归来进行建模\n",
    "reg = Ridge(alpha=1).fit(Xtrain,Ytrain)\n",
    "reg.score(Xtest,Ytest) #加利佛尼亚房屋价值数据集中应该不是共线性问题"
   ]
  },
  {
   "cell_type": "code",
   "execution_count": 47,
   "metadata": {},
   "outputs": [
    {
     "data": {
      "image/png": "[encoded data removed]",
      "text/plain": [
       "<Figure size 432x288 with 1 Axes>"
      ]
     },
     "metadata": {
      "needs_background": "light"
     },
     "output_type": "display_data"
    }
   ],
   "source": [
    "#交叉验证下，与线性回归相比，岭回归的结果如何变化？\n",
    "alpharange = np.arange(1,1001,100)\n",
    "ridge, lr = [], []\n",
    "for alpha in alpharange:\n",
    "    reg = Ridge(alpha=alpha)\n",
    "    linear = LinearRegression()\n",
    "    regs = cross_val_score(reg,X,y,cv=5,scoring = \"r2\").mean()\n",
    "    linears = cross_val_score(linear,X,y,cv=5,scoring = \"r2\").mean()\n",
    "    ridge.append(regs)\n",
    "    lr.append(linears)\n",
    "plt.plot(alpharange,ridge,color=\"red\",label=\"Ridge\")\n",
    "plt.plot(alpharange,lr,color=\"orange\",label=\"LR\")\n",
    "plt.title(\"Mean\")\n",
    "plt.legend()\n",
    "plt.show()"
   ]
  },
  {
   "cell_type": "code",
   "execution_count": 48,
   "metadata": {},
   "outputs": [
    {
     "data": {
      "text/plain": [
       "0.6043668160178816"
      ]
     },
     "execution_count": 48,
     "metadata": {},
     "output_type": "execute_result"
    }
   ],
   "source": [
    "#使用岭回归来进行建模\n",
    "reg = Ridge(alpha=0).fit(Xtrain,Ytrain)\n",
    "reg.score(Xtest,Ytest) #加利佛尼亚房屋价值数据集中应该不是共线性问题"
   ]
  },
  {
   "cell_type": "code",
   "execution_count": 49,
   "metadata": {},
   "outputs": [
    {
     "data": {
      "image/png": "[encoded data removed]",
      "text/plain": [
       "<Figure size 432x288 with 1 Axes>"
      ]
     },
     "metadata": {
      "needs_background": "light"
     },
     "output_type": "display_data"
    }
   ],
   "source": [
    "#细化一下学习曲线\n",
    "alpharange = np.arange(1,201,10)\n",
    "ridge, lr = [], []\n",
    "for alpha in alpharange:\n",
    "    reg = Ridge(alpha=alpha)\n",
    "    linear = LinearRegression()\n",
    "    regs = cross_val_score(reg,X,y,cv=5,scoring = \"r2\").mean()\n",
    "    linears = cross_val_score(linear,X,y,cv=5,scoring = \"r2\").mean()\n",
    "    ridge.append(regs)\n",
    "    lr.append(linears)\n",
    "plt.plot(alpharange,ridge,color=\"red\",label=\"Ridge\")\n",
    "plt.plot(alpharange,lr,color=\"orange\",label=\"LR\")\n",
    "plt.title(\"Mean\")\n",
    "plt.legend()\n",
    "plt.show()"
   ]
  },
  {
   "cell_type": "code",
   "execution_count": 50,
   "metadata": {},
   "outputs": [
    {
     "data": {
      "image/png": "[encoded data removed]",
      "text/plain": [
       "<Figure size 432x288 with 1 Axes>"
      ]
     },
     "metadata": {
      "needs_background": "light"
     },
     "output_type": "display_data"
    }
   ],
   "source": [
    "#模型方差如何变化？\n",
    "alpharange = np.arange(1,1001,100)\n",
    "ridge, lr = [], []\n",
    "for alpha in alpharange:\n",
    "    reg = Ridge(alpha=alpha)\n",
    "    linear = LinearRegression()\n",
    "    varR = cross_val_score(reg,X,y,cv=5,scoring=\"r2\").var()\n",
    "    varLR = cross_val_score(linear,X,y,cv=5,scoring=\"r2\").var()\n",
    "    ridge.append(varR)\n",
    "    lr.append(varLR)\n",
    "plt.plot(alpharange,ridge,color=\"red\",label=\"Ridge\")\n",
    "plt.plot(alpharange,lr,color=\"orange\",label=\"LR\")\n",
    "plt.title(\"Variance\")\n",
    "plt.legend()\n",
    "plt.show()"
   ]
  },
  {
   "cell_type": "code",
   "execution_count": 51,
   "metadata": {},
   "outputs": [],
   "source": [
    "from sklearn.datasets import load_boston\n",
    "from sklearn.model_selection import cross_val_score\n",
    "\n",
    "X = load_boston().data\n",
    "y = load_boston().target\n",
    "\n",
    "Xtrain,Xtest,Ytrain,Ytest = TTS(X,y,test_size=0.3,random_state=420)"
   ]
  },
  {
   "cell_type": "code",
   "execution_count": 52,
   "metadata": {},
   "outputs": [
    {
     "data": {
      "text/plain": [
       "(506, 13)"
      ]
     },
     "execution_count": 52,
     "metadata": {},
     "output_type": "execute_result"
    }
   ],
   "source": [
    "X.shape"
   ]
  },
  {
   "cell_type": "code",
   "execution_count": 53,
   "metadata": {},
   "outputs": [
    {
     "data": {
      "image/png": "[encoded data removed]",
      "text/plain": [
       "<Figure size 432x288 with 1 Axes>"
      ]
     },
     "metadata": {
      "needs_background": "light"
     },
     "output_type": "display_data"
    }
   ],
   "source": [
    "#先查看方差的变化\n",
    "alpharange = np.arange(1,1001,100)\n",
    "ridge, lr = [], []\n",
    "for alpha in alpharange:\n",
    "    reg = Ridge(alpha=alpha)\n",
    "    linear = LinearRegression()\n",
    "    varR = cross_val_score(reg,X,y,cv=5,scoring=\"r2\").var()\n",
    "    varLR = cross_val_score(linear,X,y,cv=5,scoring=\"r2\").var()\n",
    "    ridge.append(varR)\n",
    "    lr.append(varLR)\n",
    "plt.plot(alpharange,ridge,color=\"red\",label=\"Ridge\")\n",
    "plt.plot(alpharange,lr,color=\"orange\",label=\"LR\")\n",
    "plt.title(\"Variance\")\n",
    "plt.legend()\n",
    "plt.show()"
   ]
  },
  {
   "cell_type": "code",
   "execution_count": 54,
   "metadata": {},
   "outputs": [
    {
     "data": {
      "image/png": "[encoded data removed]",
      "text/plain": [
       "<Figure size 432x288 with 1 Axes>"
      ]
     },
     "metadata": {
      "needs_background": "light"
     },
     "output_type": "display_data"
    }
   ],
   "source": [
    "#查看R2的变化\n",
    "alpharange = np.arange(1,1001,100)\n",
    "ridge, lr = [], []\n",
    "for alpha in alpharange:\n",
    "    reg = Ridge(alpha=alpha)\n",
    "    linear = LinearRegression()\n",
    "    regs = cross_val_score(reg,X,y,cv=5,scoring = \"r2\").mean()\n",
    "    linears = cross_val_score(linear,X,y,cv=5,scoring = \"r2\").mean()\n",
    "    ridge.append(regs)\n",
    "    lr.append(linears)\n",
    "plt.plot(alpharange,ridge,color=\"red\",label=\"Ridge\")\n",
    "plt.plot(alpharange,lr,color=\"orange\",label=\"LR\")\n",
    "plt.title(\"Mean\")\n",
    "plt.legend()\n",
    "plt.show()"
   ]
  },
  {
   "cell_type": "code",
   "execution_count": 55,
   "metadata": {},
   "outputs": [
    {
     "data": {
      "image/png": "[encoded data removed]",
      "text/plain": [
       "<Figure size 432x288 with 1 Axes>"
      ]
     },
     "metadata": {
      "needs_background": "light"
     },
     "output_type": "display_data"
    }
   ],
   "source": [
    "#细化学习曲线\n",
    "alpharange = np.arange(100,300,10)\n",
    "ridge, lr = [], []\n",
    "for alpha in alpharange:\n",
    "    reg = Ridge(alpha=alpha)\n",
    "    #linear = LinearRegression()\n",
    "    regs = cross_val_score(reg,X,y,cv=5,scoring = \"r2\").mean()\n",
    "    #linears = cross_val_score(linear,X,y,cv=5,scoring = \"r2\").mean()\n",
    "    ridge.append(regs)\n",
    "    lr.append(linears)\n",
    "plt.plot(alpharange,ridge,color=\"red\",label=\"Ridge\")\n",
    "#plt.plot(alpharange,lr,color=\"orange\",label=\"LR\")\n",
    "plt.title(\"Mean\")\n",
    "plt.legend()\n",
    "plt.show()"
   ]
  },
  {
   "cell_type": "code",
   "execution_count": 56,
   "metadata": {},
   "outputs": [],
   "source": [
    "import numpy as np\n",
    "import pandas as pd\n",
    "from sklearn.linear_model import RidgeCV, LinearRegression\n",
    "from sklearn.model_selection import train_test_split as TTS\n",
    "from sklearn.datasets import fetch_california_housing as fch\n",
    "import matplotlib.pyplot as plt\n",
    "\n",
    "housevalue = fch()\n",
    "\n",
    "X = pd.DataFrame(housevalue.data)\n",
    "y = housevalue.target\n",
    "X.columns = [\"住户收入中位数\",\"房屋使用年代中位数\",\"平均房间数目\"\n",
    "            ,\"平均卧室数目\",\"街区人口\",\"平均入住率\",\"街区的纬度\",\"街区的经度\"]"
   ]
  },
  {
   "cell_type": "code",
   "execution_count": 57,
   "metadata": {},
   "outputs": [],
   "source": [
    "Ridge_ = RidgeCV(alphas=np.arange(1,1001,100)\n",
    "                 #,scoring=\"neg_mean_squared_error\"\n",
    "                 ,store_cv_values=True\n",
    "                 #,cv=5\n",
    "                ).fit(X, y)"
   ]
  },
  {
   "cell_type": "code",
   "execution_count": 58,
   "metadata": {},
   "outputs": [
    {
     "data": {
      "text/plain": [
       "0.6060251767338419"
      ]
     },
     "execution_count": 58,
     "metadata": {},
     "output_type": "execute_result"
    }
   ],
   "source": [
    "#无关交叉验证的岭回归结果\n",
    "Ridge_.score(X,y)"
   ]
  },
  {
   "cell_type": "code",
   "execution_count": 59,
   "metadata": {},
   "outputs": [
    {
     "data": {
      "text/plain": [
       "array([[0.1557472 , 0.16301246, 0.16892723, ..., 0.18881663, 0.19182353,\n",
       "        0.19466385],\n",
       "       [0.15334566, 0.13922075, 0.12849014, ..., 0.09744906, 0.09344092,\n",
       "        0.08981868],\n",
       "       [0.02429857, 0.03043271, 0.03543001, ..., 0.04971514, 0.05126165,\n",
       "        0.05253834],\n",
       "       ...,\n",
       "       [0.56545783, 0.5454654 , 0.52655917, ..., 0.44532597, 0.43130136,\n",
       "        0.41790336],\n",
       "       [0.27883123, 0.2692305 , 0.25944481, ..., 0.21328675, 0.20497018,\n",
       "        0.19698274],\n",
       "       [0.14313527, 0.13967826, 0.13511341, ..., 0.1078647 , 0.10251737,\n",
       "        0.0973334 ]])"
      ]
     },
     "execution_count": 59,
     "metadata": {},
     "output_type": "execute_result"
    }
   ],
   "source": [
    "#调用所有交叉验证的结果\n",
    "Ridge_.cv_values_"
   ]
  },
  {
   "cell_type": "code",
   "execution_count": 60,
   "metadata": {},
   "outputs": [
    {
     "data": {
      "text/plain": [
       "array([0.52823795, 0.52787439, 0.52807763, 0.52855759, 0.52917958,\n",
       "       0.52987689, 0.53061486, 0.53137481, 0.53214638, 0.53292369])"
      ]
     },
     "execution_count": 60,
     "metadata": {},
     "output_type": "execute_result"
    }
   ],
   "source": [
    "#进行平均后可以查看每个正则化系数取值下的交叉验证结果\n",
    "Ridge_.cv_values_.mean(axis=0)"
   ]
  },
  {
   "cell_type": "code",
   "execution_count": 61,
   "metadata": {},
   "outputs": [
    {
     "data": {
      "text/plain": [
       "101"
      ]
     },
     "execution_count": 61,
     "metadata": {},
     "output_type": "execute_result"
    }
   ],
   "source": [
    "#查看被选择出来的最佳正则化系数\n",
    "Ridge_.alpha_"
   ]
  },
  {
   "cell_type": "code",
   "execution_count": 62,
   "metadata": {},
   "outputs": [
    {
     "data": {
      "text/html": [
       "<div>\n",
       "<style scoped>\n",
       "    .dataframe tbody tr th:only-of-type {\n",
       "        vertical-align: middle;\n",
       "    }\n",
       "\n",
       "    .dataframe tbody tr th {\n",
       "        vertical-align: top;\n",
       "    }\n",
       "\n",
       "    .dataframe thead th {\n",
       "        text-align: right;\n",
       "    }\n",
       "</style>\n",
       "<table border=\"1\" class=\"dataframe\">\n",
       "  <thead>\n",
       "    <tr style=\"text-align: right;\">\n",
       "      <th></th>\n",
       "      <th>住户收入中位数</th>\n",
       "      <th>房屋使用年代中位数</th>\n",
       "      <th>平均房间数目</th>\n",
       "      <th>平均卧室数目</th>\n",
       "      <th>街区人口</th>\n",
       "      <th>平均入住率</th>\n",
       "      <th>街区的纬度</th>\n",
       "      <th>街区的经度</th>\n",
       "    </tr>\n",
       "  </thead>\n",
       "  <tbody>\n",
       "    <tr>\n",
       "      <th>0</th>\n",
       "      <td>8.3252</td>\n",
       "      <td>41.0</td>\n",
       "      <td>6.984127</td>\n",
       "      <td>1.023810</td>\n",
       "      <td>322.0</td>\n",
       "      <td>2.555556</td>\n",
       "      <td>37.88</td>\n",
       "      <td>-122.23</td>\n",
       "    </tr>\n",
       "    <tr>\n",
       "      <th>1</th>\n",
       "      <td>8.3014</td>\n",
       "      <td>21.0</td>\n",
       "      <td>6.238137</td>\n",
       "      <td>0.971880</td>\n",
       "      <td>2401.0</td>\n",
       "      <td>2.109842</td>\n",
       "      <td>37.86</td>\n",
       "      <td>-122.22</td>\n",
       "    </tr>\n",
       "    <tr>\n",
       "      <th>2</th>\n",
       "      <td>7.2574</td>\n",
       "      <td>52.0</td>\n",
       "      <td>8.288136</td>\n",
       "      <td>1.073446</td>\n",
       "      <td>496.0</td>\n",
       "      <td>2.802260</td>\n",
       "      <td>37.85</td>\n",
       "      <td>-122.24</td>\n",
       "    </tr>\n",
       "    <tr>\n",
       "      <th>3</th>\n",
       "      <td>5.6431</td>\n",
       "      <td>52.0</td>\n",
       "      <td>5.817352</td>\n",
       "      <td>1.073059</td>\n",
       "      <td>558.0</td>\n",
       "      <td>2.547945</td>\n",
       "      <td>37.85</td>\n",
       "      <td>-122.25</td>\n",
       "    </tr>\n",
       "    <tr>\n",
       "      <th>4</th>\n",
       "      <td>3.8462</td>\n",
       "      <td>52.0</td>\n",
       "      <td>6.281853</td>\n",
       "      <td>1.081081</td>\n",
       "      <td>565.0</td>\n",
       "      <td>2.181467</td>\n",
       "      <td>37.85</td>\n",
       "      <td>-122.25</td>\n",
       "    </tr>\n",
       "  </tbody>\n",
       "</table>\n",
       "</div>"
      ],
      "text/plain": [
       "   住户收入中位数  房屋使用年代中位数    平均房间数目    平均卧室数目    街区人口     平均入住率  街区的纬度   街区的经度\n",
       "0   8.3252       41.0  6.984127  1.023810   322.0  2.555556  37.88 -122.23\n",
       "1   8.3014       21.0  6.238137  0.971880  2401.0  2.109842  37.86 -122.22\n",
       "2   7.2574       52.0  8.288136  1.073446   496.0  2.802260  37.85 -122.24\n",
       "3   5.6431       52.0  5.817352  1.073059   558.0  2.547945  37.85 -122.25\n",
       "4   3.8462       52.0  6.281853  1.081081   565.0  2.181467  37.85 -122.25"
      ]
     },
     "execution_count": 62,
     "metadata": {},
     "output_type": "execute_result"
    }
   ],
   "source": [
    "import numpy as np\n",
    "import pandas as pd\n",
    "from sklearn.linear_model import Ridge, LinearRegression, Lasso\n",
    "from sklearn.model_selection import train_test_split as TTS\n",
    "from sklearn.datasets import fetch_california_housing as fch\n",
    "import matplotlib.pyplot as plt\n",
    "\n",
    "housevalue = fch()\n",
    "\n",
    "X = pd.DataFrame(housevalue.data)\n",
    "y = housevalue.target\n",
    "X.columns = [\"住户收入中位数\",\"房屋使用年代中位数\",\"平均房间数目\"\n",
    "            ,\"平均卧室数目\",\"街区人口\",\"平均入住率\",\"街区的纬度\",\"街区的经度\"]\n",
    "\n",
    "X.head()"
   ]
  },
  {
   "cell_type": "code",
   "execution_count": 63,
   "metadata": {},
   "outputs": [],
   "source": [
    "Xtrain,Xtest,Ytrain,Ytest = TTS(X,y,test_size=0.3,random_state=420)"
   ]
  },
  {
   "cell_type": "code",
   "execution_count": 64,
   "metadata": {},
   "outputs": [],
   "source": [
    "for i in [Xtrain,Xtest]:\n",
    "    i.index = range(i.shape[0])"
   ]
  },
  {
   "cell_type": "code",
   "execution_count": 65,
   "metadata": {},
   "outputs": [
    {
     "data": {
      "text/plain": [
       "[43.73589305968395,\n",
       " 1.0211268294493776,\n",
       " -10.780721617317633,\n",
       " 62.64338275363745,\n",
       " 5.216125353261353e-05,\n",
       " -0.33485096463335556,\n",
       " -41.309593789477134,\n",
       " -42.621095362084645]"
      ]
     },
     "execution_count": 65,
     "metadata": {},
     "output_type": "execute_result"
    }
   ],
   "source": [
    "#线性回归进行拟合\n",
    "reg = LinearRegression().fit(Xtrain,Ytrain)\n",
    "(reg.coef_*100).tolist()"
   ]
  },
  {
   "cell_type": "code",
   "execution_count": 66,
   "metadata": {},
   "outputs": [
    {
     "data": {
      "text/plain": [
       "[43.7358930596841,\n",
       " 1.0211268294494091,\n",
       " -10.780721617317766,\n",
       " 62.64338275363824,\n",
       " 5.216125353268004e-05,\n",
       " -0.3348509646333581,\n",
       " -41.309593789477006,\n",
       " -42.621095362084596]"
      ]
     },
     "execution_count": 66,
     "metadata": {},
     "output_type": "execute_result"
    }
   ],
   "source": [
    "#岭回归进行拟合\n",
    "Ridge_ = Ridge(alpha=0).fit(Xtrain,Ytrain)\n",
    "(Ridge_.coef_*100).tolist()"
   ]
  },
  {
   "cell_type": "code",
   "execution_count": 67,
   "metadata": {},
   "outputs": [
    {
     "name": "stderr",
     "output_type": "stream",
     "text": [
      "h:\\ai\\aienv\\pytorch1x\\lib\\site-packages\\ipykernel_launcher.py:2: UserWarning: With alpha=0, this algorithm does not converge well. You are advised to use the LinearRegression estimator\n",
      "  \n",
      "h:\\ai\\aienv\\pytorch1x\\lib\\site-packages\\sklearn\\linear_model\\_coordinate_descent.py:476: UserWarning: Coordinate descent with no regularization may lead to unexpected results and is discouraged.\n",
      "  positive)\n",
      "h:\\ai\\aienv\\pytorch1x\\lib\\site-packages\\sklearn\\linear_model\\_coordinate_descent.py:476: ConvergenceWarning: Objective did not converge. You might want to increase the number of iterations. Duality gap: 3769.860771413909, tolerance: 1.917255476913148\n",
      "  positive)\n"
     ]
    },
    {
     "data": {
      "text/plain": [
       "[43.73589305968406,\n",
       " 1.0211268294494082,\n",
       " -10.780721617317699,\n",
       " 62.64338275363791,\n",
       " 5.2161253532675225e-05,\n",
       " -0.334850964633358,\n",
       " -41.30959378947707,\n",
       " -42.621095362084645]"
      ]
     },
     "execution_count": 67,
     "metadata": {},
     "output_type": "execute_result"
    }
   ],
   "source": [
    "#Lasso进行拟合\n",
    "lasso_ = Lasso(alpha=0).fit(Xtrain,Ytrain)\n",
    "(lasso_.coef_*100).tolist()"
   ]
  },
  {
   "cell_type": "code",
   "execution_count": 68,
   "metadata": {},
   "outputs": [
    {
     "data": {
      "text/plain": [
       "[43.734534807869565,\n",
       " 1.0211508518425578,\n",
       " -10.778109335481934,\n",
       " 62.62978997580486,\n",
       " 5.225552031933868e-05,\n",
       " -0.33484783635443605,\n",
       " -41.309370065388016,\n",
       " -42.62068050768502]"
      ]
     },
     "execution_count": 68,
     "metadata": {},
     "output_type": "execute_result"
    }
   ],
   "source": [
    "#岭回归进行拟合\n",
    "Ridge_ = Ridge(alpha=0.1).fit(Xtrain,Ytrain)\n",
    "(Ridge_.coef_*100).tolist()"
   ]
  },
  {
   "cell_type": "code",
   "execution_count": 69,
   "metadata": {},
   "outputs": [
    {
     "data": {
      "text/plain": [
       "[39.08851438329683,\n",
       " 1.6054695654279867,\n",
       " -0.0,\n",
       " 0.0,\n",
       " 0.0023777014839091344,\n",
       " -0.3050186895638113,\n",
       " -10.771509301655534,\n",
       " -9.29434447795807]"
      ]
     },
     "execution_count": 69,
     "metadata": {},
     "output_type": "execute_result"
    }
   ],
   "source": [
    "#Lasso进行拟合\n",
    "lasso_ = Lasso(alpha=0.1).fit(Xtrain,Ytrain)\n",
    "(lasso_.coef_*100).tolist()"
   ]
  },
  {
   "cell_type": "code",
   "execution_count": 70,
   "metadata": {},
   "outputs": [
    {
     "data": {
      "text/plain": [
       "[0.00021838533330206366,\n",
       " 0.00021344956264503437,\n",
       " 6.213673042878628e-05,\n",
       " -3.828084920732722e-06,\n",
       " -0.0014984087286952863,\n",
       " -4.17524371465384e-05,\n",
       " -5.2950611944749674e-05,\n",
       " -1.3268982521957738e-05]"
      ]
     },
     "execution_count": 70,
     "metadata": {},
     "output_type": "execute_result"
    }
   ],
   "source": [
    "#加大正则项系数，观察模型的系数发生了什么变化\n",
    "Ridge_ = Ridge(alpha=10**10).fit(Xtrain,Ytrain)\n",
    "(Ridge_.coef_*100).tolist()"
   ]
  },
  {
   "cell_type": "code",
   "execution_count": 71,
   "metadata": {},
   "outputs": [
    {
     "data": {
      "text/plain": [
       "[0.0, 0.0, 0.0, -0.0, -0.0, -0.0, -0.0, -0.0]"
      ]
     },
     "execution_count": 71,
     "metadata": {},
     "output_type": "execute_result"
    }
   ],
   "source": [
    "lasso_ = Lasso(alpha=10**4).fit(Xtrain,Ytrain)\n",
    "(lasso_.coef_*100).tolist()"
   ]
  },
  {
   "cell_type": "code",
   "execution_count": 72,
   "metadata": {},
   "outputs": [
    {
     "data": {
      "text/plain": [
       "[14.581141247629423,\n",
       " 0.6209347344423876,\n",
       " 0.0,\n",
       " -0.0,\n",
       " -0.00028065986329010064,\n",
       " -0.0,\n",
       " -0.0,\n",
       " -0.0]"
      ]
     },
     "execution_count": 72,
     "metadata": {},
     "output_type": "execute_result"
    }
   ],
   "source": [
    "#看来10**4对于Lasso来说是一个过于大的取值\n",
    "lasso_ = Lasso(alpha=1).fit(Xtrain,Ytrain)\n",
    "(lasso_.coef_*100).tolist()"
   ]
  },
  {
   "cell_type": "code",
   "execution_count": 73,
   "metadata": {},
   "outputs": [
    {
     "data": {
      "image/png": "[encoded data removed]",
      "text/plain": [
       "<Figure size 432x288 with 1 Axes>"
      ]
     },
     "metadata": {
      "needs_background": "light"
     },
     "output_type": "display_data"
    }
   ],
   "source": [
    "#将系数进行绘图\n",
    "plt.plot(range(1,9),(reg.coef_*100).tolist(),color=\"red\",label=\"LR\")\n",
    "plt.plot(range(1,9),(Ridge_.coef_*100).tolist(),color=\"orange\",label=\"Ridge\")\n",
    "plt.plot(range(1,9),(lasso_.coef_*100).tolist(),color=\"k\",label=\"Lasso\")\n",
    "plt.plot(range(1,9),[0]*8,color=\"grey\",linestyle=\"--\")\n",
    "plt.xlabel('w') #横坐标是每一个特征所对应的系数\n",
    "plt.legend()\n",
    "plt.show()"
   ]
  },
  {
   "cell_type": "code",
   "execution_count": 74,
   "metadata": {},
   "outputs": [],
   "source": [
    "from sklearn.linear_model import LassoCV\n",
    "\n",
    "#建立Lasso进行alpha选择的范围\n",
    "alpharange = np.logspace(-10, -2, 200,base=10)\n",
    "\n",
    "#其实是形成10为底的指数函数\n",
    "#10**(-10)到10**(-2)次方"
   ]
  },
  {
   "cell_type": "code",
   "execution_count": 75,
   "metadata": {},
   "outputs": [
    {
     "data": {
      "text/plain": [
       "(200,)"
      ]
     },
     "execution_count": 75,
     "metadata": {},
     "output_type": "execute_result"
    }
   ],
   "source": [
    "alpharange.shape"
   ]
  },
  {
   "cell_type": "code",
   "execution_count": 76,
   "metadata": {},
   "outputs": [
    {
     "data": {
      "text/html": [
       "<div>\n",
       "<style scoped>\n",
       "    .dataframe tbody tr th:only-of-type {\n",
       "        vertical-align: middle;\n",
       "    }\n",
       "\n",
       "    .dataframe tbody tr th {\n",
       "        vertical-align: top;\n",
       "    }\n",
       "\n",
       "    .dataframe thead th {\n",
       "        text-align: right;\n",
       "    }\n",
       "</style>\n",
       "<table border=\"1\" class=\"dataframe\">\n",
       "  <thead>\n",
       "    <tr style=\"text-align: right;\">\n",
       "      <th></th>\n",
       "      <th>住户收入中位数</th>\n",
       "      <th>房屋使用年代中位数</th>\n",
       "      <th>平均房间数目</th>\n",
       "      <th>平均卧室数目</th>\n",
       "      <th>街区人口</th>\n",
       "      <th>平均入住率</th>\n",
       "      <th>街区的纬度</th>\n",
       "      <th>街区的经度</th>\n",
       "    </tr>\n",
       "  </thead>\n",
       "  <tbody>\n",
       "    <tr>\n",
       "      <th>0</th>\n",
       "      <td>4.1776</td>\n",
       "      <td>35.0</td>\n",
       "      <td>4.425172</td>\n",
       "      <td>1.030683</td>\n",
       "      <td>5380.0</td>\n",
       "      <td>3.368817</td>\n",
       "      <td>37.48</td>\n",
       "      <td>-122.19</td>\n",
       "    </tr>\n",
       "    <tr>\n",
       "      <th>1</th>\n",
       "      <td>5.3261</td>\n",
       "      <td>38.0</td>\n",
       "      <td>6.267516</td>\n",
       "      <td>1.089172</td>\n",
       "      <td>429.0</td>\n",
       "      <td>2.732484</td>\n",
       "      <td>37.53</td>\n",
       "      <td>-122.30</td>\n",
       "    </tr>\n",
       "    <tr>\n",
       "      <th>2</th>\n",
       "      <td>1.9439</td>\n",
       "      <td>26.0</td>\n",
       "      <td>5.768977</td>\n",
       "      <td>1.141914</td>\n",
       "      <td>891.0</td>\n",
       "      <td>2.940594</td>\n",
       "      <td>36.02</td>\n",
       "      <td>-119.08</td>\n",
       "    </tr>\n",
       "    <tr>\n",
       "      <th>3</th>\n",
       "      <td>2.5000</td>\n",
       "      <td>22.0</td>\n",
       "      <td>4.916000</td>\n",
       "      <td>1.012000</td>\n",
       "      <td>733.0</td>\n",
       "      <td>2.932000</td>\n",
       "      <td>38.57</td>\n",
       "      <td>-121.31</td>\n",
       "    </tr>\n",
       "    <tr>\n",
       "      <th>4</th>\n",
       "      <td>3.8250</td>\n",
       "      <td>34.0</td>\n",
       "      <td>5.036765</td>\n",
       "      <td>1.098039</td>\n",
       "      <td>1134.0</td>\n",
       "      <td>2.779412</td>\n",
       "      <td>33.91</td>\n",
       "      <td>-118.35</td>\n",
       "    </tr>\n",
       "  </tbody>\n",
       "</table>\n",
       "</div>"
      ],
      "text/plain": [
       "   住户收入中位数  房屋使用年代中位数    平均房间数目    平均卧室数目    街区人口     平均入住率  街区的纬度   街区的经度\n",
       "0   4.1776       35.0  4.425172  1.030683  5380.0  3.368817  37.48 -122.19\n",
       "1   5.3261       38.0  6.267516  1.089172   429.0  2.732484  37.53 -122.30\n",
       "2   1.9439       26.0  5.768977  1.141914   891.0  2.940594  36.02 -119.08\n",
       "3   2.5000       22.0  4.916000  1.012000   733.0  2.932000  38.57 -121.31\n",
       "4   3.8250       34.0  5.036765  1.098039  1134.0  2.779412  33.91 -118.35"
      ]
     },
     "execution_count": 76,
     "metadata": {},
     "output_type": "execute_result"
    }
   ],
   "source": [
    "Xtrain.head()"
   ]
  },
  {
   "cell_type": "code",
   "execution_count": 77,
   "metadata": {},
   "outputs": [],
   "source": [
    "lasso_ = LassoCV(alphas=alpharange #自行输入的alpha的取值范围\n",
    "                ,cv=5 #交叉验证的折数\n",
    "                ).fit(Xtrain, Ytrain)"
   ]
  },
  {
   "cell_type": "code",
   "execution_count": 78,
   "metadata": {},
   "outputs": [
    {
     "data": {
      "text/plain": [
       "0.0020729217795953697"
      ]
     },
     "execution_count": 78,
     "metadata": {},
     "output_type": "execute_result"
    }
   ],
   "source": [
    "#查看被选择出来的最佳正则化系数\n",
    "lasso_.alpha_"
   ]
  },
  {
   "cell_type": "code",
   "execution_count": 79,
   "metadata": {},
   "outputs": [
    {
     "data": {
      "text/plain": [
       "array([[0.52454913, 0.49856261, 0.55984312, 0.50526576, 0.55262557],\n",
       "       [0.52361933, 0.49748809, 0.55887637, 0.50429373, 0.55283734],\n",
       "       [0.52281927, 0.49655113, 0.55803797, 0.5034594 , 0.55320522],\n",
       "       [0.52213811, 0.49574741, 0.55731858, 0.50274517, 0.55367515],\n",
       "       [0.52155715, 0.49505688, 0.55669995, 0.50213252, 0.55421553],\n",
       "       [0.52106069, 0.49446226, 0.55616707, 0.50160604, 0.55480104],\n",
       "       [0.5206358 , 0.49394903, 0.55570702, 0.50115266, 0.55541214],\n",
       "       [0.52027135, 0.49350539, 0.55530895, 0.50076146, 0.55603333],\n",
       "       [0.51995825, 0.49312085, 0.5549639 , 0.50042318, 0.55665306],\n",
       "       [0.5196886 , 0.49278705, 0.55466406, 0.50013007, 0.55726225],\n",
       "       [0.51945602, 0.49249647, 0.55440306, 0.49987554, 0.55785451],\n",
       "       [0.51925489, 0.49224316, 0.55417527, 0.49965404, 0.55842496],\n",
       "       [0.51908068, 0.49202169, 0.55397615, 0.49946088, 0.55897049],\n",
       "       [0.51892938, 0.49182782, 0.55380162, 0.49929206, 0.55948886],\n",
       "       [0.51879778, 0.49165759, 0.55364841, 0.49914421, 0.55997905],\n",
       "       [0.51868299, 0.49150788, 0.55351357, 0.49901446, 0.5604405 ],\n",
       "       [0.51858268, 0.49137604, 0.55339469, 0.49890035, 0.56087323],\n",
       "       [0.51849488, 0.49125956, 0.55328972, 0.4987998 , 0.56127784],\n",
       "       [0.5184178 , 0.49115652, 0.55319678, 0.49871101, 0.56165507],\n",
       "       [0.51835002, 0.49106526, 0.55311438, 0.49863248, 0.5620059 ],\n",
       "       [0.51829033, 0.49098418, 0.55304118, 0.49856287, 0.56233145],\n",
       "       [0.51823761, 0.49091208, 0.55297609, 0.49850108, 0.56263308],\n",
       "       [0.51819098, 0.49084785, 0.55291806, 0.49844612, 0.56291204],\n",
       "       [0.51814966, 0.49079058, 0.55286626, 0.49839716, 0.56316966],\n",
       "       [0.51811298, 0.49073937, 0.55281996, 0.49835348, 0.56340721],\n",
       "       [0.51808038, 0.49069355, 0.55277854, 0.49831445, 0.5636261 ],\n",
       "       [0.51805132, 0.49065249, 0.5527414 , 0.49827953, 0.56382754],\n",
       "       [0.5180254 , 0.49061566, 0.55270806, 0.49824828, 0.56401276],\n",
       "       [0.51800224, 0.49058258, 0.55267812, 0.49822015, 0.56418292],\n",
       "       [0.51798152, 0.49055285, 0.55265118, 0.49819493, 0.56433912],\n",
       "       [0.51796296, 0.49052608, 0.55262693, 0.49817225, 0.56448243],\n",
       "       [0.5179463 , 0.49050195, 0.55260507, 0.49815185, 0.56461379],\n",
       "       [0.51793135, 0.49048019, 0.55258536, 0.49813345, 0.5647342 ],\n",
       "       [0.51791791, 0.49046055, 0.55256757, 0.49811687, 0.56484448],\n",
       "       [0.5179058 , 0.49044281, 0.55255149, 0.4981019 , 0.56494544],\n",
       "       [0.5178949 , 0.49042677, 0.55253695, 0.49808838, 0.56503784],\n",
       "       [0.51788506, 0.49041226, 0.55252379, 0.49807615, 0.56512236],\n",
       "       [0.51787619, 0.49039913, 0.55251189, 0.4980651 , 0.56519967],\n",
       "       [0.51786817, 0.49038724, 0.5525011 , 0.49805509, 0.56527034],\n",
       "       [0.51786092, 0.49037646, 0.55249132, 0.49804603, 0.56533494],\n",
       "       [0.51785437, 0.49036669, 0.55248246, 0.49803782, 0.56539397],\n",
       "       [0.51784843, 0.49035783, 0.55247442, 0.49803037, 0.5654479 ],\n",
       "       [0.51784306, 0.49034979, 0.55246712, 0.49802362, 0.56549716],\n",
       "       [0.51783819, 0.49034249, 0.5524605 , 0.49801749, 0.56554215],\n",
       "       [0.51783377, 0.49033586, 0.55245448, 0.49801193, 0.56558322],\n",
       "       [0.51782977, 0.49032984, 0.55244901, 0.49800688, 0.56562073],\n",
       "       [0.51782614, 0.49032437, 0.55244405, 0.49800229, 0.56565496],\n",
       "       [0.51782284, 0.49031939, 0.55243953, 0.49799812, 0.56568621],\n",
       "       [0.51781984, 0.49031487, 0.55243543, 0.49799434, 0.56571472],\n",
       "       [0.51781712, 0.49031076, 0.55243169, 0.49799089, 0.56574074],\n",
       "       [0.51781465, 0.49030702, 0.5524283 , 0.49798776, 0.56576449],\n",
       "       [0.5178124 , 0.49030362, 0.55242521, 0.49798491, 0.56578615],\n",
       "       [0.51781036, 0.49030052, 0.5524224 , 0.49798232, 0.56580591],\n",
       "       [0.5178085 , 0.4902977 , 0.55241984, 0.49797996, 0.56582394],\n",
       "       [0.51780681, 0.49029514, 0.55241751, 0.49797781, 0.56584039],\n",
       "       [0.51780528, 0.4902928 , 0.55241539, 0.49797586, 0.56585539],\n",
       "       [0.51780388, 0.49029068, 0.55241346, 0.49797408, 0.56586907],\n",
       "       [0.51780261, 0.49028874, 0.55241171, 0.49797246, 0.56588155],\n",
       "       [0.51780145, 0.49028698, 0.55241011, 0.49797099, 0.56589293],\n",
       "       [0.51780039, 0.49028538, 0.55240865, 0.49796965, 0.56590331],\n",
       "       [0.51779943, 0.49028392, 0.55240732, 0.49796843, 0.56591277],\n",
       "       [0.51779856, 0.49028258, 0.55240611, 0.49796731, 0.5659214 ],\n",
       "       [0.51779777, 0.49028137, 0.55240501, 0.4979663 , 0.56592927],\n",
       "       [0.51779704, 0.49028027, 0.55240401, 0.49796538, 0.56593645],\n",
       "       [0.51779638, 0.49027926, 0.5524031 , 0.49796454, 0.56594299],\n",
       "       [0.51779578, 0.49027834, 0.55240226, 0.49796377, 0.56594896],\n",
       "       [0.51779523, 0.49027751, 0.55240151, 0.49796307, 0.5659544 ],\n",
       "       [0.51779473, 0.49027675, 0.55240081, 0.49796243, 0.56595936],\n",
       "       [0.51779428, 0.49027605, 0.55240018, 0.49796185, 0.56596388],\n",
       "       [0.51779386, 0.49027542, 0.55239961, 0.49796133, 0.565968  ],\n",
       "       [0.51779349, 0.49027485, 0.55239909, 0.49796085, 0.56597176],\n",
       "       [0.51779314, 0.49027432, 0.55239861, 0.49796041, 0.56597519],\n",
       "       [0.51779283, 0.49027384, 0.55239818, 0.49796001, 0.56597831],\n",
       "       [0.51779254, 0.49027341, 0.55239778, 0.49795964, 0.56598116],\n",
       "       [0.51779228, 0.49027301, 0.55239742, 0.49795931, 0.56598376],\n",
       "       [0.51779205, 0.49027265, 0.55239709, 0.49795901, 0.56598613],\n",
       "       [0.51779183, 0.49027232, 0.55239679, 0.49795873, 0.56598828],\n",
       "       [0.51779163, 0.49027202, 0.55239652, 0.49795848, 0.56599025],\n",
       "       [0.51779146, 0.49027174, 0.55239627, 0.49795825, 0.56599205],\n",
       "       [0.51779129, 0.49027149, 0.55239604, 0.49795804, 0.56599368],\n",
       "       [0.51779114, 0.49027127, 0.55239584, 0.49795785, 0.56599517],\n",
       "       [0.51779101, 0.49027106, 0.55239565, 0.49795768, 0.56599653],\n",
       "       [0.51779088, 0.49027087, 0.55239548, 0.49795752, 0.56599777],\n",
       "       [0.51779077, 0.4902707 , 0.55239532, 0.49795738, 0.5659989 ],\n",
       "       [0.51779067, 0.49027054, 0.55239518, 0.49795725, 0.56599993],\n",
       "       [0.51779057, 0.4902704 , 0.55239505, 0.49795713, 0.56600087],\n",
       "       [0.51779049, 0.49027027, 0.55239493, 0.49795702, 0.56600172],\n",
       "       [0.51779041, 0.49027015, 0.55239482, 0.49795692, 0.5660025 ],\n",
       "       [0.51779034, 0.49027004, 0.55239472, 0.49795683, 0.56600322],\n",
       "       [0.51779027, 0.49026994, 0.55239463, 0.49795675, 0.56600386],\n",
       "       [0.51779022, 0.49026985, 0.55239455, 0.49795667, 0.56600446],\n",
       "       [0.51779016, 0.49026977, 0.55239448, 0.4979566 , 0.56600499],\n",
       "       [0.51779011, 0.49026969, 0.55239441, 0.49795654, 0.56600549],\n",
       "       [0.51779007, 0.49026962, 0.55239435, 0.49795648, 0.56600593],\n",
       "       [0.51779003, 0.49026956, 0.55239429, 0.49795643, 0.56600634],\n",
       "       [0.51778999, 0.49026951, 0.55239424, 0.49795638, 0.56600671],\n",
       "       [0.51778996, 0.49026945, 0.55239419, 0.49795634, 0.56600705],\n",
       "       [0.51778993, 0.49026941, 0.55239415, 0.4979563 , 0.56600736],\n",
       "       [0.5177899 , 0.49026936, 0.55239411, 0.49795626, 0.56600764],\n",
       "       [0.51778987, 0.49026932, 0.55239407, 0.49795623, 0.5660079 ],\n",
       "       [0.51778985, 0.49026929, 0.55239404, 0.4979562 , 0.56600813],\n",
       "       [0.51778983, 0.49026926, 0.55239401, 0.49795617, 0.56600835],\n",
       "       [0.51778981, 0.49026923, 0.55239398, 0.49795615, 0.56600854],\n",
       "       [0.51778979, 0.4902692 , 0.55239396, 0.49795613, 0.56600872],\n",
       "       [0.51778977, 0.49026918, 0.55239394, 0.49795611, 0.56600888],\n",
       "       [0.51778976, 0.49026915, 0.55239392, 0.49795609, 0.56600903],\n",
       "       [0.51778975, 0.49026913, 0.5523939 , 0.49795607, 0.56600916],\n",
       "       [0.51778973, 0.49026911, 0.55239388, 0.49795605, 0.56600929],\n",
       "       [0.51778972, 0.4902691 , 0.55239387, 0.49795604, 0.5660094 ],\n",
       "       [0.51778971, 0.49026908, 0.55239385, 0.49795603, 0.5660095 ],\n",
       "       [0.5177897 , 0.49026907, 0.55239384, 0.49795602, 0.56600959],\n",
       "       [0.5177897 , 0.49026905, 0.55239383, 0.49795601, 0.56600968],\n",
       "       [0.51778969, 0.49026904, 0.55239382, 0.497956  , 0.56600975],\n",
       "       [0.51778968, 0.49026903, 0.55239381, 0.49795599, 0.56600983],\n",
       "       [0.51778967, 0.49026902, 0.5523938 , 0.49795598, 0.56600989],\n",
       "       [0.51778967, 0.49026901, 0.55239379, 0.49795597, 0.56600995],\n",
       "       [0.51778966, 0.490269  , 0.55239378, 0.49795596, 0.56601   ],\n",
       "       [0.51778966, 0.490269  , 0.55239378, 0.49795596, 0.56601005],\n",
       "       [0.51778965, 0.49026899, 0.55239377, 0.49795595, 0.56601009],\n",
       "       [0.51778965, 0.49026898, 0.55239376, 0.49795595, 0.56601013],\n",
       "       [0.51778965, 0.49026898, 0.55239376, 0.49795594, 0.56601017],\n",
       "       [0.51778964, 0.49026897, 0.55239375, 0.49795594, 0.5660102 ],\n",
       "       [0.51778964, 0.49026897, 0.55239375, 0.49795593, 0.56601023],\n",
       "       [0.51778964, 0.49026896, 0.55239375, 0.49795593, 0.56601026],\n",
       "       [0.51778963, 0.49026896, 0.55239374, 0.49795593, 0.56601029],\n",
       "       [0.51778963, 0.49026896, 0.55239374, 0.49795592, 0.56601031],\n",
       "       [0.51778963, 0.49026895, 0.55239374, 0.49795592, 0.56601033],\n",
       "       [0.51778963, 0.49026895, 0.55239373, 0.49795592, 0.56601035],\n",
       "       [0.51778963, 0.49026895, 0.55239373, 0.49795592, 0.56601037],\n",
       "       [0.51778962, 0.49026895, 0.55239373, 0.49795591, 0.56601039],\n",
       "       [0.51778962, 0.49026894, 0.55239373, 0.49795591, 0.5660104 ],\n",
       "       [0.51778962, 0.49026894, 0.55239372, 0.49795591, 0.56601041],\n",
       "       [0.51778962, 0.49026894, 0.55239372, 0.49795591, 0.56601043],\n",
       "       [0.51778962, 0.49026894, 0.55239372, 0.49795591, 0.56601044],\n",
       "       [0.51778962, 0.49026894, 0.55239372, 0.49795591, 0.56601045],\n",
       "       [0.51778962, 0.49026894, 0.55239372, 0.49795591, 0.56601046],\n",
       "       [0.51778962, 0.49026893, 0.55239372, 0.4979559 , 0.56601046],\n",
       "       [0.51778962, 0.49026893, 0.55239372, 0.4979559 , 0.56601047],\n",
       "       [0.51778962, 0.49026893, 0.55239372, 0.4979559 , 0.56601048],\n",
       "       [0.51778961, 0.49026893, 0.55239371, 0.4979559 , 0.56601048],\n",
       "       [0.51778961, 0.49026893, 0.55239371, 0.4979559 , 0.56601049],\n",
       "       [0.51778961, 0.49026893, 0.55239371, 0.4979559 , 0.5660105 ],\n",
       "       [0.51778961, 0.49026893, 0.55239371, 0.4979559 , 0.5660105 ],\n",
       "       [0.51778961, 0.49026893, 0.55239371, 0.4979559 , 0.5660105 ],\n",
       "       [0.51778961, 0.49026893, 0.55239371, 0.4979559 , 0.56601051],\n",
       "       [0.51778961, 0.49026893, 0.55239371, 0.4979559 , 0.56601051],\n",
       "       [0.51778961, 0.49026893, 0.55239371, 0.4979559 , 0.56601052],\n",
       "       [0.51778961, 0.49026893, 0.55239371, 0.4979559 , 0.56601052],\n",
       "       [0.51778961, 0.49026893, 0.55239371, 0.4979559 , 0.56601052],\n",
       "       [0.51778961, 0.49026892, 0.55239371, 0.4979559 , 0.56601052],\n",
       "       [0.51778961, 0.49026892, 0.55239371, 0.4979559 , 0.56601053],\n",
       "       [0.51778961, 0.49026892, 0.55239371, 0.4979559 , 0.56601053],\n",
       "       [0.51778961, 0.49026892, 0.55239371, 0.4979559 , 0.56601053],\n",
       "       [0.51778961, 0.49026892, 0.55239371, 0.4979559 , 0.56601053],\n",
       "       [0.51778961, 0.49026892, 0.55239371, 0.4979559 , 0.56601053],\n",
       "       [0.51778961, 0.49026892, 0.55239371, 0.4979559 , 0.56601054],\n",
       "       [0.51778961, 0.49026892, 0.55239371, 0.4979559 , 0.56601054],\n",
       "       [0.51778961, 0.49026892, 0.55239371, 0.4979559 , 0.56601054],\n",
       "       [0.51778961, 0.49026892, 0.55239371, 0.4979559 , 0.56601054],\n",
       "       [0.51778961, 0.49026892, 0.55239371, 0.4979559 , 0.56601054],\n",
       "       [0.51778961, 0.49026892, 0.55239371, 0.4979559 , 0.56601054],\n",
       "       [0.51778961, 0.49026892, 0.55239371, 0.4979559 , 0.56601054],\n",
       "       [0.51778961, 0.49026892, 0.55239371, 0.49795589, 0.56601054],\n",
       "       [0.51778961, 0.49026892, 0.55239371, 0.49795589, 0.56601054],\n",
       "       [0.51778961, 0.49026892, 0.55239371, 0.49795589, 0.56601054],\n",
       "       [0.51778961, 0.49026892, 0.55239371, 0.49795589, 0.56601054],\n",
       "       [0.51778961, 0.49026892, 0.55239371, 0.49795589, 0.56601054],\n",
       "       [0.51778961, 0.49026892, 0.55239371, 0.49795589, 0.56601055],\n",
       "       [0.51778961, 0.49026892, 0.55239371, 0.49795589, 0.56601055],\n",
       "       [0.51778961, 0.49026892, 0.55239371, 0.49795589, 0.56601055],\n",
       "       [0.51778961, 0.49026892, 0.55239371, 0.49795589, 0.56601055],\n",
       "       [0.51778961, 0.49026892, 0.55239371, 0.49795589, 0.56601055],\n",
       "       [0.51778961, 0.49026892, 0.55239371, 0.49795589, 0.56601055],\n",
       "       [0.51778961, 0.49026892, 0.55239371, 0.49795589, 0.56601055],\n",
       "       [0.51778961, 0.49026892, 0.55239371, 0.49795589, 0.56601055],\n",
       "       [0.51778961, 0.49026892, 0.55239371, 0.49795589, 0.56601055],\n",
       "       [0.51778961, 0.49026892, 0.55239371, 0.49795589, 0.56601055],\n",
       "       [0.51778961, 0.49026892, 0.55239371, 0.49795589, 0.56601055],\n",
       "       [0.51778961, 0.49026892, 0.55239371, 0.49795589, 0.56601055],\n",
       "       [0.51778961, 0.49026892, 0.55239371, 0.49795589, 0.56601055],\n",
       "       [0.51778961, 0.49026892, 0.55239371, 0.49795589, 0.56601055],\n",
       "       [0.51778961, 0.49026892, 0.55239371, 0.49795589, 0.56601055],\n",
       "       [0.51778961, 0.49026892, 0.55239371, 0.49795589, 0.56601055],\n",
       "       [0.51778961, 0.49026892, 0.55239371, 0.49795589, 0.56601055],\n",
       "       [0.51778961, 0.49026892, 0.55239371, 0.49795589, 0.56601055],\n",
       "       [0.51778961, 0.49026892, 0.55239371, 0.49795589, 0.56601055],\n",
       "       [0.51778961, 0.49026892, 0.55239371, 0.49795589, 0.56601055],\n",
       "       [0.51778961, 0.49026892, 0.55239371, 0.49795589, 0.56601055],\n",
       "       [0.51778961, 0.49026892, 0.55239371, 0.49795589, 0.56601055],\n",
       "       [0.51778961, 0.49026892, 0.55239371, 0.49795589, 0.56601055],\n",
       "       [0.51778961, 0.49026892, 0.55239371, 0.49795589, 0.56601055],\n",
       "       [0.51778961, 0.49026892, 0.55239371, 0.49795589, 0.56601055],\n",
       "       [0.51778961, 0.49026892, 0.55239371, 0.49795589, 0.56601055],\n",
       "       [0.51778961, 0.49026892, 0.55239371, 0.49795589, 0.56601055],\n",
       "       [0.51778961, 0.49026892, 0.55239371, 0.49795589, 0.56601055],\n",
       "       [0.51778961, 0.49026892, 0.55239371, 0.49795589, 0.56601055],\n",
       "       [0.51778961, 0.49026892, 0.55239371, 0.49795589, 0.56601055],\n",
       "       [0.51778961, 0.49026892, 0.55239371, 0.49795589, 0.56601055],\n",
       "       [0.51778961, 0.49026892, 0.55239371, 0.49795589, 0.56601055],\n",
       "       [0.51778961, 0.49026892, 0.55239371, 0.49795589, 0.56601055]])"
      ]
     },
     "execution_count": 79,
     "metadata": {},
     "output_type": "execute_result"
    }
   ],
   "source": [
    "#调用所有交叉验证的结果\n",
    "lasso_.mse_path_"
   ]
  },
  {
   "cell_type": "code",
   "execution_count": 80,
   "metadata": {},
   "outputs": [
    {
     "data": {
      "text/plain": [
       "(200, 5)"
      ]
     },
     "execution_count": 80,
     "metadata": {},
     "output_type": "execute_result"
    }
   ],
   "source": [
    "lasso_.mse_path_.shape #返回每个alpha下的五折交叉验证结果"
   ]
  },
  {
   "cell_type": "code",
   "execution_count": 81,
   "metadata": {},
   "outputs": [
    {
     "data": {
      "text/plain": [
       "array([ 4.29867301e-01,  1.03623683e-02, -9.32648616e-02,  5.51755252e-01,\n",
       "        1.14732262e-06, -3.31941716e-03, -4.10451223e-01, -4.22410330e-01])"
      ]
     },
     "execution_count": 81,
     "metadata": {},
     "output_type": "execute_result"
    }
   ],
   "source": [
    "lasso_.mse_path_.mean(axis=1) # 而在岭回归中，设置的轴向是axis=0\n",
    "\n",
    "#在岭回归当中，使用了留一交叉验证，因此交叉验证结果返回的是，每一个样本在每个alpha下的交叉验证结果\n",
    "#因此要求每个alpha下的交叉验证均值，就是axis=0，跨行求均值\n",
    "#而在这里，返回的是，每一个alpha取值下，每一折交叉验证的结果\n",
    "#因此要求每个alpha下的交叉验证均值，就是axis=1，跨列求均值\n",
    "\n",
    "#最佳正则化系数下获得的模型的系数结果\n",
    "lasso_.coef_"
   ]
  },
  {
   "cell_type": "code",
   "execution_count": 82,
   "metadata": {},
   "outputs": [
    {
     "data": {
      "text/plain": [
       "0.6038982670571436"
      ]
     },
     "execution_count": 82,
     "metadata": {},
     "output_type": "execute_result"
    }
   ],
   "source": [
    "lasso_.score(Xtest,Ytest)"
   ]
  },
  {
   "cell_type": "code",
   "execution_count": 83,
   "metadata": {},
   "outputs": [
    {
     "data": {
      "text/plain": [
       "0.6043668160178817"
      ]
     },
     "execution_count": 83,
     "metadata": {},
     "output_type": "execute_result"
    }
   ],
   "source": [
    "#与线性回归相比如何？\n",
    "reg = LinearRegression().fit(Xtrain,Ytrain)\n",
    "reg.score(Xtest,Ytest)"
   ]
  },
  {
   "cell_type": "code",
   "execution_count": 84,
   "metadata": {},
   "outputs": [],
   "source": [
    "#使用lassoCV自带的正则化路径长度和路径中的alpha个数来自动建立alpha选择的范围\n",
    "ls_ = LassoCV(eps=0.00001\n",
    "              ,n_alphas=300\n",
    "              ,cv=5\n",
    "                ).fit(Xtrain, Ytrain)"
   ]
  },
  {
   "cell_type": "code",
   "execution_count": 85,
   "metadata": {},
   "outputs": [
    {
     "data": {
      "text/plain": [
       "0.0020954551690628557"
      ]
     },
     "execution_count": 85,
     "metadata": {},
     "output_type": "execute_result"
    }
   ],
   "source": [
    "ls_.alpha_"
   ]
  },
  {
   "cell_type": "code",
   "execution_count": 86,
   "metadata": {},
   "outputs": [
    {
     "data": {
      "text/plain": [
       "array([2.94059737e+01, 2.82952253e+01, 2.72264331e+01, 2.61980122e+01,\n",
       "       2.52084378e+01, 2.42562424e+01, 2.33400142e+01, 2.24583946e+01,\n",
       "       2.16100763e+01, 2.07938014e+01, 2.00083596e+01, 1.92525862e+01,\n",
       "       1.85253605e+01, 1.78256042e+01, 1.71522798e+01, 1.65043887e+01,\n",
       "       1.58809704e+01, 1.52811004e+01, 1.47038891e+01, 1.41484809e+01,\n",
       "       1.36140520e+01, 1.30998100e+01, 1.26049924e+01, 1.21288655e+01,\n",
       "       1.16707233e+01, 1.12298864e+01, 1.08057012e+01, 1.03975388e+01,\n",
       "       1.00047937e+01, 9.62688384e+00, 9.26324869e+00, 8.91334908e+00,\n",
       "       8.57666619e+00, 8.25270079e+00, 7.94097249e+00, 7.64101907e+00,\n",
       "       7.35239575e+00, 7.07467457e+00, 6.80744372e+00, 6.55030695e+00,\n",
       "       6.30288297e+00, 6.06480491e+00, 5.83571975e+00, 5.61528779e+00,\n",
       "       5.40318218e+00, 5.19908842e+00, 5.00270386e+00, 4.81373731e+00,\n",
       "       4.63190858e+00, 4.45694804e+00, 4.28859627e+00, 4.12660362e+00,\n",
       "       3.97072991e+00, 3.82074399e+00, 3.67642348e+00, 3.53755437e+00,\n",
       "       3.40393074e+00, 3.27535446e+00, 3.15163488e+00, 3.03258855e+00,\n",
       "       2.91803894e+00, 2.80781620e+00, 2.70175688e+00, 2.59970374e+00,\n",
       "       2.50150543e+00, 2.40701636e+00, 2.31609642e+00, 2.22861078e+00,\n",
       "       2.14442973e+00, 2.06342843e+00, 1.98548679e+00, 1.91048923e+00,\n",
       "       1.83832455e+00, 1.76888573e+00, 1.70206982e+00, 1.63777773e+00,\n",
       "       1.57591415e+00, 1.51638733e+00, 1.45910901e+00, 1.40399425e+00,\n",
       "       1.35096134e+00, 1.29993164e+00, 1.25082947e+00, 1.20358204e+00,\n",
       "       1.15811928e+00, 1.11437377e+00, 1.07228066e+00, 1.03177753e+00,\n",
       "       9.92804320e-01, 9.55303239e-01, 9.19218682e-01, 8.84497142e-01,\n",
       "       8.51087135e-01, 8.18939121e-01, 7.88005430e-01, 7.58240193e-01,\n",
       "       7.29599275e-01, 7.02040207e-01, 6.75522125e-01, 6.50005707e-01,\n",
       "       6.25453118e-01, 6.01827951e-01, 5.79095174e-01, 5.57221080e-01,\n",
       "       5.36173234e-01, 5.15920425e-01, 4.96432623e-01, 4.77680932e-01,\n",
       "       4.59637546e-01, 4.42275711e-01, 4.25569683e-01, 4.09494689e-01,\n",
       "       3.94026894e-01, 3.79143363e-01, 3.64822025e-01, 3.51041645e-01,\n",
       "       3.37781790e-01, 3.25022798e-01, 3.12745750e-01, 3.00932442e-01,\n",
       "       2.89565356e-01, 2.78627638e-01, 2.68103069e-01, 2.57976043e-01,\n",
       "       2.48231544e-01, 2.38855123e-01, 2.29832877e-01, 2.21151426e-01,\n",
       "       2.12797900e-01, 2.04759910e-01, 1.97025538e-01, 1.89583315e-01,\n",
       "       1.82422207e-01, 1.75531594e-01, 1.68901260e-01, 1.62521372e-01,\n",
       "       1.56382472e-01, 1.50475455e-01, 1.44791563e-01, 1.39322368e-01,\n",
       "       1.34059761e-01, 1.28995937e-01, 1.24123389e-01, 1.19434891e-01,\n",
       "       1.14923491e-01, 1.10582499e-01, 1.06405479e-01, 1.02386238e-01,\n",
       "       9.85188143e-02, 9.47974747e-02, 9.12167008e-02, 8.77711831e-02,\n",
       "       8.44558125e-02, 8.12656730e-02, 7.81960343e-02, 7.52423447e-02,\n",
       "       7.24002244e-02, 6.96654592e-02, 6.70339940e-02, 6.45019268e-02,\n",
       "       6.20655031e-02, 5.97211101e-02, 5.74652717e-02, 5.52946427e-02,\n",
       "       5.32060046e-02, 5.11962605e-02, 4.92624301e-02, 4.74016461e-02,\n",
       "       4.56111493e-02, 4.38882847e-02, 4.22304977e-02, 4.06353301e-02,\n",
       "       3.91004165e-02, 3.76234811e-02, 3.62023337e-02, 3.48348672e-02,\n",
       "       3.35190539e-02, 3.22529426e-02, 3.10346560e-02, 2.98623876e-02,\n",
       "       2.87343991e-02, 2.76490180e-02, 2.66046349e-02, 2.55997012e-02,\n",
       "       2.46327267e-02, 2.37022776e-02, 2.28069742e-02, 2.19454891e-02,\n",
       "       2.11165447e-02, 2.03189119e-02, 1.95514080e-02, 1.88128950e-02,\n",
       "       1.81022777e-02, 1.74185025e-02, 1.67605555e-02, 1.61274610e-02,\n",
       "       1.55182803e-02, 1.49321101e-02, 1.43680812e-02, 1.38253574e-02,\n",
       "       1.33031338e-02, 1.28006361e-02, 1.23171192e-02, 1.18518661e-02,\n",
       "       1.14041869e-02, 1.09734179e-02, 1.05589203e-02, 1.01600794e-02,\n",
       "       9.77630394e-03, 9.40702475e-03, 9.05169431e-03, 8.70978573e-03,\n",
       "       8.38079201e-03, 8.06422534e-03, 7.75961630e-03, 7.46651323e-03,\n",
       "       7.18448150e-03, 6.91310292e-03, 6.65197510e-03, 6.40071082e-03,\n",
       "       6.15893752e-03, 5.92629670e-03, 5.70244339e-03, 5.48704566e-03,\n",
       "       5.27978413e-03, 5.08035147e-03, 4.88845195e-03, 4.70380102e-03,\n",
       "       4.52612490e-03, 4.35516012e-03, 4.19065316e-03, 4.03236011e-03,\n",
       "       3.88004625e-03, 3.73348572e-03, 3.59246120e-03, 3.45676358e-03,\n",
       "       3.32619166e-03, 3.20055181e-03, 3.07965774e-03, 2.96333019e-03,\n",
       "       2.85139667e-03, 2.74369120e-03, 2.64005407e-03, 2.54033162e-03,\n",
       "       2.44437597e-03, 2.35204484e-03, 2.26320133e-03, 2.17771369e-03,\n",
       "       2.09545517e-03, 2.01630379e-03, 1.94014218e-03, 1.86685742e-03,\n",
       "       1.79634083e-03, 1.72848786e-03, 1.66319789e-03, 1.60037411e-03,\n",
       "       1.53992337e-03, 1.48175602e-03, 1.42578583e-03, 1.37192979e-03,\n",
       "       1.32010804e-03, 1.27024376e-03, 1.22226299e-03, 1.17609459e-03,\n",
       "       1.13167011e-03, 1.08892367e-03, 1.04779188e-03, 1.00821376e-03,\n",
       "       9.70130622e-04, 9.33485992e-04, 8.98225535e-04, 8.64296967e-04,\n",
       "       8.31649980e-04, 8.00236162e-04, 7.70008936e-04, 7.40923479e-04,\n",
       "       7.12936663e-04, 6.86006990e-04, 6.60094529e-04, 6.35160855e-04,\n",
       "       6.11168999e-04, 5.88083384e-04, 5.65869780e-04, 5.44495247e-04,\n",
       "       5.23928092e-04, 5.04137817e-04, 4.85095079e-04, 4.66771639e-04,\n",
       "       4.49140329e-04, 4.32175004e-04, 4.15850508e-04, 4.00142636e-04,\n",
       "       3.85028095e-04, 3.70484474e-04, 3.56490207e-04, 3.43024545e-04,\n",
       "       3.30067519e-04, 3.17599917e-04, 3.05603253e-04, 2.94059737e-04])"
      ]
     },
     "execution_count": 86,
     "metadata": {},
     "output_type": "execute_result"
    }
   ],
   "source": [
    "ls_.alphas_ #查看所有自动生成的alpha取值"
   ]
  },
  {
   "cell_type": "code",
   "execution_count": 87,
   "metadata": {},
   "outputs": [
    {
     "data": {
      "text/plain": [
       "(300,)"
      ]
     },
     "execution_count": 87,
     "metadata": {},
     "output_type": "execute_result"
    }
   ],
   "source": [
    "ls_.alphas_.shape"
   ]
  },
  {
   "cell_type": "code",
   "execution_count": 88,
   "metadata": {},
   "outputs": [
    {
     "data": {
      "text/plain": [
       "0.6038915423819201"
      ]
     },
     "execution_count": 88,
     "metadata": {},
     "output_type": "execute_result"
    }
   ],
   "source": [
    "ls_.score(Xtest,Ytest)"
   ]
  },
  {
   "cell_type": "code",
   "execution_count": 89,
   "metadata": {},
   "outputs": [
    {
     "data": {
      "text/plain": [
       "array([ 4.29785372e-01,  1.03639989e-02, -9.31060823e-02,  5.50940621e-01,\n",
       "        1.15407943e-06, -3.31909776e-03, -4.10423420e-01, -4.22369926e-01])"
      ]
     },
     "execution_count": 89,
     "metadata": {},
     "output_type": "execute_result"
    }
   ],
   "source": [
    "ls_.coef_"
   ]
  },
  {
   "cell_type": "code",
   "execution_count": 90,
   "metadata": {},
   "outputs": [],
   "source": [
    "import numpy as np\n",
    "import matplotlib.pyplot as plt\n",
    "from sklearn.linear_model import LinearRegression\n",
    "from sklearn.tree import DecisionTreeRegressor"
   ]
  },
  {
   "cell_type": "code",
   "execution_count": 91,
   "metadata": {},
   "outputs": [],
   "source": [
    "rnd = np.random.RandomState(42) #设置随机数种子\n",
    "X = rnd.uniform(-3, 3, size=100) #random.uniform，从输入的任意两个整数中取出size个随机数"
   ]
  },
  {
   "cell_type": "code",
   "execution_count": 92,
   "metadata": {},
   "outputs": [
    {
     "data": {
      "text/plain": [
       "array([-0.75275929,  2.70428584,  1.39196365,  0.59195091, -2.06388816,\n",
       "       -2.06403288, -2.65149833,  2.19705687,  0.60669007,  1.24843547,\n",
       "       -2.87649303,  2.81945911,  1.99465584, -1.72596534, -1.9090502 ,\n",
       "       -1.89957294, -1.17454654,  0.14853859, -0.40832989, -1.25262516,\n",
       "        0.67111737, -2.16303684, -1.24713211, -0.80182894, -0.26358009,\n",
       "        1.71105577, -1.80195731,  0.08540663,  0.55448741, -2.72129752,\n",
       "        0.64526911, -1.97685526, -2.60969044,  2.69331322,  2.7937922 ,\n",
       "        1.85038409, -1.17231738, -2.41396732,  1.10539816, -0.35908504,\n",
       "       -2.26777059, -0.02893854, -2.79366887,  2.45592241, -1.44732011,\n",
       "        0.97513371, -1.12973354,  0.12040813,  0.28026168, -1.89087327,\n",
       "        2.81750777,  1.65079694,  2.63699365,  2.3689641 ,  0.58739987,\n",
       "        2.53124541, -2.46904499, -1.82410283, -2.72863627, -1.04801802,\n",
       "       -0.66793626, -1.37190581,  1.97242505, -0.85948004, -1.31439294,\n",
       "        0.2561765 , -2.15445465,  1.81318188, -2.55269614,  2.92132162,\n",
       "        1.63346862, -1.80770591, -2.9668673 ,  1.89276857,  1.24114406,\n",
       "        1.37404301,  1.62762208, -2.55573209, -0.84920563, -2.30478564,\n",
       "        2.17862056,  0.73978876, -1.01461185, -2.6186499 , -1.13410607,\n",
       "       -1.04890007,  1.37763707,  0.82534483,  2.32327646, -0.16671045,\n",
       "       -2.28243452,  1.27946872,  1.56471029,  0.36766319,  1.62580308,\n",
       "       -0.03722642,  0.13639698, -0.43475389, -2.84748524, -2.35265144])"
      ]
     },
     "execution_count": 92,
     "metadata": {},
     "output_type": "execute_result"
    }
   ],
   "source": [
    "X #作为横坐标"
   ]
  },
  {
   "cell_type": "code",
   "execution_count": 93,
   "metadata": {},
   "outputs": [],
   "source": [
    "#生成y的思路：先使用NumPy中的函数生成一个sin函数图像，然后再人为添加噪音\n",
    "y = np.sin(X) + rnd.normal(size=len(X)) / 3 #random.normal，生成size个服从正态分布的随机数"
   ]
  },
  {
   "cell_type": "code",
   "execution_count": 94,
   "metadata": {},
   "outputs": [
    {
     "data": {
      "image/png": "[encoded data removed]",
      "text/plain": [
       "<Figure size 432x288 with 1 Axes>"
      ]
     },
     "metadata": {
      "needs_background": "light"
     },
     "output_type": "display_data"
    }
   ],
   "source": [
    "#使用散点图观察建立的数据集是什么样子\n",
    "plt.scatter(X, y,marker='o',c='k',s=20)\n",
    "plt.show()"
   ]
  },
  {
   "cell_type": "code",
   "execution_count": 95,
   "metadata": {},
   "outputs": [
    {
     "data": {
      "text/plain": [
       "(100,)"
      ]
     },
     "execution_count": 95,
     "metadata": {},
     "output_type": "execute_result"
    }
   ],
   "source": [
    "#为后续建模做准备：sklearn只接受二维以上数组作为特征矩阵的输入\n",
    "X.shape"
   ]
  },
  {
   "cell_type": "code",
   "execution_count": 96,
   "metadata": {},
   "outputs": [],
   "source": [
    "X = X.reshape(-1, 1)    # 需要进行reshape，转成模型需要的格式"
   ]
  },
  {
   "cell_type": "code",
   "execution_count": 97,
   "metadata": {},
   "outputs": [
    {
     "data": {
      "text/plain": [
       "(100, 1)"
      ]
     },
     "execution_count": 97,
     "metadata": {},
     "output_type": "execute_result"
    }
   ],
   "source": [
    "X.shape"
   ]
  },
  {
   "cell_type": "code",
   "execution_count": 98,
   "metadata": {},
   "outputs": [],
   "source": [
    "#使用原始数据进行建模\n",
    "LinearR = LinearRegression().fit(X, y)\n",
    "TreeR = DecisionTreeRegressor(random_state=0).fit(X, y)"
   ]
  },
  {
   "cell_type": "code",
   "execution_count": 99,
   "metadata": {},
   "outputs": [
    {
     "data": {
      "image/png": "[encoded data removed]",
      "text/plain": [
       "<Figure size 432x288 with 1 Axes>"
      ]
     },
     "metadata": {
      "needs_background": "light"
     },
     "output_type": "display_data"
    }
   ],
   "source": [
    "#放置画布\n",
    "fig, ax1 = plt.subplots(1)\n",
    "\n",
    "#创建测试数据：一系列分布在横坐标上的点\n",
    "line = np.linspace(-3, 3, 1000, endpoint=False).reshape(-1, 1)\n",
    "\n",
    "#将测试数据带入predict接口，获得模型的拟合效果并进行绘制\n",
    "ax1.plot(line, LinearR.predict(line), linewidth=2, color='green',\n",
    "         label=\"linear regression\")\n",
    "ax1.plot(line, TreeR.predict(line), linewidth=2, color='red',\n",
    "         label=\"decision tree\")\n",
    "\n",
    "#将原数据上的拟合绘制在图像上\n",
    "ax1.plot(X[:, 0], y, 'o', c='k')\n",
    "\n",
    "#图的其他参数设置\n",
    "ax1.legend(loc=\"best\")\n",
    "ax1.set_ylabel(\"Regression output\")\n",
    "ax1.set_xlabel(\"Input feature\")\n",
    "ax1.set_title(\"Result before discretization\")\n",
    "plt.tight_layout()\n",
    "plt.show()"
   ]
  },
  {
   "cell_type": "code",
   "execution_count": 101,
   "metadata": {},
   "outputs": [],
   "source": [
    "from sklearn.preprocessing import KBinsDiscretizer\n",
    "\n",
    "#将数据分箱\n",
    "enc = KBinsDiscretizer(n_bins=10 #分几类？\n",
    "                       ,encode=\"onehot\") #ordinal\n",
    "X_binned = enc.fit_transform(X)\n",
    "#encode模式\"onehot\"：使用做哑变量方式做离散化\n",
    "#之后返回一个稀疏矩阵(m,n_bins)，每一列是一个分好的类别\n",
    "#对每一个样本而言，它包含的分类（箱子）中它表示为1，其余分类中它表示为0"
   ]
  },
  {
   "cell_type": "code",
   "execution_count": 102,
   "metadata": {},
   "outputs": [
    {
     "data": {
      "text/plain": [
       "(100, 1)"
      ]
     },
     "execution_count": 102,
     "metadata": {},
     "output_type": "execute_result"
    }
   ],
   "source": [
    "X.shape"
   ]
  },
  {
   "cell_type": "code",
   "execution_count": 103,
   "metadata": {},
   "outputs": [
    {
     "data": {
      "text/plain": [
       "<100x10 sparse matrix of type '<class 'numpy.float64'>'\n",
       "\twith 100 stored elements in Compressed Sparse Row format>"
      ]
     },
     "execution_count": 103,
     "metadata": {},
     "output_type": "execute_result"
    }
   ],
   "source": [
    "X_binned"
   ]
  },
  {
   "cell_type": "code",
   "execution_count": 104,
   "metadata": {},
   "outputs": [
    {
     "data": {
      "text/html": [
       "<div>\n",
       "<style scoped>\n",
       "    .dataframe tbody tr th:only-of-type {\n",
       "        vertical-align: middle;\n",
       "    }\n",
       "\n",
       "    .dataframe tbody tr th {\n",
       "        vertical-align: top;\n",
       "    }\n",
       "\n",
       "    .dataframe thead th {\n",
       "        text-align: right;\n",
       "    }\n",
       "</style>\n",
       "<table border=\"1\" class=\"dataframe\">\n",
       "  <thead>\n",
       "    <tr style=\"text-align: right;\">\n",
       "      <th></th>\n",
       "      <th>0</th>\n",
       "      <th>1</th>\n",
       "      <th>2</th>\n",
       "      <th>3</th>\n",
       "      <th>4</th>\n",
       "      <th>5</th>\n",
       "      <th>6</th>\n",
       "      <th>7</th>\n",
       "      <th>8</th>\n",
       "      <th>9</th>\n",
       "    </tr>\n",
       "  </thead>\n",
       "  <tbody>\n",
       "    <tr>\n",
       "      <th>0</th>\n",
       "      <td>0.0</td>\n",
       "      <td>0.0</td>\n",
       "      <td>0.0</td>\n",
       "      <td>0.0</td>\n",
       "      <td>1.0</td>\n",
       "      <td>0.0</td>\n",
       "      <td>0.0</td>\n",
       "      <td>0.0</td>\n",
       "      <td>0.0</td>\n",
       "      <td>0.0</td>\n",
       "    </tr>\n",
       "    <tr>\n",
       "      <th>1</th>\n",
       "      <td>0.0</td>\n",
       "      <td>0.0</td>\n",
       "      <td>0.0</td>\n",
       "      <td>0.0</td>\n",
       "      <td>0.0</td>\n",
       "      <td>0.0</td>\n",
       "      <td>0.0</td>\n",
       "      <td>0.0</td>\n",
       "      <td>0.0</td>\n",
       "      <td>1.0</td>\n",
       "    </tr>\n",
       "    <tr>\n",
       "      <th>2</th>\n",
       "      <td>0.0</td>\n",
       "      <td>0.0</td>\n",
       "      <td>0.0</td>\n",
       "      <td>0.0</td>\n",
       "      <td>0.0</td>\n",
       "      <td>0.0</td>\n",
       "      <td>0.0</td>\n",
       "      <td>1.0</td>\n",
       "      <td>0.0</td>\n",
       "      <td>0.0</td>\n",
       "    </tr>\n",
       "    <tr>\n",
       "      <th>3</th>\n",
       "      <td>0.0</td>\n",
       "      <td>0.0</td>\n",
       "      <td>0.0</td>\n",
       "      <td>0.0</td>\n",
       "      <td>0.0</td>\n",
       "      <td>0.0</td>\n",
       "      <td>1.0</td>\n",
       "      <td>0.0</td>\n",
       "      <td>0.0</td>\n",
       "      <td>0.0</td>\n",
       "    </tr>\n",
       "    <tr>\n",
       "      <th>4</th>\n",
       "      <td>0.0</td>\n",
       "      <td>0.0</td>\n",
       "      <td>1.0</td>\n",
       "      <td>0.0</td>\n",
       "      <td>0.0</td>\n",
       "      <td>0.0</td>\n",
       "      <td>0.0</td>\n",
       "      <td>0.0</td>\n",
       "      <td>0.0</td>\n",
       "      <td>0.0</td>\n",
       "    </tr>\n",
       "  </tbody>\n",
       "</table>\n",
       "</div>"
      ],
      "text/plain": [
       "     0    1    2    3    4    5    6    7    8    9\n",
       "0  0.0  0.0  0.0  0.0  1.0  0.0  0.0  0.0  0.0  0.0\n",
       "1  0.0  0.0  0.0  0.0  0.0  0.0  0.0  0.0  0.0  1.0\n",
       "2  0.0  0.0  0.0  0.0  0.0  0.0  0.0  1.0  0.0  0.0\n",
       "3  0.0  0.0  0.0  0.0  0.0  0.0  1.0  0.0  0.0  0.0\n",
       "4  0.0  0.0  1.0  0.0  0.0  0.0  0.0  0.0  0.0  0.0"
      ]
     },
     "execution_count": 104,
     "metadata": {},
     "output_type": "execute_result"
    }
   ],
   "source": [
    "#使用pandas打开稀疏矩阵\n",
    "import pandas as pd\n",
    "pd.DataFrame(X_binned.toarray()).head()"
   ]
  },
  {
   "cell_type": "code",
   "execution_count": 106,
   "metadata": {},
   "outputs": [],
   "source": [
    "#使用分箱后的数据来训练模型，在sklearn中，测试集和训练集的结构必须保持一致，否则报错\n",
    "LinearR_ = LinearRegression().fit(X_binned, y)"
   ]
  },
  {
   "cell_type": "code",
   "execution_count": 108,
   "metadata": {},
   "outputs": [
    {
     "data": {
      "text/plain": [
       "(1000, 1)"
      ]
     },
     "execution_count": 108,
     "metadata": {},
     "output_type": "execute_result"
    }
   ],
   "source": [
    "line.shape #测试"
   ]
  },
  {
   "cell_type": "code",
   "execution_count": 109,
   "metadata": {},
   "outputs": [
    {
     "data": {
      "text/plain": [
       "(100, 10)"
      ]
     },
     "execution_count": 109,
     "metadata": {},
     "output_type": "execute_result"
    }
   ],
   "source": [
    "X_binned.shape #训练"
   ]
  },
  {
   "cell_type": "code",
   "execution_count": 110,
   "metadata": {},
   "outputs": [],
   "source": [
    "#因此需要创建分箱后的测试集：按照已经建好的分箱模型将line分箱\n",
    "line_binned = enc.transform(line)"
   ]
  },
  {
   "cell_type": "code",
   "execution_count": 111,
   "metadata": {},
   "outputs": [
    {
     "data": {
      "text/plain": [
       "(1000, 10)"
      ]
     },
     "execution_count": 111,
     "metadata": {},
     "output_type": "execute_result"
    }
   ],
   "source": [
    "line_binned.shape #分箱后的数据是无法进行绘图的"
   ]
  },
  {
   "cell_type": "code",
   "execution_count": 112,
   "metadata": {},
   "outputs": [
    {
     "data": {
      "text/plain": [
       "<1000x10 sparse matrix of type '<class 'numpy.float64'>'\n",
       "\twith 1000 stored elements in Compressed Sparse Row format>"
      ]
     },
     "execution_count": 112,
     "metadata": {},
     "output_type": "execute_result"
    }
   ],
   "source": [
    "line_binned"
   ]
  },
  {
   "cell_type": "code",
   "execution_count": 113,
   "metadata": {},
   "outputs": [
    {
     "data": {
      "text/plain": [
       "(1000,)"
      ]
     },
     "execution_count": 113,
     "metadata": {},
     "output_type": "execute_result"
    }
   ],
   "source": [
    "LinearR_.predict(line_binned).shape"
   ]
  },
  {
   "cell_type": "code",
   "execution_count": 114,
   "metadata": {},
   "outputs": [
    {
     "data": {
      "text/plain": [
       "array([-2.9668673 , -2.55299973, -2.0639171 , -1.3945301 , -1.02797432,\n",
       "       -0.21514527,  0.44239288,  1.14612193,  1.63693428,  2.32784522,\n",
       "        2.92132162])"
      ]
     },
     "execution_count": 114,
     "metadata": {},
     "output_type": "execute_result"
    }
   ],
   "source": [
    "enc.bin_edges_[0] #分出的箱子的上限和下限"
   ]
  },
  {
   "cell_type": "code",
   "execution_count": 115,
   "metadata": {},
   "outputs": [
    {
     "data": {
      "text/plain": [
       "[0.0, 1.0]"
      ]
     },
     "execution_count": 115,
     "metadata": {},
     "output_type": "execute_result"
    },
    {
     "data": {
      "image/png": "[encoded data removed]",
      "text/plain": [
       "<Figure size 432x288 with 1 Axes>"
      ]
     },
     "metadata": {
      "needs_background": "light"
     },
     "output_type": "display_data"
    }
   ],
   "source": [
    "[*plt.gca().get_ylim()]"
   ]
  },
  {
   "cell_type": "code",
   "execution_count": 116,
   "metadata": {},
   "outputs": [],
   "source": [
    "#准备数据\n",
    "enc = KBinsDiscretizer(n_bins=10,encode=\"onehot\")\n",
    "X_binned = enc.fit_transform(X)\n",
    "line_binned = enc.transform(line)"
   ]
  },
  {
   "cell_type": "code",
   "execution_count": 117,
   "metadata": {},
   "outputs": [
    {
     "data": {
      "image/png": "[encoded data removed]",
      "text/plain": [
       "<Figure size 720x288 with 2 Axes>"
      ]
     },
     "metadata": {
      "needs_background": "light"
     },
     "output_type": "display_data"
    }
   ],
   "source": [
    "#将两张图像绘制在一起，布置画布\n",
    "fig, (ax1, ax2) = plt.subplots(ncols=2\n",
    "                               , sharey=True #让两张图共享y轴上的刻度\n",
    "                               , figsize=(10, 4))\n",
    "\n",
    "#在图1中布置在原始数据上建模的结果\n",
    "ax1.plot(line, LinearR.predict(line), linewidth=2, color='green',\n",
    "         label=\"linear regression\")\n",
    "ax1.plot(line, TreeR.predict(line), linewidth=2, color='red',\n",
    "         label=\"decision tree\")\n",
    "ax1.plot(X[:, 0], y, 'o', c='k')\n",
    "ax1.legend(loc=\"best\")\n",
    "ax1.set_ylabel(\"Regression output\")\n",
    "ax1.set_xlabel(\"Input feature\")\n",
    "ax1.set_title(\"Result before discretization\")\n",
    "\n",
    "#使用分箱数据进行建模\n",
    "LinearR_ = LinearRegression().fit(X_binned, y)\n",
    "TreeR_ = DecisionTreeRegressor(random_state=0).fit(X_binned, y)\n",
    "\n",
    "#进行预测，在图2中布置在分箱数据上进行预测的结果\n",
    "ax2.plot(line #横坐标\n",
    "         , LinearR_.predict(line_binned) #分箱后的特征矩阵的结果\n",
    "         , linewidth=2\n",
    "         , color='green'\n",
    "         , linestyle='-'\n",
    "         , label='linear regression')\n",
    "\n",
    "ax2.plot(line, TreeR_.predict(line_binned), linewidth=2, color='red',\n",
    "         linestyle=':', label='decision tree')\n",
    "\n",
    "#绘制和箱宽一致的竖线\n",
    "ax2.vlines(enc.bin_edges_[0] #x轴\n",
    "           , *plt.gca().get_ylim() #y轴的上限和下限\n",
    "           , linewidth=1\n",
    "           , alpha=.2)\n",
    "\n",
    "#将原始数据分布放置在图像上\n",
    "ax2.plot(X[:, 0], y, 'o', c='k')\n",
    "\n",
    "#其他绘图设定\n",
    "ax2.legend(loc=\"best\")\n",
    "ax2.set_xlabel(\"Input feature\")\n",
    "ax2.set_title(\"Result after discretization\")\n",
    "plt.tight_layout()\n",
    "plt.show()"
   ]
  },
  {
   "cell_type": "code",
   "execution_count": 118,
   "metadata": {},
   "outputs": [
    {
     "name": "stdout",
     "output_type": "stream",
     "text": [
      "0.9590978882491229\n"
     ]
    },
    {
     "data": {
      "image/png": "[encoded data removed]",
      "text/plain": [
       "<Figure size 360x288 with 1 Axes>"
      ]
     },
     "metadata": {
      "needs_background": "light"
     },
     "output_type": "display_data"
    }
   ],
   "source": [
    "enc = KBinsDiscretizer(n_bins=15,encode=\"onehot\")\n",
    "X_binned = enc.fit_transform(X)\n",
    "line_binned = enc.transform(line)\n",
    "\n",
    "fig, ax2 = plt.subplots(1,figsize=(5,4))\n",
    "\n",
    "LinearR_ = LinearRegression().fit(X_binned, y)\n",
    "print(LinearR_.score(line_binned,np.sin(line)))\n",
    "TreeR_ = DecisionTreeRegressor(random_state=0).fit(X_binned, y)\n",
    "\n",
    "ax2.plot(line #横坐标\n",
    "         , LinearR_.predict(line_binned) #分箱后的特征矩阵的结果\n",
    "         , linewidth=2\n",
    "         , color='green'\n",
    "         , linestyle='-'\n",
    "         , label='linear regression')\n",
    "ax2.plot(line, TreeR_.predict(line_binned), linewidth=2, color='red',\n",
    "         linestyle=':', label='decision tree')\n",
    "ax2.vlines(enc.bin_edges_[0], *plt.gca().get_ylim(), linewidth=1, alpha=.2)\n",
    "ax2.plot(X[:, 0], y, 'o', c='k')\n",
    "ax2.legend(loc=\"best\")\n",
    "ax2.set_xlabel(\"Input feature\")\n",
    "ax2.set_title(\"Result after discretization\")\n",
    "plt.tight_layout()\n",
    "plt.show()"
   ]
  },
  {
   "cell_type": "code",
   "execution_count": 119,
   "metadata": {},
   "outputs": [],
   "source": [
    "#怎样选取最优的箱子?\n",
    "from sklearn.model_selection import cross_val_score as CVS\n",
    "import numpy as np"
   ]
  },
  {
   "cell_type": "code",
   "execution_count": 120,
   "metadata": {},
   "outputs": [
    {
     "data": {
      "image/png": "[encoded data removed]",
      "text/plain": [
       "<Figure size 432x360 with 1 Axes>"
      ]
     },
     "metadata": {
      "needs_background": "light"
     },
     "output_type": "display_data"
    }
   ],
   "source": [
    "pred,score,var = [], [], []\n",
    "binsrange = [2,5,10,15,20,30]\n",
    "for i in binsrange:\n",
    "    #实例化分箱类\n",
    "    enc = KBinsDiscretizer(n_bins=i,encode=\"onehot\")\n",
    "    #转换数据\n",
    "    X_binned = enc.fit_transform(X)\n",
    "    line_binned = enc.transform(line)\n",
    "    #建立模型\n",
    "    LinearR_ = LinearRegression()\n",
    "    #全数据集上的交叉验证\n",
    "    cvresult = CVS(LinearR_,X_binned,y,cv=5)\n",
    "    score.append(cvresult.mean())\n",
    "    var.append(cvresult.var())\n",
    "    #测试数据集上的打分结果\n",
    "    pred.append(LinearR_.fit(X_binned,y).score(line_binned,np.sin(line)))\n",
    "#绘制图像\n",
    "plt.figure(figsize=(6,5))\n",
    "plt.plot(binsrange,pred,c=\"orange\",label=\"test\")\n",
    "plt.plot(binsrange,score,c=\"k\",label=\"full data\")\n",
    "plt.plot(binsrange,score+np.array(var)*0.5,c=\"red\",linestyle=\"--\",label = \"var\")\n",
    "plt.plot(binsrange,score-np.array(var)*0.5,c=\"red\",linestyle=\"--\")\n",
    "plt.legend()\n",
    "plt.show()"
   ]
  },
  {
   "cell_type": "code",
   "execution_count": 139,
   "metadata": {},
   "outputs": [],
   "source": [
    "from sklearn.preprocessing import PolynomialFeatures                  # 多项式回归模型\n",
    "import numpy as np"
   ]
  },
  {
   "cell_type": "code",
   "execution_count": 140,
   "metadata": {},
   "outputs": [
    {
     "data": {
      "text/plain": [
       "array([[1],\n",
       "       [2],\n",
       "       [3]])"
      ]
     },
     "execution_count": 140,
     "metadata": {},
     "output_type": "execute_result"
    }
   ],
   "source": [
    "#如果原始数据是一维的\n",
    "X = np.arange(1,4).reshape(-1,1)\n",
    "X"
   ]
  },
  {
   "cell_type": "code",
   "execution_count": 127,
   "metadata": {},
   "outputs": [],
   "source": [
    "#二次多项式，参数degree控制多项式的次方\n",
    "poly = PolynomialFeatures(degree=2)"
   ]
  },
  {
   "cell_type": "code",
   "execution_count": 141,
   "metadata": {},
   "outputs": [],
   "source": [
    "#接口transform直接调用\n",
    "X_ = poly.fit_transform(X)"
   ]
  },
  {
   "cell_type": "code",
   "execution_count": 142,
   "metadata": {},
   "outputs": [
    {
     "data": {
      "text/plain": [
       "array([[1., 1., 1.],\n",
       "       [1., 2., 4.],\n",
       "       [1., 3., 9.]])"
      ]
     },
     "execution_count": 142,
     "metadata": {},
     "output_type": "execute_result"
    }
   ],
   "source": [
    "X_"
   ]
  },
  {
   "cell_type": "code",
   "execution_count": 143,
   "metadata": {},
   "outputs": [
    {
     "data": {
      "text/plain": [
       "(3, 3)"
      ]
     },
     "execution_count": 143,
     "metadata": {},
     "output_type": "execute_result"
    }
   ],
   "source": [
    "X_.shape"
   ]
  },
  {
   "cell_type": "code",
   "execution_count": 144,
   "metadata": {},
   "outputs": [
    {
     "data": {
      "text/plain": [
       "array([[ 1.,  1.,  1.,  1.],\n",
       "       [ 1.,  2.,  4.,  8.],\n",
       "       [ 1.,  3.,  9., 27.]])"
      ]
     },
     "execution_count": 144,
     "metadata": {},
     "output_type": "execute_result"
    }
   ],
   "source": [
    "#三次多项式\n",
    "PolynomialFeatures(degree=3).fit_transform(X)     # 带有截距的，第一列为截距"
   ]
  },
  {
   "cell_type": "code",
   "execution_count": 145,
   "metadata": {},
   "outputs": [
    {
     "data": {
      "text/plain": [
       "array([[ 1.,  1.,  1.],\n",
       "       [ 2.,  4.,  8.],\n",
       "       [ 3.,  9., 27.]])"
      ]
     },
     "execution_count": 145,
     "metadata": {},
     "output_type": "execute_result"
    }
   ],
   "source": [
    "#三次多项式，不带与截距项相乘的x0\n",
    "PolynomialFeatures(degree=3,include_bias=False).fit_transform(X)"
   ]
  },
  {
   "cell_type": "code",
   "execution_count": 146,
   "metadata": {},
   "outputs": [
    {
     "data": {
      "text/plain": [
       "array([ 0.49671415, -0.1382643 ,  0.64768854])"
      ]
     },
     "execution_count": 146,
     "metadata": {},
     "output_type": "execute_result"
    }
   ],
   "source": [
    "rnd = np.random.RandomState(42) #设置随机数种子\n",
    "y = rnd.randn(3)\n",
    "\n",
    "y"
   ]
  },
  {
   "cell_type": "code",
   "execution_count": 147,
   "metadata": {},
   "outputs": [],
   "source": [
    "xxx = PolynomialFeatures(degree=3, include_bias=False).fit_transform(X)"
   ]
  },
  {
   "cell_type": "code",
   "execution_count": 148,
   "metadata": {},
   "outputs": [
    {
     "data": {
      "text/plain": [
       "array([-0.3510453 , -0.60698713,  0.21957546])"
      ]
     },
     "execution_count": 148,
     "metadata": {},
     "output_type": "execute_result"
    }
   ],
   "source": [
    "#生成了多少个系数？\n",
    "LinearRegression().fit(xxx,y).coef_"
   ]
  },
  {
   "cell_type": "code",
   "execution_count": 149,
   "metadata": {},
   "outputs": [
    {
     "data": {
      "text/plain": [
       "1.2351711202036906"
      ]
     },
     "execution_count": 149,
     "metadata": {},
     "output_type": "execute_result"
    }
   ],
   "source": [
    "#查看截距\n",
    "LinearRegression().fit(xxx,y).intercept_"
   ]
  },
  {
   "cell_type": "code",
   "execution_count": 150,
   "metadata": {},
   "outputs": [
    {
     "data": {
      "text/plain": [
       "array([ 1.91343509, -1.84215825,  0.42543732])"
      ]
     },
     "execution_count": 150,
     "metadata": {},
     "output_type": "execute_result"
    }
   ],
   "source": [
    "#可以看到，线性回归并没有把多项式生成的x0当作是截距项\n",
    "#所以可以选择：关闭多项式回归中的include_bias\n",
    "#也可以选择：关闭线性回归中的fit_intercept\n",
    "\n",
    "#生成了多少个系数？\n",
    "LinearRegression(fit_intercept=False).fit(xxx,y).coef_"
   ]
  },
  {
   "cell_type": "code",
   "execution_count": 151,
   "metadata": {},
   "outputs": [
    {
     "data": {
      "text/plain": [
       "0.0"
      ]
     },
     "execution_count": 151,
     "metadata": {},
     "output_type": "execute_result"
    }
   ],
   "source": [
    "#查看截距\n",
    "LinearRegression(fit_intercept=False).fit(xxx,y).intercept_"
   ]
  },
  {
   "cell_type": "code",
   "execution_count": 152,
   "metadata": {},
   "outputs": [
    {
     "data": {
      "text/plain": [
       "array([[0, 1],\n",
       "       [2, 3],\n",
       "       [4, 5]])"
      ]
     },
     "execution_count": 152,
     "metadata": {},
     "output_type": "execute_result"
    }
   ],
   "source": [
    "X = np.arange(6).reshape(3, 2)\n",
    "X"
   ]
  },
  {
   "cell_type": "code",
   "execution_count": 153,
   "metadata": {},
   "outputs": [
    {
     "data": {
      "text/plain": [
       "array([[ 1.,  0.,  1.,  0.,  0.,  1.],\n",
       "       [ 1.,  2.,  3.,  4.,  6.,  9.],\n",
       "       [ 1.,  4.,  5., 16., 20., 25.]])"
      ]
     },
     "execution_count": 153,
     "metadata": {},
     "output_type": "execute_result"
    }
   ],
   "source": [
    "#尝试二次多项式\n",
    "PolynomialFeatures(degree=2).fit_transform(X)"
   ]
  },
  {
   "cell_type": "code",
   "execution_count": 154,
   "metadata": {},
   "outputs": [
    {
     "data": {
      "text/plain": [
       "array([[  1.,   0.,   1.,   0.,   0.,   1.,   0.,   0.,   0.,   1.],\n",
       "       [  1.,   2.,   3.,   4.,   6.,   9.,   8.,  12.,  18.,  27.],\n",
       "       [  1.,   4.,   5.,  16.,  20.,  25.,  64.,  80., 100., 125.]])"
      ]
     },
     "execution_count": 154,
     "metadata": {},
     "output_type": "execute_result"
    }
   ],
   "source": [
    "#尝试三次多项式\n",
    "PolynomialFeatures(degree=3).fit_transform(X)"
   ]
  },
  {
   "cell_type": "code",
   "execution_count": 155,
   "metadata": {},
   "outputs": [
    {
     "data": {
      "text/plain": [
       "array([[ 1.,  0.,  1.,  0.,  0.,  1.],\n",
       "       [ 1.,  2.,  3.,  4.,  6.,  9.],\n",
       "       [ 1.,  4.,  5., 16., 20., 25.]])"
      ]
     },
     "execution_count": 155,
     "metadata": {},
     "output_type": "execute_result"
    }
   ],
   "source": [
    "PolynomialFeatures(degree=2).fit_transform(X)"
   ]
  },
  {
   "cell_type": "code",
   "execution_count": 156,
   "metadata": {},
   "outputs": [
    {
     "data": {
      "text/plain": [
       "array([[ 1.,  0.,  1.,  0.],\n",
       "       [ 1.,  2.,  3.,  6.],\n",
       "       [ 1.,  4.,  5., 20.]])"
      ]
     },
     "execution_count": 156,
     "metadata": {},
     "output_type": "execute_result"
    }
   ],
   "source": [
    "PolynomialFeatures(degree=2,interaction_only=True).fit_transform(X)\n",
    "#对比之下，当interaction_only为True的时候，只生成交互项"
   ]
  },
  {
   "cell_type": "code",
   "execution_count": 157,
   "metadata": {},
   "outputs": [
    {
     "data": {
      "text/plain": [
       "array([[ 0,  1,  2,  3,  4,  5,  6,  7,  8,  9],\n",
       "       [10, 11, 12, 13, 14, 15, 16, 17, 18, 19]])"
      ]
     },
     "execution_count": 157,
     "metadata": {},
     "output_type": "execute_result"
    }
   ],
   "source": [
    "#更高维度的原始特征矩阵\n",
    "X = np.arange(20).reshape(2, 10)\n",
    "X"
   ]
  },
  {
   "cell_type": "code",
   "execution_count": 158,
   "metadata": {},
   "outputs": [
    {
     "data": {
      "text/plain": [
       "(2, 66)"
      ]
     },
     "execution_count": 158,
     "metadata": {},
     "output_type": "execute_result"
    }
   ],
   "source": [
    "PolynomialFeatures(degree=2).fit_transform(X).shape"
   ]
  },
  {
   "cell_type": "code",
   "execution_count": 159,
   "metadata": {},
   "outputs": [
    {
     "data": {
      "text/plain": [
       "(2, 286)"
      ]
     },
     "execution_count": 159,
     "metadata": {},
     "output_type": "execute_result"
    }
   ],
   "source": [
    "PolynomialFeatures(degree=3).fit_transform(X).shape"
   ]
  },
  {
   "cell_type": "code",
   "execution_count": 160,
   "metadata": {},
   "outputs": [
    {
     "data": {
      "text/plain": [
       "(2, 30045015)"
      ]
     },
     "execution_count": 160,
     "metadata": {},
     "output_type": "execute_result"
    }
   ],
   "source": [
    "X_ = PolynomialFeatures(degree=20).fit_transform(X)\n",
    "\n",
    "X_.shape"
   ]
  },
  {
   "cell_type": "code",
   "execution_count": 161,
   "metadata": {},
   "outputs": [],
   "source": [
    "from sklearn.preprocessing import PolynomialFeatures as PF\n",
    "from sklearn.linear_model import LinearRegression\n",
    "import numpy as np\n",
    "\n",
    "rnd = np.random.RandomState(42) #设置随机数种子\n",
    "X = rnd.uniform(-3, 3, size=100)\n",
    "y = np.sin(X) + rnd.normal(size=len(X)) / 3\n",
    "\n",
    "#将X升维，准备好放入sklearn中\n",
    "X = X.reshape(-1,1)\n",
    "\n",
    "#创建测试数据，均匀分布在训练集X的取值范围内的一千个点\n",
    "line = np.linspace(-3, 3, 1000, endpoint=False).reshape(-1, 1)"
   ]
  },
  {
   "cell_type": "code",
   "execution_count": 162,
   "metadata": {},
   "outputs": [
    {
     "data": {
      "text/plain": [
       "0.5361526059318595"
      ]
     },
     "execution_count": 162,
     "metadata": {},
     "output_type": "execute_result"
    }
   ],
   "source": [
    "#原始特征矩阵的拟合结果\n",
    "LinearR = LinearRegression().fit(X, y)\n",
    "#对训练数据的拟合\n",
    "LinearR.score(X,y)"
   ]
  },
  {
   "cell_type": "code",
   "execution_count": 163,
   "metadata": {},
   "outputs": [
    {
     "data": {
      "text/plain": [
       "0.6800102369793313"
      ]
     },
     "execution_count": 163,
     "metadata": {},
     "output_type": "execute_result"
    }
   ],
   "source": [
    "#对测试数据的拟合\n",
    "LinearR.score(line,np.sin(line))"
   ]
  },
  {
   "cell_type": "code",
   "execution_count": 164,
   "metadata": {},
   "outputs": [
    {
     "data": {
      "text/plain": [
       "0.8561679370344799"
      ]
     },
     "execution_count": 164,
     "metadata": {},
     "output_type": "execute_result"
    }
   ],
   "source": [
    "#多项式拟合，设定高次项\n",
    "d=5\n",
    "\n",
    "#进行高次项转换\n",
    "poly = PF(degree=d)\n",
    "X_ = poly.fit_transform(X)\n",
    "line_ = poly.transform(line)\n",
    "\n",
    "#训练数据的拟合\n",
    "LinearR_ = LinearRegression().fit(X_, y)\n",
    "LinearR_.score(X_,y)"
   ]
  },
  {
   "cell_type": "code",
   "execution_count": 165,
   "metadata": {},
   "outputs": [
    {
     "data": {
      "text/plain": [
       "0.9868904451787973"
      ]
     },
     "execution_count": 165,
     "metadata": {},
     "output_type": "execute_result"
    }
   ],
   "source": [
    "#测试数据的拟合\n",
    "LinearR_.score(line_,np.sin(line))"
   ]
  },
  {
   "cell_type": "code",
   "execution_count": 166,
   "metadata": {},
   "outputs": [
    {
     "data": {
      "image/png": "[encoded data removed]",
      "text/plain": [
       "<Figure size 432x288 with 1 Axes>"
      ]
     },
     "metadata": {
      "needs_background": "light"
     },
     "output_type": "display_data"
    }
   ],
   "source": [
    "import matplotlib.pyplot as plt\n",
    "\n",
    "d=5\n",
    "#和上面展示一致的建模流程\n",
    "LinearR = LinearRegression().fit(X, y)\n",
    "X_ = PF(degree=d).fit_transform(X)\n",
    "LinearR_ = LinearRegression().fit(X_, y)\n",
    "line = np.linspace(-3, 3, 1000, endpoint=False).reshape(-1, 1)\n",
    "line_ = PF(degree=d).fit_transform(line)\n",
    "\n",
    "#放置画布\n",
    "fig, ax1 = plt.subplots(1)\n",
    "\n",
    "#将测试数据带入predict接口，获得模型的拟合效果并进行绘制\n",
    "ax1.plot(line, LinearR.predict(line), linewidth=2, color='green'\n",
    "         ,label=\"linear regression\")\n",
    "ax1.plot(line, LinearR_.predict(line_), linewidth=2, color='red'\n",
    "         ,label=\"Polynomial regression\")\n",
    "\n",
    "#将原数据上的拟合绘制在图像上\n",
    "ax1.plot(X[:, 0], y, 'o', c='k')\n",
    "\n",
    "#其他图形选项\n",
    "ax1.legend(loc=\"best\")\n",
    "ax1.set_ylabel(\"Regression output\")\n",
    "ax1.set_xlabel(\"Input feature\")\n",
    "ax1.set_title(\"Linear Regression ordinary vs poly\")\n",
    "plt.tight_layout()\n",
    "plt.show()\n",
    "\n",
    "#观察下多项式回归的神奇之处\n",
    "\n",
    "#随后可以试试看较低和较高的次方会发生什么变化\n",
    "#d=2\n",
    "#d=20"
   ]
  },
  {
   "cell_type": "code",
   "execution_count": 167,
   "metadata": {},
   "outputs": [
    {
     "data": {
      "text/plain": [
       "array([[0, 1, 2],\n",
       "       [3, 4, 5],\n",
       "       [6, 7, 8]])"
      ]
     },
     "execution_count": 167,
     "metadata": {},
     "output_type": "execute_result"
    }
   ],
   "source": [
    "import numpy as np\n",
    "from sklearn.preprocessing import PolynomialFeatures\n",
    "from sklearn.linear_model import LinearRegression\n",
    "\n",
    "X = np.arange(9).reshape(3, 3)\n",
    "X"
   ]
  },
  {
   "cell_type": "code",
   "execution_count": 168,
   "metadata": {},
   "outputs": [],
   "source": [
    "poly = PolynomialFeatures(degree=5).fit(X)"
   ]
  },
  {
   "cell_type": "code",
   "execution_count": 169,
   "metadata": {},
   "outputs": [
    {
     "data": {
      "text/plain": [
       "['1',\n",
       " 'x0',\n",
       " 'x1',\n",
       " 'x2',\n",
       " 'x0^2',\n",
       " 'x0 x1',\n",
       " 'x0 x2',\n",
       " 'x1^2',\n",
       " 'x1 x2',\n",
       " 'x2^2',\n",
       " 'x0^3',\n",
       " 'x0^2 x1',\n",
       " 'x0^2 x2',\n",
       " 'x0 x1^2',\n",
       " 'x0 x1 x2',\n",
       " 'x0 x2^2',\n",
       " 'x1^3',\n",
       " 'x1^2 x2',\n",
       " 'x1 x2^2',\n",
       " 'x2^3',\n",
       " 'x0^4',\n",
       " 'x0^3 x1',\n",
       " 'x0^3 x2',\n",
       " 'x0^2 x1^2',\n",
       " 'x0^2 x1 x2',\n",
       " 'x0^2 x2^2',\n",
       " 'x0 x1^3',\n",
       " 'x0 x1^2 x2',\n",
       " 'x0 x1 x2^2',\n",
       " 'x0 x2^3',\n",
       " 'x1^4',\n",
       " 'x1^3 x2',\n",
       " 'x1^2 x2^2',\n",
       " 'x1 x2^3',\n",
       " 'x2^4',\n",
       " 'x0^5',\n",
       " 'x0^4 x1',\n",
       " 'x0^4 x2',\n",
       " 'x0^3 x1^2',\n",
       " 'x0^3 x1 x2',\n",
       " 'x0^3 x2^2',\n",
       " 'x0^2 x1^3',\n",
       " 'x0^2 x1^2 x2',\n",
       " 'x0^2 x1 x2^2',\n",
       " 'x0^2 x2^3',\n",
       " 'x0 x1^4',\n",
       " 'x0 x1^3 x2',\n",
       " 'x0 x1^2 x2^2',\n",
       " 'x0 x1 x2^3',\n",
       " 'x0 x2^4',\n",
       " 'x1^5',\n",
       " 'x1^4 x2',\n",
       " 'x1^3 x2^2',\n",
       " 'x1^2 x2^3',\n",
       " 'x1 x2^4',\n",
       " 'x2^5']"
      ]
     },
     "execution_count": 169,
     "metadata": {},
     "output_type": "execute_result"
    }
   ],
   "source": [
    "#重要接口get_feature_names\n",
    "poly.get_feature_names()"
   ]
  },
  {
   "cell_type": "code",
   "execution_count": 170,
   "metadata": {},
   "outputs": [
    {
     "data": {
      "text/plain": [
       "['MedInc',\n",
       " 'HouseAge',\n",
       " 'AveRooms',\n",
       " 'AveBedrms',\n",
       " 'Population',\n",
       " 'AveOccup',\n",
       " 'Latitude',\n",
       " 'Longitude']"
      ]
     },
     "execution_count": 170,
     "metadata": {},
     "output_type": "execute_result"
    }
   ],
   "source": [
    "from sklearn.datasets import fetch_california_housing as fch\n",
    "import pandas as pd\n",
    "\n",
    "housevalue = fch()\n",
    "X = pd.DataFrame(housevalue.data)\n",
    "y = housevalue.target\n",
    "housevalue.feature_names"
   ]
  },
  {
   "cell_type": "code",
   "execution_count": 171,
   "metadata": {},
   "outputs": [],
   "source": [
    "#指定特征列名\n",
    "X.columns = [\"住户收入中位数\",\"房屋使用年代中位数\",\"平均房间数目\"\n",
    "            ,\"平均卧室数目\",\"街区人口\",\"平均入住率\",\"街区的纬度\",\"街区的经度\"]"
   ]
  },
  {
   "cell_type": "code",
   "execution_count": 172,
   "metadata": {},
   "outputs": [
    {
     "data": {
      "text/html": [
       "<div>\n",
       "<style scoped>\n",
       "    .dataframe tbody tr th:only-of-type {\n",
       "        vertical-align: middle;\n",
       "    }\n",
       "\n",
       "    .dataframe tbody tr th {\n",
       "        vertical-align: top;\n",
       "    }\n",
       "\n",
       "    .dataframe thead th {\n",
       "        text-align: right;\n",
       "    }\n",
       "</style>\n",
       "<table border=\"1\" class=\"dataframe\">\n",
       "  <thead>\n",
       "    <tr style=\"text-align: right;\">\n",
       "      <th></th>\n",
       "      <th>住户收入中位数</th>\n",
       "      <th>房屋使用年代中位数</th>\n",
       "      <th>平均房间数目</th>\n",
       "      <th>平均卧室数目</th>\n",
       "      <th>街区人口</th>\n",
       "      <th>平均入住率</th>\n",
       "      <th>街区的纬度</th>\n",
       "      <th>街区的经度</th>\n",
       "    </tr>\n",
       "  </thead>\n",
       "  <tbody>\n",
       "    <tr>\n",
       "      <th>0</th>\n",
       "      <td>8.3252</td>\n",
       "      <td>41.0</td>\n",
       "      <td>6.984127</td>\n",
       "      <td>1.023810</td>\n",
       "      <td>322.0</td>\n",
       "      <td>2.555556</td>\n",
       "      <td>37.88</td>\n",
       "      <td>-122.23</td>\n",
       "    </tr>\n",
       "    <tr>\n",
       "      <th>1</th>\n",
       "      <td>8.3014</td>\n",
       "      <td>21.0</td>\n",
       "      <td>6.238137</td>\n",
       "      <td>0.971880</td>\n",
       "      <td>2401.0</td>\n",
       "      <td>2.109842</td>\n",
       "      <td>37.86</td>\n",
       "      <td>-122.22</td>\n",
       "    </tr>\n",
       "    <tr>\n",
       "      <th>2</th>\n",
       "      <td>7.2574</td>\n",
       "      <td>52.0</td>\n",
       "      <td>8.288136</td>\n",
       "      <td>1.073446</td>\n",
       "      <td>496.0</td>\n",
       "      <td>2.802260</td>\n",
       "      <td>37.85</td>\n",
       "      <td>-122.24</td>\n",
       "    </tr>\n",
       "    <tr>\n",
       "      <th>3</th>\n",
       "      <td>5.6431</td>\n",
       "      <td>52.0</td>\n",
       "      <td>5.817352</td>\n",
       "      <td>1.073059</td>\n",
       "      <td>558.0</td>\n",
       "      <td>2.547945</td>\n",
       "      <td>37.85</td>\n",
       "      <td>-122.25</td>\n",
       "    </tr>\n",
       "    <tr>\n",
       "      <th>4</th>\n",
       "      <td>3.8462</td>\n",
       "      <td>52.0</td>\n",
       "      <td>6.281853</td>\n",
       "      <td>1.081081</td>\n",
       "      <td>565.0</td>\n",
       "      <td>2.181467</td>\n",
       "      <td>37.85</td>\n",
       "      <td>-122.25</td>\n",
       "    </tr>\n",
       "  </tbody>\n",
       "</table>\n",
       "</div>"
      ],
      "text/plain": [
       "   住户收入中位数  房屋使用年代中位数    平均房间数目    平均卧室数目    街区人口     平均入住率  街区的纬度   街区的经度\n",
       "0   8.3252       41.0  6.984127  1.023810   322.0  2.555556  37.88 -122.23\n",
       "1   8.3014       21.0  6.238137  0.971880  2401.0  2.109842  37.86 -122.22\n",
       "2   7.2574       52.0  8.288136  1.073446   496.0  2.802260  37.85 -122.24\n",
       "3   5.6431       52.0  5.817352  1.073059   558.0  2.547945  37.85 -122.25\n",
       "4   3.8462       52.0  6.281853  1.081081   565.0  2.181467  37.85 -122.25"
      ]
     },
     "execution_count": 172,
     "metadata": {},
     "output_type": "execute_result"
    }
   ],
   "source": [
    "X.head()"
   ]
  },
  {
   "cell_type": "code",
   "execution_count": 173,
   "metadata": {},
   "outputs": [],
   "source": [
    "poly = PolynomialFeatures(degree=4).fit(X,y)"
   ]
  },
  {
   "cell_type": "code",
   "execution_count": 175,
   "metadata": {},
   "outputs": [
    {
     "data": {
      "text/plain": [
       "['1',\n",
       " '住户收入中位数',\n",
       " '房屋使用年代中位数',\n",
       " '平均房间数目',\n",
       " '平均卧室数目',\n",
       " '街区人口',\n",
       " '平均入住率',\n",
       " '街区的纬度',\n",
       " '街区的经度',\n",
       " '住户收入中位数^2',\n",
       " '住户收入中位数 房屋使用年代中位数',\n",
       " '住户收入中位数 平均房间数目',\n",
       " '住户收入中位数 平均卧室数目',\n",
       " '住户收入中位数 街区人口',\n",
       " '住户收入中位数 平均入住率',\n",
       " '住户收入中位数 街区的纬度',\n",
       " '住户收入中位数 街区的经度',\n",
       " '房屋使用年代中位数^2',\n",
       " '房屋使用年代中位数 平均房间数目',\n",
       " '房屋使用年代中位数 平均卧室数目',\n",
       " '房屋使用年代中位数 街区人口',\n",
       " '房屋使用年代中位数 平均入住率',\n",
       " '房屋使用年代中位数 街区的纬度',\n",
       " '房屋使用年代中位数 街区的经度',\n",
       " '平均房间数目^2',\n",
       " '平均房间数目 平均卧室数目',\n",
       " '平均房间数目 街区人口',\n",
       " '平均房间数目 平均入住率',\n",
       " '平均房间数目 街区的纬度',\n",
       " '平均房间数目 街区的经度',\n",
       " '平均卧室数目^2',\n",
       " '平均卧室数目 街区人口',\n",
       " '平均卧室数目 平均入住率',\n",
       " '平均卧室数目 街区的纬度',\n",
       " '平均卧室数目 街区的经度',\n",
       " '街区人口^2',\n",
       " '街区人口 平均入住率',\n",
       " '街区人口 街区的纬度',\n",
       " '街区人口 街区的经度',\n",
       " '平均入住率^2',\n",
       " '平均入住率 街区的纬度',\n",
       " '平均入住率 街区的经度',\n",
       " '街区的纬度^2',\n",
       " '街区的纬度 街区的经度',\n",
       " '街区的经度^2',\n",
       " '住户收入中位数^3',\n",
       " '住户收入中位数^2 房屋使用年代中位数',\n",
       " '住户收入中位数^2 平均房间数目',\n",
       " '住户收入中位数^2 平均卧室数目',\n",
       " '住户收入中位数^2 街区人口',\n",
       " '住户收入中位数^2 平均入住率',\n",
       " '住户收入中位数^2 街区的纬度',\n",
       " '住户收入中位数^2 街区的经度',\n",
       " '住户收入中位数 房屋使用年代中位数^2',\n",
       " '住户收入中位数 房屋使用年代中位数 平均房间数目',\n",
       " '住户收入中位数 房屋使用年代中位数 平均卧室数目',\n",
       " '住户收入中位数 房屋使用年代中位数 街区人口',\n",
       " '住户收入中位数 房屋使用年代中位数 平均入住率',\n",
       " '住户收入中位数 房屋使用年代中位数 街区的纬度',\n",
       " '住户收入中位数 房屋使用年代中位数 街区的经度',\n",
       " '住户收入中位数 平均房间数目^2',\n",
       " '住户收入中位数 平均房间数目 平均卧室数目',\n",
       " '住户收入中位数 平均房间数目 街区人口',\n",
       " '住户收入中位数 平均房间数目 平均入住率',\n",
       " '住户收入中位数 平均房间数目 街区的纬度',\n",
       " '住户收入中位数 平均房间数目 街区的经度',\n",
       " '住户收入中位数 平均卧室数目^2',\n",
       " '住户收入中位数 平均卧室数目 街区人口',\n",
       " '住户收入中位数 平均卧室数目 平均入住率',\n",
       " '住户收入中位数 平均卧室数目 街区的纬度',\n",
       " '住户收入中位数 平均卧室数目 街区的经度',\n",
       " '住户收入中位数 街区人口^2',\n",
       " '住户收入中位数 街区人口 平均入住率',\n",
       " '住户收入中位数 街区人口 街区的纬度',\n",
       " '住户收入中位数 街区人口 街区的经度',\n",
       " '住户收入中位数 平均入住率^2',\n",
       " '住户收入中位数 平均入住率 街区的纬度',\n",
       " '住户收入中位数 平均入住率 街区的经度',\n",
       " '住户收入中位数 街区的纬度^2',\n",
       " '住户收入中位数 街区的纬度 街区的经度',\n",
       " '住户收入中位数 街区的经度^2',\n",
       " '房屋使用年代中位数^3',\n",
       " '房屋使用年代中位数^2 平均房间数目',\n",
       " '房屋使用年代中位数^2 平均卧室数目',\n",
       " '房屋使用年代中位数^2 街区人口',\n",
       " '房屋使用年代中位数^2 平均入住率',\n",
       " '房屋使用年代中位数^2 街区的纬度',\n",
       " '房屋使用年代中位数^2 街区的经度',\n",
       " '房屋使用年代中位数 平均房间数目^2',\n",
       " '房屋使用年代中位数 平均房间数目 平均卧室数目',\n",
       " '房屋使用年代中位数 平均房间数目 街区人口',\n",
       " '房屋使用年代中位数 平均房间数目 平均入住率',\n",
       " '房屋使用年代中位数 平均房间数目 街区的纬度',\n",
       " '房屋使用年代中位数 平均房间数目 街区的经度',\n",
       " '房屋使用年代中位数 平均卧室数目^2',\n",
       " '房屋使用年代中位数 平均卧室数目 街区人口',\n",
       " '房屋使用年代中位数 平均卧室数目 平均入住率',\n",
       " '房屋使用年代中位数 平均卧室数目 街区的纬度',\n",
       " '房屋使用年代中位数 平均卧室数目 街区的经度',\n",
       " '房屋使用年代中位数 街区人口^2',\n",
       " '房屋使用年代中位数 街区人口 平均入住率',\n",
       " '房屋使用年代中位数 街区人口 街区的纬度',\n",
       " '房屋使用年代中位数 街区人口 街区的经度',\n",
       " '房屋使用年代中位数 平均入住率^2',\n",
       " '房屋使用年代中位数 平均入住率 街区的纬度',\n",
       " '房屋使用年代中位数 平均入住率 街区的经度',\n",
       " '房屋使用年代中位数 街区的纬度^2',\n",
       " '房屋使用年代中位数 街区的纬度 街区的经度',\n",
       " '房屋使用年代中位数 街区的经度^2',\n",
       " '平均房间数目^3',\n",
       " '平均房间数目^2 平均卧室数目',\n",
       " '平均房间数目^2 街区人口',\n",
       " '平均房间数目^2 平均入住率',\n",
       " '平均房间数目^2 街区的纬度',\n",
       " '平均房间数目^2 街区的经度',\n",
       " '平均房间数目 平均卧室数目^2',\n",
       " '平均房间数目 平均卧室数目 街区人口',\n",
       " '平均房间数目 平均卧室数目 平均入住率',\n",
       " '平均房间数目 平均卧室数目 街区的纬度',\n",
       " '平均房间数目 平均卧室数目 街区的经度',\n",
       " '平均房间数目 街区人口^2',\n",
       " '平均房间数目 街区人口 平均入住率',\n",
       " '平均房间数目 街区人口 街区的纬度',\n",
       " '平均房间数目 街区人口 街区的经度',\n",
       " '平均房间数目 平均入住率^2',\n",
       " '平均房间数目 平均入住率 街区的纬度',\n",
       " '平均房间数目 平均入住率 街区的经度',\n",
       " '平均房间数目 街区的纬度^2',\n",
       " '平均房间数目 街区的纬度 街区的经度',\n",
       " '平均房间数目 街区的经度^2',\n",
       " '平均卧室数目^3',\n",
       " '平均卧室数目^2 街区人口',\n",
       " '平均卧室数目^2 平均入住率',\n",
       " '平均卧室数目^2 街区的纬度',\n",
       " '平均卧室数目^2 街区的经度',\n",
       " '平均卧室数目 街区人口^2',\n",
       " '平均卧室数目 街区人口 平均入住率',\n",
       " '平均卧室数目 街区人口 街区的纬度',\n",
       " '平均卧室数目 街区人口 街区的经度',\n",
       " '平均卧室数目 平均入住率^2',\n",
       " '平均卧室数目 平均入住率 街区的纬度',\n",
       " '平均卧室数目 平均入住率 街区的经度',\n",
       " '平均卧室数目 街区的纬度^2',\n",
       " '平均卧室数目 街区的纬度 街区的经度',\n",
       " '平均卧室数目 街区的经度^2',\n",
       " '街区人口^3',\n",
       " '街区人口^2 平均入住率',\n",
       " '街区人口^2 街区的纬度',\n",
       " '街区人口^2 街区的经度',\n",
       " '街区人口 平均入住率^2',\n",
       " '街区人口 平均入住率 街区的纬度',\n",
       " '街区人口 平均入住率 街区的经度',\n",
       " '街区人口 街区的纬度^2',\n",
       " '街区人口 街区的纬度 街区的经度',\n",
       " '街区人口 街区的经度^2',\n",
       " '平均入住率^3',\n",
       " '平均入住率^2 街区的纬度',\n",
       " '平均入住率^2 街区的经度',\n",
       " '平均入住率 街区的纬度^2',\n",
       " '平均入住率 街区的纬度 街区的经度',\n",
       " '平均入住率 街区的经度^2',\n",
       " '街区的纬度^3',\n",
       " '街区的纬度^2 街区的经度',\n",
       " '街区的纬度 街区的经度^2',\n",
       " '街区的经度^3',\n",
       " '住户收入中位数^4',\n",
       " '住户收入中位数^3 房屋使用年代中位数',\n",
       " '住户收入中位数^3 平均房间数目',\n",
       " '住户收入中位数^3 平均卧室数目',\n",
       " '住户收入中位数^3 街区人口',\n",
       " '住户收入中位数^3 平均入住率',\n",
       " '住户收入中位数^3 街区的纬度',\n",
       " '住户收入中位数^3 街区的经度',\n",
       " '住户收入中位数^2 房屋使用年代中位数^2',\n",
       " '住户收入中位数^2 房屋使用年代中位数 平均房间数目',\n",
       " '住户收入中位数^2 房屋使用年代中位数 平均卧室数目',\n",
       " '住户收入中位数^2 房屋使用年代中位数 街区人口',\n",
       " '住户收入中位数^2 房屋使用年代中位数 平均入住率',\n",
       " '住户收入中位数^2 房屋使用年代中位数 街区的纬度',\n",
       " '住户收入中位数^2 房屋使用年代中位数 街区的经度',\n",
       " '住户收入中位数^2 平均房间数目^2',\n",
       " '住户收入中位数^2 平均房间数目 平均卧室数目',\n",
       " '住户收入中位数^2 平均房间数目 街区人口',\n",
       " '住户收入中位数^2 平均房间数目 平均入住率',\n",
       " '住户收入中位数^2 平均房间数目 街区的纬度',\n",
       " '住户收入中位数^2 平均房间数目 街区的经度',\n",
       " '住户收入中位数^2 平均卧室数目^2',\n",
       " '住户收入中位数^2 平均卧室数目 街区人口',\n",
       " '住户收入中位数^2 平均卧室数目 平均入住率',\n",
       " '住户收入中位数^2 平均卧室数目 街区的纬度',\n",
       " '住户收入中位数^2 平均卧室数目 街区的经度',\n",
       " '住户收入中位数^2 街区人口^2',\n",
       " '住户收入中位数^2 街区人口 平均入住率',\n",
       " '住户收入中位数^2 街区人口 街区的纬度',\n",
       " '住户收入中位数^2 街区人口 街区的经度',\n",
       " '住户收入中位数^2 平均入住率^2',\n",
       " '住户收入中位数^2 平均入住率 街区的纬度',\n",
       " '住户收入中位数^2 平均入住率 街区的经度',\n",
       " '住户收入中位数^2 街区的纬度^2',\n",
       " '住户收入中位数^2 街区的纬度 街区的经度',\n",
       " '住户收入中位数^2 街区的经度^2',\n",
       " '住户收入中位数 房屋使用年代中位数^3',\n",
       " '住户收入中位数 房屋使用年代中位数^2 平均房间数目',\n",
       " '住户收入中位数 房屋使用年代中位数^2 平均卧室数目',\n",
       " '住户收入中位数 房屋使用年代中位数^2 街区人口',\n",
       " '住户收入中位数 房屋使用年代中位数^2 平均入住率',\n",
       " '住户收入中位数 房屋使用年代中位数^2 街区的纬度',\n",
       " '住户收入中位数 房屋使用年代中位数^2 街区的经度',\n",
       " '住户收入中位数 房屋使用年代中位数 平均房间数目^2',\n",
       " '住户收入中位数 房屋使用年代中位数 平均房间数目 平均卧室数目',\n",
       " '住户收入中位数 房屋使用年代中位数 平均房间数目 街区人口',\n",
       " '住户收入中位数 房屋使用年代中位数 平均房间数目 平均入住率',\n",
       " '住户收入中位数 房屋使用年代中位数 平均房间数目 街区的纬度',\n",
       " '住户收入中位数 房屋使用年代中位数 平均房间数目 街区的经度',\n",
       " '住户收入中位数 房屋使用年代中位数 平均卧室数目^2',\n",
       " '住户收入中位数 房屋使用年代中位数 平均卧室数目 街区人口',\n",
       " '住户收入中位数 房屋使用年代中位数 平均卧室数目 平均入住率',\n",
       " '住户收入中位数 房屋使用年代中位数 平均卧室数目 街区的纬度',\n",
       " '住户收入中位数 房屋使用年代中位数 平均卧室数目 街区的经度',\n",
       " '住户收入中位数 房屋使用年代中位数 街区人口^2',\n",
       " '住户收入中位数 房屋使用年代中位数 街区人口 平均入住率',\n",
       " '住户收入中位数 房屋使用年代中位数 街区人口 街区的纬度',\n",
       " '住户收入中位数 房屋使用年代中位数 街区人口 街区的经度',\n",
       " '住户收入中位数 房屋使用年代中位数 平均入住率^2',\n",
       " '住户收入中位数 房屋使用年代中位数 平均入住率 街区的纬度',\n",
       " '住户收入中位数 房屋使用年代中位数 平均入住率 街区的经度',\n",
       " '住户收入中位数 房屋使用年代中位数 街区的纬度^2',\n",
       " '住户收入中位数 房屋使用年代中位数 街区的纬度 街区的经度',\n",
       " '住户收入中位数 房屋使用年代中位数 街区的经度^2',\n",
       " '住户收入中位数 平均房间数目^3',\n",
       " '住户收入中位数 平均房间数目^2 平均卧室数目',\n",
       " '住户收入中位数 平均房间数目^2 街区人口',\n",
       " '住户收入中位数 平均房间数目^2 平均入住率',\n",
       " '住户收入中位数 平均房间数目^2 街区的纬度',\n",
       " '住户收入中位数 平均房间数目^2 街区的经度',\n",
       " '住户收入中位数 平均房间数目 平均卧室数目^2',\n",
       " '住户收入中位数 平均房间数目 平均卧室数目 街区人口',\n",
       " '住户收入中位数 平均房间数目 平均卧室数目 平均入住率',\n",
       " '住户收入中位数 平均房间数目 平均卧室数目 街区的纬度',\n",
       " '住户收入中位数 平均房间数目 平均卧室数目 街区的经度',\n",
       " '住户收入中位数 平均房间数目 街区人口^2',\n",
       " '住户收入中位数 平均房间数目 街区人口 平均入住率',\n",
       " '住户收入中位数 平均房间数目 街区人口 街区的纬度',\n",
       " '住户收入中位数 平均房间数目 街区人口 街区的经度',\n",
       " '住户收入中位数 平均房间数目 平均入住率^2',\n",
       " '住户收入中位数 平均房间数目 平均入住率 街区的纬度',\n",
       " '住户收入中位数 平均房间数目 平均入住率 街区的经度',\n",
       " '住户收入中位数 平均房间数目 街区的纬度^2',\n",
       " '住户收入中位数 平均房间数目 街区的纬度 街区的经度',\n",
       " '住户收入中位数 平均房间数目 街区的经度^2',\n",
       " '住户收入中位数 平均卧室数目^3',\n",
       " '住户收入中位数 平均卧室数目^2 街区人口',\n",
       " '住户收入中位数 平均卧室数目^2 平均入住率',\n",
       " '住户收入中位数 平均卧室数目^2 街区的纬度',\n",
       " '住户收入中位数 平均卧室数目^2 街区的经度',\n",
       " '住户收入中位数 平均卧室数目 街区人口^2',\n",
       " '住户收入中位数 平均卧室数目 街区人口 平均入住率',\n",
       " '住户收入中位数 平均卧室数目 街区人口 街区的纬度',\n",
       " '住户收入中位数 平均卧室数目 街区人口 街区的经度',\n",
       " '住户收入中位数 平均卧室数目 平均入住率^2',\n",
       " '住户收入中位数 平均卧室数目 平均入住率 街区的纬度',\n",
       " '住户收入中位数 平均卧室数目 平均入住率 街区的经度',\n",
       " '住户收入中位数 平均卧室数目 街区的纬度^2',\n",
       " '住户收入中位数 平均卧室数目 街区的纬度 街区的经度',\n",
       " '住户收入中位数 平均卧室数目 街区的经度^2',\n",
       " '住户收入中位数 街区人口^3',\n",
       " '住户收入中位数 街区人口^2 平均入住率',\n",
       " '住户收入中位数 街区人口^2 街区的纬度',\n",
       " '住户收入中位数 街区人口^2 街区的经度',\n",
       " '住户收入中位数 街区人口 平均入住率^2',\n",
       " '住户收入中位数 街区人口 平均入住率 街区的纬度',\n",
       " '住户收入中位数 街区人口 平均入住率 街区的经度',\n",
       " '住户收入中位数 街区人口 街区的纬度^2',\n",
       " '住户收入中位数 街区人口 街区的纬度 街区的经度',\n",
       " '住户收入中位数 街区人口 街区的经度^2',\n",
       " '住户收入中位数 平均入住率^3',\n",
       " '住户收入中位数 平均入住率^2 街区的纬度',\n",
       " '住户收入中位数 平均入住率^2 街区的经度',\n",
       " '住户收入中位数 平均入住率 街区的纬度^2',\n",
       " '住户收入中位数 平均入住率 街区的纬度 街区的经度',\n",
       " '住户收入中位数 平均入住率 街区的经度^2',\n",
       " '住户收入中位数 街区的纬度^3',\n",
       " '住户收入中位数 街区的纬度^2 街区的经度',\n",
       " '住户收入中位数 街区的纬度 街区的经度^2',\n",
       " '住户收入中位数 街区的经度^3',\n",
       " '房屋使用年代中位数^4',\n",
       " '房屋使用年代中位数^3 平均房间数目',\n",
       " '房屋使用年代中位数^3 平均卧室数目',\n",
       " '房屋使用年代中位数^3 街区人口',\n",
       " '房屋使用年代中位数^3 平均入住率',\n",
       " '房屋使用年代中位数^3 街区的纬度',\n",
       " '房屋使用年代中位数^3 街区的经度',\n",
       " '房屋使用年代中位数^2 平均房间数目^2',\n",
       " '房屋使用年代中位数^2 平均房间数目 平均卧室数目',\n",
       " '房屋使用年代中位数^2 平均房间数目 街区人口',\n",
       " '房屋使用年代中位数^2 平均房间数目 平均入住率',\n",
       " '房屋使用年代中位数^2 平均房间数目 街区的纬度',\n",
       " '房屋使用年代中位数^2 平均房间数目 街区的经度',\n",
       " '房屋使用年代中位数^2 平均卧室数目^2',\n",
       " '房屋使用年代中位数^2 平均卧室数目 街区人口',\n",
       " '房屋使用年代中位数^2 平均卧室数目 平均入住率',\n",
       " '房屋使用年代中位数^2 平均卧室数目 街区的纬度',\n",
       " '房屋使用年代中位数^2 平均卧室数目 街区的经度',\n",
       " '房屋使用年代中位数^2 街区人口^2',\n",
       " '房屋使用年代中位数^2 街区人口 平均入住率',\n",
       " '房屋使用年代中位数^2 街区人口 街区的纬度',\n",
       " '房屋使用年代中位数^2 街区人口 街区的经度',\n",
       " '房屋使用年代中位数^2 平均入住率^2',\n",
       " '房屋使用年代中位数^2 平均入住率 街区的纬度',\n",
       " '房屋使用年代中位数^2 平均入住率 街区的经度',\n",
       " '房屋使用年代中位数^2 街区的纬度^2',\n",
       " '房屋使用年代中位数^2 街区的纬度 街区的经度',\n",
       " '房屋使用年代中位数^2 街区的经度^2',\n",
       " '房屋使用年代中位数 平均房间数目^3',\n",
       " '房屋使用年代中位数 平均房间数目^2 平均卧室数目',\n",
       " '房屋使用年代中位数 平均房间数目^2 街区人口',\n",
       " '房屋使用年代中位数 平均房间数目^2 平均入住率',\n",
       " '房屋使用年代中位数 平均房间数目^2 街区的纬度',\n",
       " '房屋使用年代中位数 平均房间数目^2 街区的经度',\n",
       " '房屋使用年代中位数 平均房间数目 平均卧室数目^2',\n",
       " '房屋使用年代中位数 平均房间数目 平均卧室数目 街区人口',\n",
       " '房屋使用年代中位数 平均房间数目 平均卧室数目 平均入住率',\n",
       " '房屋使用年代中位数 平均房间数目 平均卧室数目 街区的纬度',\n",
       " '房屋使用年代中位数 平均房间数目 平均卧室数目 街区的经度',\n",
       " '房屋使用年代中位数 平均房间数目 街区人口^2',\n",
       " '房屋使用年代中位数 平均房间数目 街区人口 平均入住率',\n",
       " '房屋使用年代中位数 平均房间数目 街区人口 街区的纬度',\n",
       " '房屋使用年代中位数 平均房间数目 街区人口 街区的经度',\n",
       " '房屋使用年代中位数 平均房间数目 平均入住率^2',\n",
       " '房屋使用年代中位数 平均房间数目 平均入住率 街区的纬度',\n",
       " '房屋使用年代中位数 平均房间数目 平均入住率 街区的经度',\n",
       " '房屋使用年代中位数 平均房间数目 街区的纬度^2',\n",
       " '房屋使用年代中位数 平均房间数目 街区的纬度 街区的经度',\n",
       " '房屋使用年代中位数 平均房间数目 街区的经度^2',\n",
       " '房屋使用年代中位数 平均卧室数目^3',\n",
       " '房屋使用年代中位数 平均卧室数目^2 街区人口',\n",
       " '房屋使用年代中位数 平均卧室数目^2 平均入住率',\n",
       " '房屋使用年代中位数 平均卧室数目^2 街区的纬度',\n",
       " '房屋使用年代中位数 平均卧室数目^2 街区的经度',\n",
       " '房屋使用年代中位数 平均卧室数目 街区人口^2',\n",
       " '房屋使用年代中位数 平均卧室数目 街区人口 平均入住率',\n",
       " '房屋使用年代中位数 平均卧室数目 街区人口 街区的纬度',\n",
       " '房屋使用年代中位数 平均卧室数目 街区人口 街区的经度',\n",
       " '房屋使用年代中位数 平均卧室数目 平均入住率^2',\n",
       " '房屋使用年代中位数 平均卧室数目 平均入住率 街区的纬度',\n",
       " '房屋使用年代中位数 平均卧室数目 平均入住率 街区的经度',\n",
       " '房屋使用年代中位数 平均卧室数目 街区的纬度^2',\n",
       " '房屋使用年代中位数 平均卧室数目 街区的纬度 街区的经度',\n",
       " '房屋使用年代中位数 平均卧室数目 街区的经度^2',\n",
       " '房屋使用年代中位数 街区人口^3',\n",
       " '房屋使用年代中位数 街区人口^2 平均入住率',\n",
       " '房屋使用年代中位数 街区人口^2 街区的纬度',\n",
       " '房屋使用年代中位数 街区人口^2 街区的经度',\n",
       " '房屋使用年代中位数 街区人口 平均入住率^2',\n",
       " '房屋使用年代中位数 街区人口 平均入住率 街区的纬度',\n",
       " '房屋使用年代中位数 街区人口 平均入住率 街区的经度',\n",
       " '房屋使用年代中位数 街区人口 街区的纬度^2',\n",
       " '房屋使用年代中位数 街区人口 街区的纬度 街区的经度',\n",
       " '房屋使用年代中位数 街区人口 街区的经度^2',\n",
       " '房屋使用年代中位数 平均入住率^3',\n",
       " '房屋使用年代中位数 平均入住率^2 街区的纬度',\n",
       " '房屋使用年代中位数 平均入住率^2 街区的经度',\n",
       " '房屋使用年代中位数 平均入住率 街区的纬度^2',\n",
       " '房屋使用年代中位数 平均入住率 街区的纬度 街区的经度',\n",
       " '房屋使用年代中位数 平均入住率 街区的经度^2',\n",
       " '房屋使用年代中位数 街区的纬度^3',\n",
       " '房屋使用年代中位数 街区的纬度^2 街区的经度',\n",
       " '房屋使用年代中位数 街区的纬度 街区的经度^2',\n",
       " '房屋使用年代中位数 街区的经度^3',\n",
       " '平均房间数目^4',\n",
       " '平均房间数目^3 平均卧室数目',\n",
       " '平均房间数目^3 街区人口',\n",
       " '平均房间数目^3 平均入住率',\n",
       " '平均房间数目^3 街区的纬度',\n",
       " '平均房间数目^3 街区的经度',\n",
       " '平均房间数目^2 平均卧室数目^2',\n",
       " '平均房间数目^2 平均卧室数目 街区人口',\n",
       " '平均房间数目^2 平均卧室数目 平均入住率',\n",
       " '平均房间数目^2 平均卧室数目 街区的纬度',\n",
       " '平均房间数目^2 平均卧室数目 街区的经度',\n",
       " '平均房间数目^2 街区人口^2',\n",
       " '平均房间数目^2 街区人口 平均入住率',\n",
       " '平均房间数目^2 街区人口 街区的纬度',\n",
       " '平均房间数目^2 街区人口 街区的经度',\n",
       " '平均房间数目^2 平均入住率^2',\n",
       " '平均房间数目^2 平均入住率 街区的纬度',\n",
       " '平均房间数目^2 平均入住率 街区的经度',\n",
       " '平均房间数目^2 街区的纬度^2',\n",
       " '平均房间数目^2 街区的纬度 街区的经度',\n",
       " '平均房间数目^2 街区的经度^2',\n",
       " '平均房间数目 平均卧室数目^3',\n",
       " '平均房间数目 平均卧室数目^2 街区人口',\n",
       " '平均房间数目 平均卧室数目^2 平均入住率',\n",
       " '平均房间数目 平均卧室数目^2 街区的纬度',\n",
       " '平均房间数目 平均卧室数目^2 街区的经度',\n",
       " '平均房间数目 平均卧室数目 街区人口^2',\n",
       " '平均房间数目 平均卧室数目 街区人口 平均入住率',\n",
       " '平均房间数目 平均卧室数目 街区人口 街区的纬度',\n",
       " '平均房间数目 平均卧室数目 街区人口 街区的经度',\n",
       " '平均房间数目 平均卧室数目 平均入住率^2',\n",
       " '平均房间数目 平均卧室数目 平均入住率 街区的纬度',\n",
       " '平均房间数目 平均卧室数目 平均入住率 街区的经度',\n",
       " '平均房间数目 平均卧室数目 街区的纬度^2',\n",
       " '平均房间数目 平均卧室数目 街区的纬度 街区的经度',\n",
       " '平均房间数目 平均卧室数目 街区的经度^2',\n",
       " '平均房间数目 街区人口^3',\n",
       " '平均房间数目 街区人口^2 平均入住率',\n",
       " '平均房间数目 街区人口^2 街区的纬度',\n",
       " '平均房间数目 街区人口^2 街区的经度',\n",
       " '平均房间数目 街区人口 平均入住率^2',\n",
       " '平均房间数目 街区人口 平均入住率 街区的纬度',\n",
       " '平均房间数目 街区人口 平均入住率 街区的经度',\n",
       " '平均房间数目 街区人口 街区的纬度^2',\n",
       " '平均房间数目 街区人口 街区的纬度 街区的经度',\n",
       " '平均房间数目 街区人口 街区的经度^2',\n",
       " '平均房间数目 平均入住率^3',\n",
       " '平均房间数目 平均入住率^2 街区的纬度',\n",
       " '平均房间数目 平均入住率^2 街区的经度',\n",
       " '平均房间数目 平均入住率 街区的纬度^2',\n",
       " '平均房间数目 平均入住率 街区的纬度 街区的经度',\n",
       " '平均房间数目 平均入住率 街区的经度^2',\n",
       " '平均房间数目 街区的纬度^3',\n",
       " '平均房间数目 街区的纬度^2 街区的经度',\n",
       " '平均房间数目 街区的纬度 街区的经度^2',\n",
       " '平均房间数目 街区的经度^3',\n",
       " '平均卧室数目^4',\n",
       " '平均卧室数目^3 街区人口',\n",
       " '平均卧室数目^3 平均入住率',\n",
       " '平均卧室数目^3 街区的纬度',\n",
       " '平均卧室数目^3 街区的经度',\n",
       " '平均卧室数目^2 街区人口^2',\n",
       " '平均卧室数目^2 街区人口 平均入住率',\n",
       " '平均卧室数目^2 街区人口 街区的纬度',\n",
       " '平均卧室数目^2 街区人口 街区的经度',\n",
       " '平均卧室数目^2 平均入住率^2',\n",
       " '平均卧室数目^2 平均入住率 街区的纬度',\n",
       " '平均卧室数目^2 平均入住率 街区的经度',\n",
       " '平均卧室数目^2 街区的纬度^2',\n",
       " '平均卧室数目^2 街区的纬度 街区的经度',\n",
       " '平均卧室数目^2 街区的经度^2',\n",
       " '平均卧室数目 街区人口^3',\n",
       " '平均卧室数目 街区人口^2 平均入住率',\n",
       " '平均卧室数目 街区人口^2 街区的纬度',\n",
       " '平均卧室数目 街区人口^2 街区的经度',\n",
       " '平均卧室数目 街区人口 平均入住率^2',\n",
       " '平均卧室数目 街区人口 平均入住率 街区的纬度',\n",
       " '平均卧室数目 街区人口 平均入住率 街区的经度',\n",
       " '平均卧室数目 街区人口 街区的纬度^2',\n",
       " '平均卧室数目 街区人口 街区的纬度 街区的经度',\n",
       " '平均卧室数目 街区人口 街区的经度^2',\n",
       " '平均卧室数目 平均入住率^3',\n",
       " '平均卧室数目 平均入住率^2 街区的纬度',\n",
       " '平均卧室数目 平均入住率^2 街区的经度',\n",
       " '平均卧室数目 平均入住率 街区的纬度^2',\n",
       " '平均卧室数目 平均入住率 街区的纬度 街区的经度',\n",
       " '平均卧室数目 平均入住率 街区的经度^2',\n",
       " '平均卧室数目 街区的纬度^3',\n",
       " '平均卧室数目 街区的纬度^2 街区的经度',\n",
       " '平均卧室数目 街区的纬度 街区的经度^2',\n",
       " '平均卧室数目 街区的经度^3',\n",
       " '街区人口^4',\n",
       " '街区人口^3 平均入住率',\n",
       " '街区人口^3 街区的纬度',\n",
       " '街区人口^3 街区的经度',\n",
       " '街区人口^2 平均入住率^2',\n",
       " '街区人口^2 平均入住率 街区的纬度',\n",
       " '街区人口^2 平均入住率 街区的经度',\n",
       " '街区人口^2 街区的纬度^2',\n",
       " '街区人口^2 街区的纬度 街区的经度',\n",
       " '街区人口^2 街区的经度^2',\n",
       " '街区人口 平均入住率^3',\n",
       " '街区人口 平均入住率^2 街区的纬度',\n",
       " '街区人口 平均入住率^2 街区的经度',\n",
       " '街区人口 平均入住率 街区的纬度^2',\n",
       " '街区人口 平均入住率 街区的纬度 街区的经度',\n",
       " '街区人口 平均入住率 街区的经度^2',\n",
       " '街区人口 街区的纬度^3',\n",
       " '街区人口 街区的纬度^2 街区的经度',\n",
       " '街区人口 街区的纬度 街区的经度^2',\n",
       " '街区人口 街区的经度^3',\n",
       " '平均入住率^4',\n",
       " '平均入住率^3 街区的纬度',\n",
       " '平均入住率^3 街区的经度',\n",
       " '平均入住率^2 街区的纬度^2',\n",
       " '平均入住率^2 街区的纬度 街区的经度',\n",
       " '平均入住率^2 街区的经度^2',\n",
       " '平均入住率 街区的纬度^3',\n",
       " '平均入住率 街区的纬度^2 街区的经度',\n",
       " '平均入住率 街区的纬度 街区的经度^2',\n",
       " '平均入住率 街区的经度^3',\n",
       " '街区的纬度^4',\n",
       " '街区的纬度^3 街区的经度',\n",
       " '街区的纬度^2 街区的经度^2',\n",
       " '街区的纬度 街区的经度^3',\n",
       " '街区的经度^4']"
      ]
     },
     "execution_count": 175,
     "metadata": {},
     "output_type": "execute_result"
    }
   ],
   "source": [
    "poly.get_feature_names(X.columns)      #可以看到是多个特征的组合，从权重系数可以推出哪些特征的组合具有奇效"
   ]
  },
  {
   "cell_type": "code",
   "execution_count": 176,
   "metadata": {},
   "outputs": [],
   "source": [
    "X_ = poly.transform(X)"
   ]
  },
  {
   "cell_type": "code",
   "execution_count": 177,
   "metadata": {},
   "outputs": [],
   "source": [
    "#通过建立模型，使用线性回归的coef_属性来查看什么特征对标签的影响最大\n",
    "reg = LinearRegression().fit(X_,y)"
   ]
  },
  {
   "cell_type": "code",
   "execution_count": 178,
   "metadata": {},
   "outputs": [],
   "source": [
    "coef = reg.coef_"
   ]
  },
  {
   "cell_type": "code",
   "execution_count": 179,
   "metadata": {},
   "outputs": [
    {
     "data": {
      "text/plain": [
       "array([ 3.13533179e-04,  5.23306385e-05, -1.81450121e-06,  1.22426087e-07,\n",
       "       -2.22157203e-07, -5.23166945e-05, -1.89484775e-07,  7.25511712e-07,\n",
       "        8.24197492e-08, -9.09187831e-06, -1.07393358e-05, -1.90777426e-05,\n",
       "       -1.77178446e-06, -1.86453720e-05,  2.25184631e-06,  1.24287722e-07,\n",
       "        6.52428633e-06, -1.11014630e-05,  9.16449999e-06, -7.19656457e-06,\n",
       "       -7.37369500e-04,  3.54288966e-05,  1.06634912e-05,  3.41561835e-05,\n",
       "       -1.25459368e-05,  2.99489540e-06, -1.41854023e-04, -5.51063649e-06,\n",
       "       -4.07684541e-07,  2.43675628e-06,  1.52923960e-06, -4.78177449e-05,\n",
       "       -1.32503304e-06, -2.40700846e-06,  1.19707214e-05,  2.48886411e-05,\n",
       "       -4.25962295e-05, -6.97993475e-04,  2.09198892e-03, -7.13662031e-06,\n",
       "       -4.34606825e-07, -5.30121488e-06, -4.57841612e-06, -2.40217062e-05,\n",
       "       -6.62827647e-06, -7.82006520e-05, -1.43546745e-04, -9.41126454e-05,\n",
       "       -1.08482177e-05,  6.26544782e-04,  3.38123853e-05, -1.73184713e-04,\n",
       "        5.46473883e-04, -4.43485485e-04, -2.26131093e-04, -2.16153806e-05,\n",
       "        1.20767651e-04,  6.02717736e-05, -1.21224028e-04,  5.93909007e-04,\n",
       "       -1.80474496e-04, -1.57787280e-05, -7.16246312e-04, -2.01538418e-05,\n",
       "       -3.29222603e-04,  1.13849032e-03, -1.36223959e-05, -1.10308690e-04,\n",
       "        6.68322207e-08, -3.01220208e-05,  1.01060970e-04,  7.72019617e-07,\n",
       "        1.38085431e-03, -9.53902933e-04, -1.96088363e-04,  2.36931477e-05,\n",
       "        4.13157202e-05, -1.30931331e-04, -3.76245127e-06, -4.13923751e-06,\n",
       "       -3.76198979e-04, -6.24916377e-04,  3.17321548e-04, -2.00839532e-04,\n",
       "        2.08273017e-05,  9.97544709e-04,  8.29212331e-04, -9.36277827e-05,\n",
       "       -9.92932319e-05, -3.12551575e-05, -7.28901741e-05,  2.02649966e-05,\n",
       "        1.76252493e-04, -6.07801067e-04, -1.46238462e-05,  1.14351097e-03,\n",
       "       -7.32677317e-06, -1.26775129e-04,  4.02086325e-04,  7.90361662e-08,\n",
       "       -8.67878690e-05, -1.85537181e-04, -5.06010935e-05,  3.30109135e-05,\n",
       "        6.51989871e-04, -2.14668557e-03,  2.72806010e-04, -9.57810457e-04,\n",
       "       -5.00963109e-04,  6.56907909e-04,  2.28223523e-04,  8.95292807e-05,\n",
       "       -7.56133902e-05, -1.89569068e-04,  7.34325384e-04,  6.75785110e-05,\n",
       "        5.19866241e-05, -9.06060697e-06,  6.39423865e-05, -1.85028720e-04,\n",
       "       -1.38602979e-06, -5.97036055e-04,  1.09048315e-03,  2.36236674e-04,\n",
       "       -3.88611842e-05, -1.04713944e-04,  3.29054049e-04,  2.74130359e-05,\n",
       "       -4.57045461e-05,  8.04753042e-05,  7.59648356e-06,  5.71020865e-05,\n",
       "        2.07331403e-05,  2.29123333e-05, -9.53389383e-05,  1.30211241e-05,\n",
       "       -1.85238683e-04,  2.18559758e-04,  4.91490927e-04, -1.26050817e-05,\n",
       "       -2.96670717e-05,  7.67860468e-05, -1.87477990e-05,  1.01123271e-04,\n",
       "       -5.72449621e-04,  9.20954633e-11,  1.83508916e-06, -5.56116242e-08,\n",
       "        5.41176184e-07, -3.65352381e-05, -1.60275212e-03, -3.88664575e-04,\n",
       "        1.59288469e-03,  9.59593618e-04,  1.88316163e-04, -1.12607446e-04,\n",
       "       -1.27339443e-04,  4.17967791e-04, -8.24733395e-05,  5.64485559e-05,\n",
       "        2.38465486e-04, -4.54323771e-04,  4.15383321e-04,  1.16736041e-03,\n",
       "        4.16878360e-04,  3.71833033e-04,  1.27054093e-04, -1.20120974e-03,\n",
       "        2.88792202e-03, -5.16141244e-07, -8.08817456e-05,  6.57284398e-04,\n",
       "        2.93729764e-04, -8.92176655e-06, -3.59874887e-05, -1.04011810e-03,\n",
       "       -7.83765426e-07, -4.96619328e-05,  1.12397997e-04,  4.56309201e-05,\n",
       "        2.09299683e-04, -6.84829096e-04,  3.72851725e-06,  2.11356655e-03,\n",
       "       -7.39179122e-04, -4.13666756e-04, -7.53067076e-04, -6.34977845e-05,\n",
       "        3.56244790e-04, -6.82039603e-04,  2.97420319e-04,  3.19756158e-09,\n",
       "        8.10341340e-06,  1.24721728e-05,  8.75527684e-06, -1.84860738e-03,\n",
       "       -1.83322471e-03, -6.71073523e-04,  6.21972484e-04,  4.95146726e-04,\n",
       "        1.03566285e-04,  6.43686333e-06,  4.01792157e-05,  1.12298747e-04,\n",
       "        4.24238333e-08,  6.40667886e-05,  2.57541404e-07,  5.96606679e-06,\n",
       "       -3.14000360e-04,  1.18441080e-03,  2.58378816e-06,  1.10533714e-03,\n",
       "        4.99719898e-04,  1.57965077e-04,  4.34234851e-04, -1.76174919e-05,\n",
       "       -8.60500732e-04, -4.82264577e-04, -7.04174793e-05, -4.34849098e-10,\n",
       "       -2.83565363e-06,  5.31319972e-07,  9.97987861e-07,  4.14032372e-04,\n",
       "       -1.63790046e-04,  6.15262025e-05, -6.83359016e-04, -3.59848357e-04,\n",
       "       -3.56876859e-05,  2.11791018e-04, -4.01056141e-04, -7.49146683e-06,\n",
       "       -5.42325722e-04,  1.98381546e-04,  1.84015649e-04, -2.85600640e-04,\n",
       "        8.07462885e-05, -1.09389333e-04,  5.68397726e-04, -5.88783449e-04,\n",
       "       -7.56999398e-09, -1.57931539e-05, -1.60731633e-05, -1.09090259e-05,\n",
       "       -2.08447713e-03, -7.85519689e-04,  1.44379647e-04, -1.07848163e-03,\n",
       "       -6.85498003e-04, -9.71027733e-05, -1.80305088e-04, -3.47114942e-04,\n",
       "        7.94987263e-05, -1.89871855e-04,  1.30834224e-03,  3.90458905e-09,\n",
       "        2.01196117e-04,  1.75683847e-05, -1.10869258e-06,  1.41329133e-04,\n",
       "       -1.78490587e-05, -2.65000614e-04, -5.83427856e-04,  4.01880433e-04,\n",
       "        2.10651692e-04,  2.33220775e-12,  1.19904274e-09,  1.18975513e-08,\n",
       "        1.02363819e-08,  7.55771693e-06,  2.57940509e-05,  2.11170282e-05,\n",
       "        6.11914965e-06, -2.55817538e-06, -5.84317906e-07,  8.61503768e-05,\n",
       "       -1.07830741e-03, -5.40897685e-04, -2.22140046e-05, -3.49429598e-04,\n",
       "       -1.00891983e-04,  9.74560552e-04,  8.09829983e-04,  2.33968601e-04,\n",
       "        2.11642160e-05,  6.18246708e-07, -2.33353691e-06, -4.08568363e-05,\n",
       "        1.14372512e-08, -6.29083674e-07, -1.01885032e-05, -7.91366018e-06,\n",
       "        1.40914179e-05, -2.73689472e-04,  1.46529574e-07,  1.67479458e-05,\n",
       "       -5.32213074e-05, -1.38806690e-05,  9.38425634e-04, -3.06063118e-06,\n",
       "        1.22398402e-04,  3.97401494e-04,  8.73418932e-05,  2.35068372e-11,\n",
       "       -1.47364294e-08,  1.02769514e-07,  1.91922213e-07,  1.75451051e-05,\n",
       "        5.20822872e-05,  2.69974693e-05, -5.16838088e-05, -2.96245265e-05,\n",
       "       -6.96321410e-06,  1.44442957e-04, -1.19611385e-03, -1.43015742e-06,\n",
       "        1.59066003e-04, -2.81965778e-04, -7.85580628e-05,  2.45372308e-03,\n",
       "        6.69023749e-06, -7.42825481e-04,  1.43355593e-03,  2.89246442e-04,\n",
       "        1.16270931e-09,  6.58033001e-06, -8.71004866e-07, -5.73197528e-07,\n",
       "       -1.38336793e-04,  1.20902181e-03,  4.22808741e-04,  4.74994596e-04,\n",
       "        2.73489900e-04,  3.46536873e-05,  1.22351099e-03, -1.42527141e-05,\n",
       "        5.06561875e-04,  1.69375928e-04,  6.47936216e-04, -1.66979325e-08,\n",
       "       -2.59280168e-05,  2.48160605e-05,  1.42711647e-05,  4.15519328e-03,\n",
       "        1.09673603e-04,  1.80193172e-04,  7.65577595e-04,  8.44001470e-04,\n",
       "        1.85329285e-04, -3.08952405e-14,  3.39661920e-11, -3.14040216e-10,\n",
       "        4.68645624e-10, -1.11957332e-09, -2.58930644e-06, -1.55062315e-06,\n",
       "       -3.40446463e-06, -3.45092760e-06, -6.46854540e-07, -1.36662437e-04,\n",
       "       -3.97095828e-04, -9.41542683e-05, -1.17166447e-03, -7.03892268e-04,\n",
       "       -1.21224891e-04,  1.82275656e-04,  9.86293895e-05,  1.64757388e-07,\n",
       "       -5.36945581e-06, -1.03760247e-05,  1.08306014e-04,  1.58477573e-06,\n",
       "        8.38959112e-04,  1.31116954e-04,  8.45167109e-05, -2.12144919e-04,\n",
       "       -2.80456274e-05, -3.73584906e-03, -9.83824727e-04, -4.27180426e-04,\n",
       "        7.79201355e-09,  3.56009536e-05,  4.79404533e-06,  2.99774789e-06,\n",
       "       -7.44409111e-04,  9.10189516e-04,  2.97626997e-04,  8.71507431e-05,\n",
       "        9.90194739e-05,  3.96432789e-05, -3.38874461e-04,  1.78960011e-04,\n",
       "       -1.34574736e-03, -3.73436506e-04, -5.58037670e-04, -1.11926923e-07,\n",
       "       -3.54012552e-04, -9.20786243e-05, -3.52557369e-05,  2.05862482e-04,\n",
       "       -1.51300928e-04,  2.49327427e-04,  6.07297055e-04, -1.21974799e-04,\n",
       "       -1.66458220e-04, -3.82134431e-12, -3.74323070e-10, -2.82857956e-08,\n",
       "       -2.08703459e-08, -1.10319415e-05, -2.79614282e-05, -1.37573412e-05,\n",
       "       -1.47720563e-05, -2.87482109e-06, -2.79622917e-07,  9.00884688e-04,\n",
       "        7.35709285e-04,  2.38486396e-04, -6.09616181e-04,  2.01001730e-05,\n",
       "        8.77400764e-05, -2.56735907e-03, -2.44509540e-03, -7.78724070e-04,\n",
       "       -8.16057528e-05, -2.13643354e-04, -3.61427445e-04, -3.80164220e-04,\n",
       "       -5.44551739e-04,  1.09317197e-03,  4.06648018e-07,  1.20900793e-03,\n",
       "        4.00972603e-04,  1.45117485e-04,  4.38213320e-05,  6.94517802e-04,\n",
       "       -2.54972371e-03, -3.91283561e-04,  8.09889925e-04,  3.96110351e-04,\n",
       "        3.91860710e-11,  1.53433077e-07,  2.55497764e-07,  1.94297797e-07,\n",
       "        5.62396741e-05,  2.77119089e-04,  9.59169004e-05,  5.54789583e-05,\n",
       "        5.72225168e-05,  1.57993856e-05, -1.99730711e-03,  1.40122277e-04,\n",
       "        2.19413643e-04, -4.43679207e-04,  6.27758438e-04,  1.87593905e-04,\n",
       "       -4.60548223e-04,  4.14381620e-05,  2.43974084e-04,  5.15884702e-05,\n",
       "        2.32520708e-16,  9.02605917e-13,  1.67605129e-12,  1.59311315e-12,\n",
       "       -7.96974982e-09,  2.39498188e-08,  2.34247272e-08, -1.35243749e-09,\n",
       "        8.29115240e-10,  3.34417160e-09,  6.73366334e-07, -5.29673980e-06,\n",
       "       -1.82784820e-06,  4.45407625e-06, -8.29157947e-06, -2.03768778e-06,\n",
       "        1.37501666e-05,  2.56792462e-05,  1.19007263e-05,  1.83627128e-06,\n",
       "        1.62731586e-06,  5.08908363e-04,  1.85622240e-04,  2.58282755e-04,\n",
       "        5.10509596e-05,  1.34557943e-06,  5.37978223e-04,  1.48105428e-04,\n",
       "       -4.54073898e-05, -9.89053582e-06, -8.71299455e-03, -1.07697958e-02,\n",
       "       -4.98700457e-03, -1.01801325e-03, -7.60344299e-05])"
      ]
     },
     "execution_count": 179,
     "metadata": {},
     "output_type": "execute_result"
    }
   ],
   "source": [
    "coef"
   ]
  },
  {
   "cell_type": "code",
   "execution_count": 180,
   "metadata": {},
   "outputs": [
    {
     "data": {
      "text/plain": [
       "[('1', 0.00031353317897706186),\n",
       " ('住户收入中位数', 5.23306385300499e-05),\n",
       " ('房屋使用年代中位数', -1.8145012132781508e-06),\n",
       " ('平均房间数目', 1.2242608702157304e-07),\n",
       " ('平均卧室数目', -2.2215720275854965e-07),\n",
       " ('街区人口', -5.231669449712828e-05),\n",
       " ('平均入住率', -1.8948477479176654e-07),\n",
       " ('街区的纬度', 7.255117116259424e-07),\n",
       " ('街区的经度', 8.241974924207708e-08),\n",
       " ('住户收入中位数^2', -9.091878310961412e-06),\n",
       " ('住户收入中位数 房屋使用年代中位数', -1.0739335779425393e-05),\n",
       " ('住户收入中位数 平均房间数目', -1.9077742589636518e-05),\n",
       " ('住户收入中位数 平均卧室数目', -1.7717844649928546e-06),\n",
       " ('住户收入中位数 街区人口', -1.864537199101381e-05),\n",
       " ('住户收入中位数 平均入住率', 2.2518463146320495e-06),\n",
       " ('住户收入中位数 街区的纬度', 1.2428772235992657e-07),\n",
       " ('住户收入中位数 街区的经度', 6.524286330970747e-06),\n",
       " ('房屋使用年代中位数^2', -1.1101463008659354e-05),\n",
       " ('房屋使用年代中位数 平均房间数目', 9.164499992109736e-06),\n",
       " ('房屋使用年代中位数 平均卧室数目', -7.196564573170258e-06),\n",
       " ('房屋使用年代中位数 街区人口', -0.0007373695003816156),\n",
       " ('房屋使用年代中位数 平均入住率', 3.5428896552636175e-05),\n",
       " ('房屋使用年代中位数 街区的纬度', 1.0663491163619488e-05),\n",
       " ('房屋使用年代中位数 街区的经度', 3.4156183535416455e-05),\n",
       " ('平均房间数目^2', -1.2545936800536178e-05),\n",
       " ('平均房间数目 平均卧室数目', 2.994895404500122e-06),\n",
       " ('平均房间数目 街区人口', -0.0001418540226478383),\n",
       " ('平均房间数目 平均入住率', -5.510636494163248e-06),\n",
       " ('平均房间数目 街区的纬度', -4.076845412992376e-07),\n",
       " ('平均房间数目 街区的经度', 2.436756276814014e-06),\n",
       " ('平均卧室数目^2', 1.5292395974233582e-06),\n",
       " ('平均卧室数目 街区人口', -4.781774485022467e-05),\n",
       " ('平均卧室数目 平均入住率', -1.325033042135264e-06),\n",
       " ('平均卧室数目 街区的纬度', -2.4070084586709055e-06),\n",
       " ('平均卧室数目 街区的经度', 1.1970721410585914e-05),\n",
       " ('街区人口^2', 2.4888641123784246e-05),\n",
       " ('街区人口 平均入住率', -4.259622952848289e-05),\n",
       " ('街区人口 街区的纬度', -0.000697993475449731),\n",
       " ('街区人口 街区的经度', 0.0020919889218918965),\n",
       " ('平均入住率^2', -7.13662031211981e-06),\n",
       " ('平均入住率 街区的纬度', -4.3460682473452915e-07),\n",
       " ('平均入住率 街区的经度', -5.3012148751934556e-06),\n",
       " ('街区的纬度^2', -4.578416122489725e-06),\n",
       " ('街区的纬度 街区的经度', -2.4021706245201802e-05),\n",
       " ('街区的经度^2', -6.628276471837594e-06),\n",
       " ('住户收入中位数^3', -7.820065200074416e-05),\n",
       " ('住户收入中位数^2 房屋使用年代中位数', -0.00014354674473188736),\n",
       " ('住户收入中位数^2 平均房间数目', -9.411264538596643e-05),\n",
       " ('住户收入中位数^2 平均卧室数目', -1.0848217739956689e-05),\n",
       " ('住户收入中位数^2 街区人口', 0.0006265447815939931),\n",
       " ('住户收入中位数^2 平均入住率', 3.381238532050323e-05),\n",
       " ('住户收入中位数^2 街区的纬度', -0.0001731847127465723),\n",
       " ('住户收入中位数^2 街区的经度', 0.000546473882736201),\n",
       " ('住户收入中位数 房屋使用年代中位数^2', -0.00044348548485667204),\n",
       " ('住户收入中位数 房屋使用年代中位数 平均房间数目', -0.0002261310928123256),\n",
       " ('住户收入中位数 房屋使用年代中位数 平均卧室数目', -2.1615380552318443e-05),\n",
       " ('住户收入中位数 房屋使用年代中位数 街区人口', 0.00012076765056226553),\n",
       " ('住户收入中位数 房屋使用年代中位数 平均入住率', 6.027177364387948e-05),\n",
       " ('住户收入中位数 房屋使用年代中位数 街区的纬度', -0.00012122402832781524),\n",
       " ('住户收入中位数 房屋使用年代中位数 街区的经度', 0.000593909007476828),\n",
       " ('住户收入中位数 平均房间数目^2', -0.00018047449585413826),\n",
       " ('住户收入中位数 平均房间数目 平均卧室数目', -1.5778728048215448e-05),\n",
       " ('住户收入中位数 平均房间数目 街区人口', -0.0007162463119615843),\n",
       " ('住户收入中位数 平均房间数目 平均入住率', -2.0153841837710115e-05),\n",
       " ('住户收入中位数 平均房间数目 街区的纬度', -0.00032922260302047134),\n",
       " ('住户收入中位数 平均房间数目 街区的经度', 0.0011384903233759751),\n",
       " ('住户收入中位数 平均卧室数目^2', -1.3622395873884608e-05),\n",
       " ('住户收入中位数 平均卧室数目 街区人口', -0.00011030868959565353),\n",
       " ('住户收入中位数 平均卧室数目 平均入住率', 6.683222074583737e-08),\n",
       " ('住户收入中位数 平均卧室数目 街区的纬度', -3.012202082444694e-05),\n",
       " ('住户收入中位数 平均卧室数目 街区的经度', 0.00010106096956746402),\n",
       " ('住户收入中位数 街区人口^2', 7.720196174538478e-07),\n",
       " ('住户收入中位数 街区人口 平均入住率', 0.0013808543133597743),\n",
       " ('住户收入中位数 街区人口 街区的纬度', -0.0009539029334772316),\n",
       " ('住户收入中位数 街区人口 街区的经度', -0.0001960883633916287),\n",
       " ('住户收入中位数 平均入住率^2', 2.3693147650547664e-05),\n",
       " ('住户收入中位数 平均入住率 街区的纬度', 4.1315720177312446e-05),\n",
       " ('住户收入中位数 平均入住率 街区的经度', -0.00013093133074020265),\n",
       " ('住户收入中位数 街区的纬度^2', -3.7624512681146512e-06),\n",
       " ('住户收入中位数 街区的纬度 街区的经度', -4.139237508726499e-06),\n",
       " ('住户收入中位数 街区的经度^2', -0.0003761989785780503),\n",
       " ('房屋使用年代中位数^3', -0.0006249163771336454),\n",
       " ('房屋使用年代中位数^2 平均房间数目', 0.000317321547847465),\n",
       " ('房屋使用年代中位数^2 平均卧室数目', -0.00020083953246242926),\n",
       " ('房屋使用年代中位数^2 街区人口', 2.082730174400867e-05),\n",
       " ('房屋使用年代中位数^2 平均入住率', 0.000997544709413511),\n",
       " ('房屋使用年代中位数^2 街区的纬度', 0.0008292123306161639),\n",
       " ('房屋使用年代中位数^2 街区的经度', -9.362778273025983e-05),\n",
       " ('房屋使用年代中位数 平均房间数目^2', -9.929323194928896e-05),\n",
       " ('房屋使用年代中位数 平均房间数目 平均卧室数目', -3.125515750909387e-05),\n",
       " ('房屋使用年代中位数 平均房间数目 街区人口', -7.289017406727518e-05),\n",
       " ('房屋使用年代中位数 平均房间数目 平均入住率', 2.0264996576127737e-05),\n",
       " ('房屋使用年代中位数 平均房间数目 街区的纬度', 0.00017625249325908327),\n",
       " ('房屋使用年代中位数 平均房间数目 街区的经度', -0.0006078010673918298),\n",
       " ('房屋使用年代中位数 平均卧室数目^2', -1.4623846214013863e-05),\n",
       " ('房屋使用年代中位数 平均卧室数目 街区人口', 0.0011435109683174682),\n",
       " ('房屋使用年代中位数 平均卧室数目 平均入住率', -7.326773170405768e-06),\n",
       " ('房屋使用年代中位数 平均卧室数目 街区的纬度', -0.00012677512935402874),\n",
       " ('房屋使用年代中位数 平均卧室数目 街区的经度', 0.0004020863246615588),\n",
       " ('房屋使用年代中位数 街区人口^2', 7.903616615192183e-08),\n",
       " ('房屋使用年代中位数 街区人口 平均入住率', -8.678786897610596e-05),\n",
       " ('房屋使用年代中位数 街区人口 街区的纬度', -0.00018553718051921185),\n",
       " ('房屋使用年代中位数 街区人口 街区的经度', -5.0601093475169695e-05),\n",
       " ('房屋使用年代中位数 平均入住率^2', 3.301091345174249e-05),\n",
       " ('房屋使用年代中位数 平均入住率 街区的纬度', 0.000651989871107261),\n",
       " ('房屋使用年代中位数 平均入住率 街区的经度', -0.002146685567760096),\n",
       " ('房屋使用年代中位数 街区的纬度^2', 0.0002728060098251261),\n",
       " ('房屋使用年代中位数 街区的纬度 街区的经度', -0.0009578104565360507),\n",
       " ('房屋使用年代中位数 街区的经度^2', -0.0005009631088117908),\n",
       " ('平均房间数目^3', 0.0006569079094735409),\n",
       " ('平均房间数目^2 平均卧室数目', 0.00022822352332700684),\n",
       " ('平均房间数目^2 街区人口', 8.952928065948945e-05),\n",
       " ('平均房间数目^2 平均入住率', -7.561339017281047e-05),\n",
       " ('平均房间数目^2 街区的纬度', -0.0001895690683750243),\n",
       " ('平均房间数目^2 街区的经度', 0.0007343253836062157),\n",
       " ('平均房间数目 平均卧室数目^2', 6.757851097722654e-05),\n",
       " ('平均房间数目 平均卧室数目 街区人口', 5.19866240731754e-05),\n",
       " ('平均房间数目 平均卧室数目 平均入住率', -9.060606972454245e-06),\n",
       " ('平均房间数目 平均卧室数目 街区的纬度', 6.394238654420998e-05),\n",
       " ('平均房间数目 平均卧室数目 街区的经度', -0.0001850287197917212),\n",
       " ('平均房间数目 街区人口^2', -1.386029789352288e-06),\n",
       " ('平均房间数目 街区人口 平均入住率', -0.0005970360550823091),\n",
       " ('平均房间数目 街区人口 街区的纬度', 0.0010904831507502217),\n",
       " ('平均房间数目 街区人口 街区的经度', 0.00023623667404968574),\n",
       " ('平均房间数目 平均入住率^2', -3.886118420791714e-05),\n",
       " ('平均房间数目 平均入住率 街区的纬度', -0.00010471394374505832),\n",
       " ('平均房间数目 平均入住率 街区的经度', 0.0003290540486133113),\n",
       " ('平均房间数目 街区的纬度^2', 2.741303590893464e-05),\n",
       " ('平均房间数目 街区的纬度 街区的经度', -4.570454609406848e-05),\n",
       " ('平均房间数目 街区的经度^2', 8.047530419121423e-05),\n",
       " ('平均卧室数目^3', 7.596483564275906e-06),\n",
       " ('平均卧室数目^2 街区人口', 5.710208648912818e-05),\n",
       " ('平均卧室数目^2 平均入住率', 2.073314031507199e-05),\n",
       " ('平均卧室数目^2 街区的纬度', 2.2912333308336433e-05),\n",
       " ('平均卧室数目^2 街区的经度', -9.533893834050439e-05),\n",
       " ('平均卧室数目 街区人口^2', 1.3021124087402672e-05),\n",
       " ('平均卧室数目 街区人口 平均入住率', -0.00018523868253218185),\n",
       " ('平均卧室数目 街区人口 街区的纬度', 0.000218559757688908),\n",
       " ('平均卧室数目 街区人口 街区的经度', 0.0004914909274846236),\n",
       " ('平均卧室数目 平均入住率^2', -1.2605081718403158e-05),\n",
       " ('平均卧室数目 平均入住率 街区的纬度', -2.9667071717235336e-05),\n",
       " ('平均卧室数目 平均入住率 街区的经度', 7.678604683531081e-05),\n",
       " ('平均卧室数目 街区的纬度^2', -1.8747798965850695e-05),\n",
       " ('平均卧室数目 街区的纬度 街区的经度', 0.0001011232711218712),\n",
       " ('平均卧室数目 街区的经度^2', -0.0005724496206175017),\n",
       " ('街区人口^3', 9.209546325420273e-11),\n",
       " ('街区人口^2 平均入住率', 1.8350891593630955e-06),\n",
       " ('街区人口^2 街区的纬度', -5.5611624189555036e-08),\n",
       " ('街区人口^2 街区的经度', 5.411761842828421e-07),\n",
       " ('街区人口 平均入住率^2', -3.653523805283057e-05),\n",
       " ('街区人口 平均入住率 街区的纬度', -0.001602752123771074),\n",
       " ('街区人口 平均入住率 街区的经度', -0.0003886645754466691),\n",
       " ('街区人口 街区的纬度^2', 0.0015928846919797898),\n",
       " ('街区人口 街区的纬度 街区的经度', 0.0009595936176448616),\n",
       " ('街区人口 街区的经度^2', 0.00018831616336747648),\n",
       " ('平均入住率^3', -0.00011260744575074572),\n",
       " ('平均入住率^2 街区的纬度', -0.0001273394426779391),\n",
       " ('平均入住率^2 街区的经度', 0.00041796779102782396),\n",
       " ('平均入住率 街区的纬度^2', -8.247333953223911e-05),\n",
       " ('平均入住率 街区的纬度 街区的经度', 5.644855594443004e-05),\n",
       " ('平均入住率 街区的经度^2', 0.0002384654863692851),\n",
       " ('街区的纬度^3', -0.0004543237710690553),\n",
       " ('街区的纬度^2 街区的经度', 0.00041538332070270963),\n",
       " ('街区的纬度 街区的经度^2', 0.0011673604062863614),\n",
       " ('街区的经度^3', 0.0004168783599211265),\n",
       " ('住户收入中位数^4', 0.0003718330332722061),\n",
       " ('住户收入中位数^3 房屋使用年代中位数', 0.0001270540927397322),\n",
       " ('住户收入中位数^3 平均房间数目', -0.0012012097439242089),\n",
       " ('住户收入中位数^3 平均卧室数目', 0.0028879220227210887),\n",
       " ('住户收入中位数^3 街区人口', -5.161412442238784e-07),\n",
       " ('住户收入中位数^3 平均入住率', -8.088174561686716e-05),\n",
       " ('住户收入中位数^3 街区的纬度', 0.0006572843975917843),\n",
       " ('住户收入中位数^3 街区的经度', 0.0002937297638002632),\n",
       " ('住户收入中位数^2 房屋使用年代中位数^2', -8.921766553038631e-06),\n",
       " ('住户收入中位数^2 房屋使用年代中位数 平均房间数目', -3.5987488718752444e-05),\n",
       " ('住户收入中位数^2 房屋使用年代中位数 平均卧室数目', -0.001040118102854527),\n",
       " ('住户收入中位数^2 房屋使用年代中位数 街区人口', -7.837654255807616e-07),\n",
       " ('住户收入中位数^2 房屋使用年代中位数 平均入住率', -4.966193283147116e-05),\n",
       " ('住户收入中位数^2 房屋使用年代中位数 街区的纬度', 0.0001123979967024653),\n",
       " ('住户收入中位数^2 房屋使用年代中位数 街区的经度', 4.563092013348682e-05),\n",
       " ('住户收入中位数^2 平均房间数目^2', 0.00020929968306560167),\n",
       " ('住户收入中位数^2 平均房间数目 平均卧室数目', -0.00068482909579026),\n",
       " ('住户收入中位数^2 平均房间数目 街区人口', 3.728517254301243e-06),\n",
       " ('住户收入中位数^2 平均房间数目 平均入住率', 0.002113566546605686),\n",
       " ('住户收入中位数^2 平均房间数目 街区的纬度', -0.0007391791215733812),\n",
       " ('住户收入中位数^2 平均房间数目 街区的经度', -0.00041366675593513077),\n",
       " ('住户收入中位数^2 平均卧室数目^2', -0.0007530670763090415),\n",
       " ('住户收入中位数^2 平均卧室数目 街区人口', -6.349778453569343e-05),\n",
       " ('住户收入中位数^2 平均卧室数目 平均入住率', 0.00035624479005154965),\n",
       " ('住户收入中位数^2 平均卧室数目 街区的纬度', -0.0006820396028155246),\n",
       " ('住户收入中位数^2 平均卧室数目 街区的经度', 0.000297420319253112),\n",
       " ('住户收入中位数^2 街区人口^2', 3.19756157721163e-09),\n",
       " ('住户收入中位数^2 街区人口 平均入住率', 8.103413396305428e-06),\n",
       " ('住户收入中位数^2 街区人口 街区的纬度', 1.2472172844105548e-05),\n",
       " ('住户收入中位数^2 街区人口 街区的经度', 8.755276843615757e-06),\n",
       " ('住户收入中位数^2 平均入住率^2', -0.0018486073823648925),\n",
       " ('住户收入中位数^2 平均入住率 街区的纬度', -0.0018332247061900598),\n",
       " ('住户收入中位数^2 平均入住率 街区的经度', -0.0006710735231755166),\n",
       " ('住户收入中位数^2 街区的纬度^2', 0.0006219724837990746),\n",
       " ('住户收入中位数^2 街区的纬度 街区的经度', 0.000495146726274163),\n",
       " ('住户收入中位数^2 街区的经度^2', 0.00010356628479438541),\n",
       " ('住户收入中位数 房屋使用年代中位数^3', 6.436863327537794e-06),\n",
       " ('住户收入中位数 房屋使用年代中位数^2 平均房间数目', 4.01792156598824e-05),\n",
       " ('住户收入中位数 房屋使用年代中位数^2 平均卧室数目', 0.00011229874685032438),\n",
       " ('住户收入中位数 房屋使用年代中位数^2 街区人口', 4.242383328246618e-08),\n",
       " ('住户收入中位数 房屋使用年代中位数^2 平均入住率', 6.406678857082944e-05),\n",
       " ('住户收入中位数 房屋使用年代中位数^2 街区的纬度', 2.575414041062136e-07),\n",
       " ('住户收入中位数 房屋使用年代中位数^2 街区的经度', 5.966066785593417e-06),\n",
       " ('住户收入中位数 房屋使用年代中位数 平均房间数目^2', -0.00031400035984204493),\n",
       " ('住户收入中位数 房屋使用年代中位数 平均房间数目 平均卧室数目', 0.0011844107987983436),\n",
       " ('住户收入中位数 房屋使用年代中位数 平均房间数目 街区人口', 2.5837881583012487e-06),\n",
       " ('住户收入中位数 房屋使用年代中位数 平均房间数目 平均入住率', 0.0011053371402991894),\n",
       " ('住户收入中位数 房屋使用年代中位数 平均房间数目 街区的纬度', 0.0004997198983148803),\n",
       " ('住户收入中位数 房屋使用年代中位数 平均房间数目 街区的经度', 0.0001579650772290069),\n",
       " ('住户收入中位数 房屋使用年代中位数 平均卧室数目^2', 0.0004342348514991398),\n",
       " ('住户收入中位数 房屋使用年代中位数 平均卧室数目 街区人口', -1.761749185643393e-05),\n",
       " ('住户收入中位数 房屋使用年代中位数 平均卧室数目 平均入住率', -0.0008605007321717282),\n",
       " ('住户收入中位数 房屋使用年代中位数 平均卧室数目 街区的纬度', -0.00048226457659844124),\n",
       " ('住户收入中位数 房屋使用年代中位数 平均卧室数目 街区的经度', -7.04174793064726e-05),\n",
       " ('住户收入中位数 房屋使用年代中位数 街区人口^2', -4.3484909794636213e-10),\n",
       " ('住户收入中位数 房屋使用年代中位数 街区人口 平均入住率', -2.8356536349902827e-06),\n",
       " ('住户收入中位数 房屋使用年代中位数 街区人口 街区的纬度', 5.313199723769029e-07),\n",
       " ('住户收入中位数 房屋使用年代中位数 街区人口 街区的经度', 9.979878607536688e-07),\n",
       " ('住户收入中位数 房屋使用年代中位数 平均入住率^2', 0.0004140323723984074),\n",
       " ('住户收入中位数 房屋使用年代中位数 平均入住率 街区的纬度', -0.00016379004550576176),\n",
       " ('住户收入中位数 房屋使用年代中位数 平均入住率 街区的经度', 6.152620249025974e-05),\n",
       " ('住户收入中位数 房屋使用年代中位数 街区的纬度^2', -0.0006833590156473254),\n",
       " ('住户收入中位数 房屋使用年代中位数 街区的纬度 街区的经度', -0.00035984835669323307),\n",
       " ('住户收入中位数 房屋使用年代中位数 街区的经度^2', -3.56876859237498e-05),\n",
       " ('住户收入中位数 平均房间数目^3', 0.00021179101768455707),\n",
       " ('住户收入中位数 平均房间数目^2 平均卧室数目', -0.00040105614067249183),\n",
       " ('住户收入中位数 平均房间数目^2 街区人口', -7.491466827471088e-06),\n",
       " ('住户收入中位数 平均房间数目^2 平均入住率', -0.0005423257222256035),\n",
       " ('住户收入中位数 平均房间数目^2 街区的纬度', 0.00019838154616147599),\n",
       " ('住户收入中位数 平均房间数目^2 街区的经度', 0.00018401564940298816),\n",
       " ('住户收入中位数 平均房间数目 平均卧室数目^2', -0.0002856006402490402),\n",
       " ('住户收入中位数 平均房间数目 平均卧室数目 街区人口', 8.0746288544478e-05),\n",
       " ('住户收入中位数 平均房间数目 平均卧室数目 平均入住率', -0.00010938933252594663),\n",
       " ('住户收入中位数 平均房间数目 平均卧室数目 街区的纬度', 0.0005683977264182407),\n",
       " ('住户收入中位数 平均房间数目 平均卧室数目 街区的经度', -0.0005887834491486377),\n",
       " ('住户收入中位数 平均房间数目 街区人口^2', -7.569993979019774e-09),\n",
       " ('住户收入中位数 平均房间数目 街区人口 平均入住率', -1.5793153908383233e-05),\n",
       " ('住户收入中位数 平均房间数目 街区人口 街区的纬度', -1.607316332626266e-05),\n",
       " ('住户收入中位数 平均房间数目 街区人口 街区的经度', -1.090902585299614e-05),\n",
       " ('住户收入中位数 平均房间数目 平均入住率^2', -0.0020844771322786164),\n",
       " ('住户收入中位数 平均房间数目 平均入住率 街区的纬度', -0.0007855196890190773),\n",
       " ('住户收入中位数 平均房间数目 平均入住率 街区的经度', 0.00014437964727250058),\n",
       " ('住户收入中位数 平均房间数目 街区的纬度^2', -0.0010784816260940911),\n",
       " ('住户收入中位数 平均房间数目 街区的纬度 街区的经度', -0.0006854980027270437),\n",
       " ('住户收入中位数 平均房间数目 街区的经度^2', -9.710277329098443e-05),\n",
       " ('住户收入中位数 平均卧室数目^3', -0.00018030508808862877),\n",
       " ('住户收入中位数 平均卧室数目^2 街区人口', -0.0003471149424293232),\n",
       " ('住户收入中位数 平均卧室数目^2 平均入住率', 7.949872632050411e-05),\n",
       " ('住户收入中位数 平均卧室数目^2 街区的纬度', -0.00018987185493788891),\n",
       " ('住户收入中位数 平均卧室数目^2 街区的经度', 0.0013083422449084938),\n",
       " ('住户收入中位数 平均卧室数目 街区人口^2', 3.904589051201129e-09),\n",
       " ('住户收入中位数 平均卧室数目 街区人口 平均入住率', 0.00020119611719645122),\n",
       " ('住户收入中位数 平均卧室数目 街区人口 街区的纬度', 1.7568384698978272e-05),\n",
       " ('住户收入中位数 平均卧室数目 街区人口 街区的经度', -1.1086925823681341e-06),\n",
       " ('住户收入中位数 平均卧室数目 平均入住率^2', 0.0001413291333184684),\n",
       " ('住户收入中位数 平均卧室数目 平均入住率 街区的纬度', -1.7849058659834126e-05),\n",
       " ('住户收入中位数 平均卧室数目 平均入住率 街区的经度', -0.0002650006138048979),\n",
       " ('住户收入中位数 平均卧室数目 街区的纬度^2', -0.0005834278562351971),\n",
       " ('住户收入中位数 平均卧室数目 街区的纬度 街区的经度', 0.0004018804329004972),\n",
       " ('住户收入中位数 平均卧室数目 街区的经度^2', 0.00021065169213685517),\n",
       " ('住户收入中位数 街区人口^3', 2.3322077521834754e-12),\n",
       " ('住户收入中位数 街区人口^2 平均入住率', 1.1990427413111684e-09),\n",
       " ('住户收入中位数 街区人口^2 街区的纬度', 1.1897551347207227e-08),\n",
       " ('住户收入中位数 街区人口^2 街区的经度', 1.0236381926614305e-08),\n",
       " ('住户收入中位数 街区人口 平均入住率^2', 7.557716929014471e-06),\n",
       " ('住户收入中位数 街区人口 平均入住率 街区的纬度', 2.5794050886277977e-05),\n",
       " ('住户收入中位数 街区人口 平均入住率 街区的经度', 2.1117028216395117e-05),\n",
       " ('住户收入中位数 街区人口 街区的纬度^2', 6.119149648343262e-06),\n",
       " ('住户收入中位数 街区人口 街区的纬度 街区的经度', -2.5581753828930584e-06),\n",
       " ('住户收入中位数 街区人口 街区的经度^2', -5.843179061616274e-07),\n",
       " ('住户收入中位数 平均入住率^3', 8.615037684607905e-05),\n",
       " ('住户收入中位数 平均入住率^2 街区的纬度', -0.0010783074082164413),\n",
       " ('住户收入中位数 平均入住率^2 街区的经度', -0.0005408976845687756),\n",
       " ('住户收入中位数 平均入住率 街区的纬度^2', -2.2214004571824484e-05),\n",
       " ('住户收入中位数 平均入住率 街区的纬度 街区的经度', -0.0003494295980665068),\n",
       " ('住户收入中位数 平均入住率 街区的经度^2', -0.00010089198266607333),\n",
       " ('住户收入中位数 街区的纬度^3', 0.0009745605520331734),\n",
       " ('住户收入中位数 街区的纬度^2 街区的经度', 0.0008098299831086902),\n",
       " ('住户收入中位数 街区的纬度 街区的经度^2', 0.00023396860062297405),\n",
       " ('住户收入中位数 街区的经度^3', 2.116421601498526e-05),\n",
       " ('房屋使用年代中位数^4', 6.182467084644797e-07),\n",
       " ('房屋使用年代中位数^3 平均房间数目', -2.3335369108083706e-06),\n",
       " ('房屋使用年代中位数^3 平均卧室数目', -4.085683634185807e-05),\n",
       " ('房屋使用年代中位数^3 街区人口', 1.143725123419247e-08),\n",
       " ('房屋使用年代中位数^3 平均入住率', -6.290836742828824e-07),\n",
       " ('房屋使用年代中位数^3 街区的纬度', -1.0188503170996086e-05),\n",
       " ('房屋使用年代中位数^3 街区的经度', -7.913660179463358e-06),\n",
       " ('房屋使用年代中位数^2 平均房间数目^2', 1.409141785608976e-05),\n",
       " ('房屋使用年代中位数^2 平均房间数目 平均卧室数目', -0.0002736894722455326),\n",
       " ('房屋使用年代中位数^2 平均房间数目 街区人口', 1.4652957376660613e-07),\n",
       " ('房屋使用年代中位数^2 平均房间数目 平均入住率', 1.6747945775638413e-05),\n",
       " ('房屋使用年代中位数^2 平均房间数目 街区的纬度', -5.322130736470323e-05),\n",
       " ('房屋使用年代中位数^2 平均房间数目 街区的经度', -1.3880668978083286e-05),\n",
       " ('房屋使用年代中位数^2 平均卧室数目^2', 0.0009384256340063896),\n",
       " ('房屋使用年代中位数^2 平均卧室数目 街区人口', -3.060631181058119e-06),\n",
       " ('房屋使用年代中位数^2 平均卧室数目 平均入住率', 0.0001223984018314002),\n",
       " ('房屋使用年代中位数^2 平均卧室数目 街区的纬度', 0.00039740149426495),\n",
       " ('房屋使用年代中位数^2 平均卧室数目 街区的经度', 8.734189317326247e-05),\n",
       " ('房屋使用年代中位数^2 街区人口^2', 2.350683721025898e-11),\n",
       " ('房屋使用年代中位数^2 街区人口 平均入住率', -1.473642943908404e-08),\n",
       " ('房屋使用年代中位数^2 街区人口 街区的纬度', 1.027695141722495e-07),\n",
       " ('房屋使用年代中位数^2 街区人口 街区的经度', 1.9192221264068166e-07),\n",
       " ('房屋使用年代中位数^2 平均入住率^2', 1.7545105091969736e-05),\n",
       " ('房屋使用年代中位数^2 平均入住率 街区的纬度', 5.208228715786875e-05),\n",
       " ('房屋使用年代中位数^2 平均入住率 街区的经度', 2.699746926947748e-05),\n",
       " ('房屋使用年代中位数^2 街区的纬度^2', -5.1683808774300996e-05),\n",
       " ('房屋使用年代中位数^2 街区的纬度 街区的经度', -2.9624526493407065e-05),\n",
       " ('房屋使用年代中位数^2 街区的经度^2', -6.963214097607242e-06),\n",
       " ('房屋使用年代中位数 平均房间数目^3', 0.0001444429572546632),\n",
       " ('房屋使用年代中位数 平均房间数目^2 平均卧室数目', -0.001196113848405589),\n",
       " ('房屋使用年代中位数 平均房间数目^2 街区人口', -1.4301574194237614e-06),\n",
       " ('房屋使用年代中位数 平均房间数目^2 平均入住率', 0.000159066002659987),\n",
       " ('房屋使用年代中位数 平均房间数目^2 街区的纬度', -0.00028196577823388675),\n",
       " ('房屋使用年代中位数 平均房间数目^2 街区的经度', -7.855806282230595e-05),\n",
       " ('房屋使用年代中位数 平均房间数目 平均卧室数目^2', 0.0024537230771097085),\n",
       " ('房屋使用年代中位数 平均房间数目 平均卧室数目 街区人口', 6.690237487984109e-06),\n",
       " ('房屋使用年代中位数 平均房间数目 平均卧室数目 平均入住率', -0.0007428254812070544),\n",
       " ('房屋使用年代中位数 平均房间数目 平均卧室数目 街区的纬度', 0.0014335559316687523),\n",
       " ('房屋使用年代中位数 平均房间数目 平均卧室数目 街区的经度', 0.00028924644195449655),\n",
       " ('房屋使用年代中位数 平均房间数目 街区人口^2', 1.162709306791335e-09),\n",
       " ('房屋使用年代中位数 平均房间数目 街区人口 平均入住率', 6.580330005240358e-06),\n",
       " ('房屋使用年代中位数 平均房间数目 街区人口 街区的纬度', -8.710048656388453e-07),\n",
       " ('房屋使用年代中位数 平均房间数目 街区人口 街区的经度', -5.731975284461104e-07),\n",
       " ('房屋使用年代中位数 平均房间数目 平均入住率^2', -0.0001383367925926385),\n",
       " ('房屋使用年代中位数 平均房间数目 平均入住率 街区的纬度', 0.0012090218069402197),\n",
       " ('房屋使用年代中位数 平均房间数目 平均入住率 街区的经度', 0.00042280874145178554),\n",
       " ('房屋使用年代中位数 平均房间数目 街区的纬度^2', 0.00047499459557108785),\n",
       " ('房屋使用年代中位数 平均房间数目 街区的纬度 街区的经度', 0.00027348990032714137),\n",
       " ('房屋使用年代中位数 平均房间数目 街区的经度^2', 3.4653687277548405e-05),\n",
       " ('房屋使用年代中位数 平均卧室数目^3', 0.0012235109884435632),\n",
       " ('房屋使用年代中位数 平均卧室数目^2 街区人口', -1.4252714063166135e-05),\n",
       " ('房屋使用年代中位数 平均卧室数目^2 平均入住率', 0.0005065618754506979),\n",
       " ('房屋使用年代中位数 平均卧室数目^2 街区的纬度', 0.0001693759284578519),\n",
       " ('房屋使用年代中位数 平均卧室数目^2 街区的经度', 0.0006479362161703833),\n",
       " ('房屋使用年代中位数 平均卧室数目 街区人口^2', -1.6697932539786886e-08),\n",
       " ('房屋使用年代中位数 平均卧室数目 街区人口 平均入住率', -2.5928016823922392e-05),\n",
       " ('房屋使用年代中位数 平均卧室数目 街区人口 街区的纬度', 2.4816060530466613e-05),\n",
       " ('房屋使用年代中位数 平均卧室数目 街区人口 街区的经度', 1.4271164717183892e-05),\n",
       " ('房屋使用年代中位数 平均卧室数目 平均入住率^2', 0.004155193283768537),\n",
       " ('房屋使用年代中位数 平均卧室数目 平均入住率 街区的纬度', 0.0001096736025834733),\n",
       " ('房屋使用年代中位数 平均卧室数目 平均入住率 街区的经度', 0.00018019317181751124),\n",
       " ('房屋使用年代中位数 平均卧室数目 街区的纬度^2', 0.0007655775950592555),\n",
       " ('房屋使用年代中位数 平均卧室数目 街区的纬度 街区的经度', 0.0008440014698248827),\n",
       " ('房屋使用年代中位数 平均卧室数目 街区的经度^2', 0.00018532928462704193),\n",
       " ('房屋使用年代中位数 街区人口^3', -3.089524045396443e-14),\n",
       " ('房屋使用年代中位数 街区人口^2 平均入住率', 3.396619198062093e-11),\n",
       " ('房屋使用年代中位数 街区人口^2 街区的纬度', -3.140402156290962e-10),\n",
       " ('房屋使用年代中位数 街区人口^2 街区的经度', 4.68645624369067e-10),\n",
       " ('房屋使用年代中位数 街区人口 平均入住率^2', -1.1195733219661558e-09),\n",
       " ('房屋使用年代中位数 街区人口 平均入住率 街区的纬度', -2.5893064422134627e-06),\n",
       " ('房屋使用年代中位数 街区人口 平均入住率 街区的经度', -1.5506231476676545e-06),\n",
       " ('房屋使用年代中位数 街区人口 街区的纬度^2', -3.404464627584784e-06),\n",
       " ('房屋使用年代中位数 街区人口 街区的纬度 街区的经度', -3.4509275965250097e-06),\n",
       " ('房屋使用年代中位数 街区人口 街区的经度^2', -6.4685453999485e-07),\n",
       " ('房屋使用年代中位数 平均入住率^3', -0.0001366624374957451),\n",
       " ('房屋使用年代中位数 平均入住率^2 街区的纬度', -0.00039709582816126166),\n",
       " ('房屋使用年代中位数 平均入住率^2 街区的经度', -9.415426828136076e-05),\n",
       " ('房屋使用年代中位数 平均入住率 街区的纬度^2', -0.0011716644708011598),\n",
       " ('房屋使用年代中位数 平均入住率 街区的纬度 街区的经度', -0.0007038922680010719),\n",
       " ('房屋使用年代中位数 平均入住率 街区的经度^2', -0.0001212248907336439),\n",
       " ('房屋使用年代中位数 街区的纬度^3', 0.0001822756562077069),\n",
       " ('房屋使用年代中位数 街区的纬度^2 街区的经度', 9.862938950341091e-05),\n",
       " ('房屋使用年代中位数 街区的纬度 街区的经度^2', 1.6475738770752683e-07),\n",
       " ('房屋使用年代中位数 街区的经度^3', -5.369455807244144e-06),\n",
       " ('平均房间数目^4', -1.0376024687727635e-05),\n",
       " ('平均房间数目^3 平均卧室数目', 0.00010830601428180118),\n",
       " ('平均房间数目^3 街区人口', 1.5847757291668932e-06),\n",
       " ('平均房间数目^3 平均入住率', 0.0008389591119932772),\n",
       " ('平均房间数目^3 街区的纬度', 0.0001311169535508932),\n",
       " ('平均房间数目^3 街区的经度', 8.45167108942974e-05),\n",
       " ('平均房间数目^2 平均卧室数目^2', -0.000212144919225218),\n",
       " ('平均房间数目^2 平均卧室数目 街区人口', -2.804562744748686e-05),\n",
       " ('平均房间数目^2 平均卧室数目 平均入住率', -0.003735849058580903),\n",
       " ('平均房间数目^2 平均卧室数目 街区的纬度', -0.000983824726673003),\n",
       " ('平均房间数目^2 平均卧室数目 街区的经度', -0.0004271804255926087),\n",
       " ('平均房间数目^2 街区人口^2', 7.79201354941171e-09),\n",
       " ('平均房间数目^2 街区人口 平均入住率', 3.5600953640006316e-05),\n",
       " ('平均房间数目^2 街区人口 街区的纬度', 4.79404532589576e-06),\n",
       " ('平均房间数目^2 街区人口 街区的经度', 2.9977478858550485e-06),\n",
       " ('平均房间数目^2 平均入住率^2', -0.0007444091111561165),\n",
       " ('平均房间数目^2 平均入住率 街区的纬度', 0.0009101895162704332),\n",
       " ('平均房间数目^2 平均入住率 街区的经度', 0.0002976269970637189),\n",
       " ('平均房间数目^2 街区的纬度^2', 8.715074305732215e-05),\n",
       " ('平均房间数目^2 街区的纬度 街区的经度', 9.901947385583185e-05),\n",
       " ('平均房间数目^2 街区的经度^2', 3.964327893919462e-05),\n",
       " ('平均房间数目 平均卧室数目^3', -0.00033887446142707084),\n",
       " ('平均房间数目 平均卧室数目^2 街区人口', 0.0001789600107268692),\n",
       " ('平均房间数目 平均卧室数目^2 平均入住率', -0.0013457473567608969),\n",
       " ('平均房间数目 平均卧室数目^2 街区的纬度', -0.0003734365056327224),\n",
       " ('平均房间数目 平均卧室数目^2 街区的经度', -0.0005580376699315635),\n",
       " ('平均房间数目 平均卧室数目 街区人口^2', -1.1192692250775197e-07),\n",
       " ('平均房间数目 平均卧室数目 街区人口 平均入住率', -0.0003540125523727868),\n",
       " ('平均房间数目 平均卧室数目 街区人口 街区的纬度', -9.207862429115583e-05),\n",
       " ('平均房间数目 平均卧室数目 街区人口 街区的经度', -3.525573689516722e-05),\n",
       " ('平均房间数目 平均卧室数目 平均入住率^2', 0.0002058624824435711),\n",
       " ('平均房间数目 平均卧室数目 平均入住率 街区的纬度', -0.00015130092774764376),\n",
       " ('平均房间数目 平均卧室数目 平均入住率 街区的经度', 0.0002493274266834096),\n",
       " ('平均房间数目 平均卧室数目 街区的纬度^2', 0.0006072970550944349),\n",
       " ('平均房间数目 平均卧室数目 街区的纬度 街区的经度', -0.00012197479853505917),\n",
       " ('平均房间数目 平均卧室数目 街区的经度^2', -0.00016645822033625155),\n",
       " ('平均房间数目 街区人口^3', -3.821344314860141e-12),\n",
       " ('平均房间数目 街区人口^2 平均入住率', -3.743230703708166e-10),\n",
       " ('平均房间数目 街区人口^2 街区的纬度', -2.828579564669064e-08),\n",
       " ('平均房间数目 街区人口^2 街区的经度', -2.087034587223936e-08),\n",
       " ('平均房间数目 街区人口 平均入住率^2', -1.1031941505532806e-05),\n",
       " ('平均房间数目 街区人口 平均入住率 街区的纬度', -2.7961428153319638e-05),\n",
       " ('平均房间数目 街区人口 平均入住率 街区的经度', -1.375734115651899e-05),\n",
       " ('平均房间数目 街区人口 街区的纬度^2', -1.4772056251236008e-05),\n",
       " ('平均房间数目 街区人口 街区的纬度 街区的经度', -2.8748210875052348e-06),\n",
       " ('平均房间数目 街区人口 街区的经度^2', -2.796229170948743e-07),\n",
       " ('平均房间数目 平均入住率^3', 0.000900884687750843),\n",
       " ('平均房间数目 平均入住率^2 街区的纬度', 0.0007357092854609144),\n",
       " ('平均房间数目 平均入住率^2 街区的经度', 0.0002384863961538635),\n",
       " ('平均房间数目 平均入住率 街区的纬度^2', -0.0006096161812835361),\n",
       " ('平均房间数目 平均入住率 街区的纬度 街区的经度', 2.0100172978372183e-05),\n",
       " ('平均房间数目 平均入住率 街区的经度^2', 8.77400763854896e-05),\n",
       " ('平均房间数目 街区的纬度^3', -0.0025673590746894347),\n",
       " ('平均房间数目 街区的纬度^2 街区的经度', -0.002445095404543961),\n",
       " ('平均房间数目 街区的纬度 街区的经度^2', -0.0007787240701507943),\n",
       " ('平均房间数目 街区的经度^3', -8.160575277397624e-05),\n",
       " ('平均卧室数目^4', -0.00021364335350139037),\n",
       " ('平均卧室数目^3 街区人口', -0.00036142744479492365),\n",
       " ('平均卧室数目^3 平均入住率', -0.0003801642200812527),\n",
       " ('平均卧室数目^3 街区的纬度', -0.0005445517391773487),\n",
       " ('平均卧室数目^3 街区的经度', 0.0010931719736257377),\n",
       " ('平均卧室数目^2 街区人口^2', 4.066480178663823e-07),\n",
       " ('平均卧室数目^2 街区人口 平均入住率', 0.0012090079292673434),\n",
       " ('平均卧室数目^2 街区人口 街区的纬度', 0.0004009726029612085),\n",
       " ('平均卧室数目^2 街区人口 街区的经度', 0.00014511748529146462),\n",
       " ('平均卧室数目^2 平均入住率^2', 4.38213319945564e-05),\n",
       " ('平均卧室数目^2 平均入住率 街区的纬度', 0.000694517801646555),\n",
       " ('平均卧室数目^2 平均入住率 街区的经度', -0.0025497237083911732),\n",
       " ('平均卧室数目^2 街区的纬度^2', -0.000391283561026794),\n",
       " ('平均卧室数目^2 街区的纬度 街区的经度', 0.0008098899245696806),\n",
       " ('平均卧室数目^2 街区的经度^2', 0.00039611035080222757),\n",
       " ('平均卧室数目 街区人口^3', 3.9186071000476413e-11),\n",
       " ('平均卧室数目 街区人口^2 平均入住率', 1.5343307688922705e-07),\n",
       " ('平均卧室数目 街区人口^2 街区的纬度', 2.554977637415335e-07),\n",
       " ('平均卧室数目 街区人口^2 街区的经度', 1.9429779673220327e-07),\n",
       " ('平均卧室数目 街区人口 平均入住率^2', 5.623967408626904e-05),\n",
       " ('平均卧室数目 街区人口 平均入住率 街区的纬度', 0.0002771190892522804),\n",
       " ('平均卧室数目 街区人口 平均入住率 街区的经度', 9.591690042731693e-05),\n",
       " ('平均卧室数目 街区人口 街区的纬度^2', 5.547895831753381e-05),\n",
       " ('平均卧室数目 街区人口 街区的纬度 街区的经度', 5.722251683119119e-05),\n",
       " ('平均卧室数目 街区人口 街区的经度^2', 1.5799385602588704e-05),\n",
       " ('平均卧室数目 平均入住率^3', -0.0019973071133686285),\n",
       " ('平均卧室数目 平均入住率^2 街区的纬度', 0.0001401222772856915),\n",
       " ('平均卧室数目 平均入住率^2 街区的经度', 0.0002194136433833541),\n",
       " ('平均卧室数目 平均入住率 街区的纬度^2', -0.00044367920694076687),\n",
       " ('平均卧室数目 平均入住率 街区的纬度 街区的经度', 0.0006277584384894304),\n",
       " ('平均卧室数目 平均入住率 街区的经度^2', 0.00018759390493536187),\n",
       " ('平均卧室数目 街区的纬度^3', -0.0004605482234021299),\n",
       " ('平均卧室数目 街区的纬度^2 街区的经度', 4.143816204557372e-05),\n",
       " ('平均卧室数目 街区的纬度 街区的经度^2', 0.00024397408415365788),\n",
       " ('平均卧室数目 街区的经度^3', 5.15884702250778e-05),\n",
       " ('街区人口^4', 2.325207084166725e-16),\n",
       " ('街区人口^3 平均入住率', 9.026059168029334e-13),\n",
       " ('街区人口^3 街区的纬度', 1.6760512863013392e-12),\n",
       " ('街区人口^3 街区的经度', 1.5931131515992762e-12),\n",
       " ('街区人口^2 平均入住率^2', -7.969749824457005e-09),\n",
       " ('街区人口^2 平均入住率 街区的纬度', 2.3949818815134508e-08),\n",
       " ('街区人口^2 平均入住率 街区的经度', 2.3424727157461812e-08),\n",
       " ('街区人口^2 街区的纬度^2', -1.352437489879647e-09),\n",
       " ('街区人口^2 街区的纬度 街区的经度', 8.291152404124157e-10),\n",
       " ('街区人口^2 街区的经度^2', 3.344171601367841e-09),\n",
       " ('街区人口 平均入住率^3', 6.733663341805792e-07),\n",
       " ('街区人口 平均入住率^2 街区的纬度', -5.296739796429491e-06),\n",
       " ('街区人口 平均入住率^2 街区的经度', -1.8278482044716403e-06),\n",
       " ('街区人口 平均入住率 街区的纬度^2', 4.4540762455017725e-06),\n",
       " ('街区人口 平均入住率 街区的纬度 街区的经度', -8.29157947098071e-06),\n",
       " ('街区人口 平均入住率 街区的经度^2', -2.0376877825347767e-06),\n",
       " ('街区人口 街区的纬度^3', 1.3750166609420037e-05),\n",
       " ('街区人口 街区的纬度^2 街区的经度', 2.567924618746204e-05),\n",
       " ('街区人口 街区的纬度 街区的经度^2', 1.1900726334516313e-05),\n",
       " ('街区人口 街区的经度^3', 1.8362712777356341e-06),\n",
       " ('平均入住率^4', 1.6273158552071242e-06),\n",
       " ('平均入住率^3 街区的纬度', 0.0005089083627650565),\n",
       " ('平均入住率^3 街区的经度', 0.00018562224030557273),\n",
       " ('平均入住率^2 街区的纬度^2', 0.00025828275454384654),\n",
       " ('平均入住率^2 街区的纬度 街区的经度', 5.1050959565449364e-05),\n",
       " ('平均入住率^2 街区的经度^2', 1.3455794336829943e-06),\n",
       " ('平均入住率 街区的纬度^3', 0.0005379782230088882),\n",
       " ('平均入住率 街区的纬度^2 街区的经度', 0.00014810542814540538),\n",
       " ('平均入住率 街区的纬度 街区的经度^2', -4.540738983704096e-05),\n",
       " ('平均入住率 街区的经度^3', -9.890535815404664e-06),\n",
       " ('街区的纬度^4', -0.008712994549231565),\n",
       " ('街区的纬度^3 街区的经度', -0.010769795756419155),\n",
       " ('街区的纬度^2 街区的经度^2', -0.004987004567945228),\n",
       " ('街区的纬度 街区的经度^3', -0.0010180132540910309),\n",
       " ('街区的经度^4', -7.603442990811782e-05)]"
      ]
     },
     "execution_count": 180,
     "metadata": {},
     "output_type": "execute_result"
    }
   ],
   "source": [
    "[*zip(poly.get_feature_names(X.columns),reg.coef_)]"
   ]
  },
  {
   "cell_type": "code",
   "execution_count": 181,
   "metadata": {},
   "outputs": [],
   "source": [
    "#放到dataframe中进行排序\n",
    "coeff = pd.DataFrame([poly.get_feature_names(X.columns),reg.coef_.tolist()]).T"
   ]
  },
  {
   "cell_type": "code",
   "execution_count": 182,
   "metadata": {},
   "outputs": [
    {
     "data": {
      "text/html": [
       "<div>\n",
       "<style scoped>\n",
       "    .dataframe tbody tr th:only-of-type {\n",
       "        vertical-align: middle;\n",
       "    }\n",
       "\n",
       "    .dataframe tbody tr th {\n",
       "        vertical-align: top;\n",
       "    }\n",
       "\n",
       "    .dataframe thead th {\n",
       "        text-align: right;\n",
       "    }\n",
       "</style>\n",
       "<table border=\"1\" class=\"dataframe\">\n",
       "  <thead>\n",
       "    <tr style=\"text-align: right;\">\n",
       "      <th></th>\n",
       "      <th>0</th>\n",
       "      <th>1</th>\n",
       "    </tr>\n",
       "  </thead>\n",
       "  <tbody>\n",
       "    <tr>\n",
       "      <th>0</th>\n",
       "      <td>1</td>\n",
       "      <td>0.000313533</td>\n",
       "    </tr>\n",
       "    <tr>\n",
       "      <th>1</th>\n",
       "      <td>住户收入中位数</td>\n",
       "      <td>5.23306e-05</td>\n",
       "    </tr>\n",
       "    <tr>\n",
       "      <th>2</th>\n",
       "      <td>房屋使用年代中位数</td>\n",
       "      <td>-1.8145e-06</td>\n",
       "    </tr>\n",
       "    <tr>\n",
       "      <th>3</th>\n",
       "      <td>平均房间数目</td>\n",
       "      <td>1.22426e-07</td>\n",
       "    </tr>\n",
       "    <tr>\n",
       "      <th>4</th>\n",
       "      <td>平均卧室数目</td>\n",
       "      <td>-2.22157e-07</td>\n",
       "    </tr>\n",
       "  </tbody>\n",
       "</table>\n",
       "</div>"
      ],
      "text/plain": [
       "           0            1\n",
       "0          1  0.000313533\n",
       "1    住户收入中位数  5.23306e-05\n",
       "2  房屋使用年代中位数  -1.8145e-06\n",
       "3     平均房间数目  1.22426e-07\n",
       "4     平均卧室数目 -2.22157e-07"
      ]
     },
     "execution_count": 182,
     "metadata": {},
     "output_type": "execute_result"
    }
   ],
   "source": [
    "coeff.head()"
   ]
  },
  {
   "cell_type": "code",
   "execution_count": 183,
   "metadata": {},
   "outputs": [],
   "source": [
    "coeff.columns = [\"feature\",\"coef\"]"
   ]
  },
  {
   "cell_type": "code",
   "execution_count": 184,
   "metadata": {},
   "outputs": [
    {
     "data": {
      "text/html": [
       "<div>\n",
       "<style scoped>\n",
       "    .dataframe tbody tr th:only-of-type {\n",
       "        vertical-align: middle;\n",
       "    }\n",
       "\n",
       "    .dataframe tbody tr th {\n",
       "        vertical-align: top;\n",
       "    }\n",
       "\n",
       "    .dataframe thead th {\n",
       "        text-align: right;\n",
       "    }\n",
       "</style>\n",
       "<table border=\"1\" class=\"dataframe\">\n",
       "  <thead>\n",
       "    <tr style=\"text-align: right;\">\n",
       "      <th></th>\n",
       "      <th>feature</th>\n",
       "      <th>coef</th>\n",
       "    </tr>\n",
       "  </thead>\n",
       "  <tbody>\n",
       "    <tr>\n",
       "      <th>491</th>\n",
       "      <td>街区的纬度^3 街区的经度</td>\n",
       "      <td>-0.0107698</td>\n",
       "    </tr>\n",
       "    <tr>\n",
       "      <th>490</th>\n",
       "      <td>街区的纬度^4</td>\n",
       "      <td>-0.00871299</td>\n",
       "    </tr>\n",
       "    <tr>\n",
       "      <th>492</th>\n",
       "      <td>街区的纬度^2 街区的经度^2</td>\n",
       "      <td>-0.004987</td>\n",
       "    </tr>\n",
       "    <tr>\n",
       "      <th>377</th>\n",
       "      <td>平均房间数目^2 平均卧室数目 平均入住率</td>\n",
       "      <td>-0.00373585</td>\n",
       "    </tr>\n",
       "    <tr>\n",
       "      <th>421</th>\n",
       "      <td>平均房间数目 街区的纬度^3</td>\n",
       "      <td>-0.00256736</td>\n",
       "    </tr>\n",
       "    <tr>\n",
       "      <th>...</th>\n",
       "      <td>...</td>\n",
       "      <td>...</td>\n",
       "    </tr>\n",
       "    <tr>\n",
       "      <th>38</th>\n",
       "      <td>街区人口 街区的经度</td>\n",
       "      <td>0.00209199</td>\n",
       "    </tr>\n",
       "    <tr>\n",
       "      <th>183</th>\n",
       "      <td>住户收入中位数^2 平均房间数目 平均入住率</td>\n",
       "      <td>0.00211357</td>\n",
       "    </tr>\n",
       "    <tr>\n",
       "      <th>319</th>\n",
       "      <td>房屋使用年代中位数 平均房间数目 平均卧室数目^2</td>\n",
       "      <td>0.00245372</td>\n",
       "    </tr>\n",
       "    <tr>\n",
       "      <th>168</th>\n",
       "      <td>住户收入中位数^3 平均卧室数目</td>\n",
       "      <td>0.00288792</td>\n",
       "    </tr>\n",
       "    <tr>\n",
       "      <th>343</th>\n",
       "      <td>房屋使用年代中位数 平均卧室数目 平均入住率^2</td>\n",
       "      <td>0.00415519</td>\n",
       "    </tr>\n",
       "  </tbody>\n",
       "</table>\n",
       "<p>495 rows × 2 columns</p>\n",
       "</div>"
      ],
      "text/plain": [
       "                       feature        coef\n",
       "491              街区的纬度^3 街区的经度  -0.0107698\n",
       "490                    街区的纬度^4 -0.00871299\n",
       "492            街区的纬度^2 街区的经度^2   -0.004987\n",
       "377      平均房间数目^2 平均卧室数目 平均入住率 -0.00373585\n",
       "421             平均房间数目 街区的纬度^3 -0.00256736\n",
       "..                         ...         ...\n",
       "38                  街区人口 街区的经度  0.00209199\n",
       "183     住户收入中位数^2 平均房间数目 平均入住率  0.00211357\n",
       "319  房屋使用年代中位数 平均房间数目 平均卧室数目^2  0.00245372\n",
       "168           住户收入中位数^3 平均卧室数目  0.00288792\n",
       "343   房屋使用年代中位数 平均卧室数目 平均入住率^2  0.00415519\n",
       "\n",
       "[495 rows x 2 columns]"
      ]
     },
     "execution_count": 184,
     "metadata": {},
     "output_type": "execute_result"
    }
   ],
   "source": [
    "coeff.sort_values(by=\"coef\")"
   ]
  },
  {
   "cell_type": "code",
   "execution_count": 185,
   "metadata": {},
   "outputs": [],
   "source": [
    "#顺便可以查看一下多项式变化之后，模型的拟合效果如何了\n",
    "poly = PolynomialFeatures(degree=4).fit(X,y)\n",
    "X_ = poly.transform(X)"
   ]
  },
  {
   "cell_type": "code",
   "execution_count": 186,
   "metadata": {},
   "outputs": [
    {
     "data": {
      "text/plain": [
       "0.6062326851998049"
      ]
     },
     "execution_count": 186,
     "metadata": {},
     "output_type": "execute_result"
    }
   ],
   "source": [
    "reg = LinearRegression().fit(X,y)\n",
    "reg.score(X,y)"
   ]
  },
  {
   "cell_type": "code",
   "execution_count": 187,
   "metadata": {},
   "outputs": [
    {
     "name": "stdout",
     "output_type": "stream",
     "text": [
      "R2:0.7444574831043657\n",
      "time:1.8658502101898193\n"
     ]
    }
   ],
   "source": [
    "from time import time\n",
    "time0 = time()\n",
    "reg_ = LinearRegression().fit(X_,y)\n",
    "print(\"R2:{}\".format(reg_.score(X_,y)))\n",
    "print(\"time:{}\".format(time()-time0))"
   ]
  },
  {
   "cell_type": "code",
   "execution_count": 188,
   "metadata": {},
   "outputs": [
    {
     "name": "stdout",
     "output_type": "stream",
     "text": [
      "R2:0.9744890435615997\n",
      "time:17.666131258010864\n"
     ]
    }
   ],
   "source": [
    "#假设使用其他模型？\n",
    "from sklearn.ensemble import RandomForestRegressor as RFR\n",
    "\n",
    "time0 = time()\n",
    "print(\"R2:{}\".format(RFR(n_estimators=100).fit(X,y).score(X,y)))\n",
    "print(\"time:{}\".format(time()-time0))"
   ]
  }
 ],
 "metadata": {
  "kernelspec": {
   "display_name": "Python 3",
   "language": "python",
   "name": "python3"
  },
  "language_info": {
   "codemirror_mode": {
    "name": "ipython",
    "version": 3
   },
   "file_extension": ".py",
   "mimetype": "text/x-python",
   "name": "python",
   "nbconvert_exporter": "python",
   "pygments_lexer": "ipython3",
   "version": "3.7.7"
  }
 },
 "nbformat": 4,
 "nbformat_minor": 2
}
